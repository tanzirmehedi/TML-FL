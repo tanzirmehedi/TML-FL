{
 "cells": [
  {
   "cell_type": "code",
   "execution_count": 1,
   "metadata": {},
   "outputs": [
    {
     "name": "stderr",
     "output_type": "stream",
     "text": [
      "Installing package into 'C:/Users/SHAWON-PC/Documents/R/win-library/3.6'\n",
      "(as 'lib' is unspecified)\n"
     ]
    },
    {
     "name": "stdout",
     "output_type": "stream",
     "text": [
      "package 'Hmisc' successfully unpacked and MD5 sums checked\n",
      "\n",
      "The downloaded binary packages are in\n",
      "\tC:\\Users\\SHAWON-PC\\AppData\\Local\\Temp\\Rtmpmomc5l\\downloaded_packages\n"
     ]
    },
    {
     "name": "stderr",
     "output_type": "stream",
     "text": [
      "Installing package into 'C:/Users/SHAWON-PC/Documents/R/win-library/3.6'\n",
      "(as 'lib' is unspecified)\n"
     ]
    },
    {
     "name": "stdout",
     "output_type": "stream",
     "text": [
      "package 'caret' successfully unpacked and MD5 sums checked\n",
      "\n",
      "The downloaded binary packages are in\n",
      "\tC:\\Users\\SHAWON-PC\\AppData\\Local\\Temp\\Rtmpmomc5l\\downloaded_packages\n"
     ]
    },
    {
     "name": "stderr",
     "output_type": "stream",
     "text": [
      "Installing package into 'C:/Users/SHAWON-PC/Documents/R/win-library/3.6'\n",
      "(as 'lib' is unspecified)\n"
     ]
    },
    {
     "name": "stdout",
     "output_type": "stream",
     "text": [
      "package 'mlbench' successfully unpacked and MD5 sums checked\n",
      "\n",
      "The downloaded binary packages are in\n",
      "\tC:\\Users\\SHAWON-PC\\AppData\\Local\\Temp\\Rtmpmomc5l\\downloaded_packages\n"
     ]
    },
    {
     "name": "stderr",
     "output_type": "stream",
     "text": [
      "Installing package into 'C:/Users/SHAWON-PC/Documents/R/win-library/3.6'\n",
      "(as 'lib' is unspecified)\n"
     ]
    },
    {
     "name": "stdout",
     "output_type": "stream",
     "text": [
      "package 'ggcorrplot' successfully unpacked and MD5 sums checked\n",
      "\n",
      "The downloaded binary packages are in\n",
      "\tC:\\Users\\SHAWON-PC\\AppData\\Local\\Temp\\Rtmpmomc5l\\downloaded_packages\n"
     ]
    },
    {
     "name": "stderr",
     "output_type": "stream",
     "text": [
      "Installing package into 'C:/Users/SHAWON-PC/Documents/R/win-library/3.6'\n",
      "(as 'lib' is unspecified)\n"
     ]
    },
    {
     "name": "stdout",
     "output_type": "stream",
     "text": [
      "package 'e1071' successfully unpacked and MD5 sums checked\n",
      "\n",
      "The downloaded binary packages are in\n",
      "\tC:\\Users\\SHAWON-PC\\AppData\\Local\\Temp\\Rtmpmomc5l\\downloaded_packages\n"
     ]
    },
    {
     "name": "stderr",
     "output_type": "stream",
     "text": [
      "Installing package into 'C:/Users/SHAWON-PC/Documents/R/win-library/3.6'\n",
      "(as 'lib' is unspecified)\n"
     ]
    },
    {
     "name": "stdout",
     "output_type": "stream",
     "text": [
      "package 'scales' successfully unpacked and MD5 sums checked\n",
      "\n",
      "The downloaded binary packages are in\n",
      "\tC:\\Users\\SHAWON-PC\\AppData\\Local\\Temp\\Rtmpmomc5l\\downloaded_packages\n"
     ]
    },
    {
     "name": "stderr",
     "output_type": "stream",
     "text": [
      "Installing package into 'C:/Users/SHAWON-PC/Documents/R/win-library/3.6'\n",
      "(as 'lib' is unspecified)\n"
     ]
    },
    {
     "name": "stdout",
     "output_type": "stream",
     "text": [
      "package 'caTools' successfully unpacked and MD5 sums checked\n",
      "\n",
      "The downloaded binary packages are in\n",
      "\tC:\\Users\\SHAWON-PC\\AppData\\Local\\Temp\\Rtmpmomc5l\\downloaded_packages\n"
     ]
    }
   ],
   "source": [
    "install.packages(\"Hmisc\")\n",
    "install.packages(\"caret\")\n",
    "install.packages(\"mlbench\")\n",
    "install.packages(\"ggcorrplot\")\n",
    "install.packages(\"e1071\")\n",
    "install.packages(\"scales\")\n",
    "install.packages(\"caTools\")"
   ]
  },
  {
   "cell_type": "code",
   "execution_count": 2,
   "metadata": {},
   "outputs": [
    {
     "name": "stderr",
     "output_type": "stream",
     "text": [
      "Warning message:\n",
      "\"package 'Hmisc' was built under R version 3.6.3\"Loading required package: lattice\n",
      "Loading required package: survival\n",
      "Warning message:\n",
      "\"package 'survival' was built under R version 3.6.3\"Loading required package: Formula\n",
      "Loading required package: ggplot2\n",
      "\n",
      "Attaching package: 'Hmisc'\n",
      "\n",
      "The following objects are masked from 'package:base':\n",
      "\n",
      "    format.pval, units\n",
      "\n",
      "Warning message:\n",
      "\"package 'caret' was built under R version 3.6.3\"\n",
      "Attaching package: 'caret'\n",
      "\n",
      "The following object is masked from 'package:survival':\n",
      "\n",
      "    cluster\n",
      "\n",
      "Warning message:\n",
      "\"package 'mlbench' was built under R version 3.6.3\"Warning message:\n",
      "\"package 'ggcorrplot' was built under R version 3.6.3\"Warning message:\n",
      "\"package 'e1071' was built under R version 3.6.3\"\n",
      "Attaching package: 'e1071'\n",
      "\n",
      "The following object is masked from 'package:Hmisc':\n",
      "\n",
      "    impute\n",
      "\n",
      "Warning message:\n",
      "\"package 'scales' was built under R version 3.6.3\"Warning message:\n",
      "\"package 'caTools' was built under R version 3.6.3\""
     ]
    }
   ],
   "source": [
    "library(Hmisc)\n",
    "library(caret)\n",
    "library(mlbench)\n",
    "library(ggcorrplot)\n",
    "library(e1071)\n",
    "library(scales)\n",
    "library(caTools)"
   ]
  },
  {
   "cell_type": "code",
   "execution_count": 4,
   "metadata": {},
   "outputs": [],
   "source": [
    "data <- read.csv(\"F:/Shawon/Research Collaberation/Combined Dataset/Orginal Dataset/Combined_IoT_dataset.csv\")"
   ]
  },
  {
   "cell_type": "code",
   "execution_count": 5,
   "metadata": {},
   "outputs": [
    {
     "data": {
      "text/html": [
       "<table>\n",
       "<caption>A data.frame: 6 × 22</caption>\n",
       "<thead>\n",
       "\t<tr><th scope=col>ts</th><th scope=col>date</th><th scope=col>time</th><th scope=col>FC1_Read_Input_Register</th><th scope=col>FC2_Read_Discrete_Value</th><th scope=col>FC3_Read_Holding_Register</th><th scope=col>FC4_Read_Coil</th><th scope=col>current_temperature</th><th scope=col>door_state</th><th scope=col>fridge_temperature</th><th scope=col>...</th><th scope=col>light_status</th><th scope=col>longitude</th><th scope=col>motion_status</th><th scope=col>pressure</th><th scope=col>sphone_signal</th><th scope=col>temp_condition</th><th scope=col>temperature</th><th scope=col>thermostat_status</th><th scope=col>label</th><th scope=col>type</th></tr>\n",
       "\t<tr><th scope=col>&lt;int&gt;</th><th scope=col>&lt;fct&gt;</th><th scope=col>&lt;fct&gt;</th><th scope=col>&lt;int&gt;</th><th scope=col>&lt;int&gt;</th><th scope=col>&lt;int&gt;</th><th scope=col>&lt;int&gt;</th><th scope=col>&lt;dbl&gt;</th><th scope=col>&lt;fct&gt;</th><th scope=col>&lt;dbl&gt;</th><th scope=col>...</th><th scope=col>&lt;fct&gt;</th><th scope=col>&lt;dbl&gt;</th><th scope=col>&lt;int&gt;</th><th scope=col>&lt;dbl&gt;</th><th scope=col>&lt;fct&gt;</th><th scope=col>&lt;fct&gt;</th><th scope=col>&lt;dbl&gt;</th><th scope=col>&lt;int&gt;</th><th scope=col>&lt;int&gt;</th><th scope=col>&lt;fct&gt;</th></tr>\n",
       "</thead>\n",
       "<tbody>\n",
       "\t<tr><td>1554061012</td><td>31-Mar-19</td><td>   12:36:52   </td><td>32450</td><td>32708</td><td>32035</td><td>32728</td><td>28.44269</td><td>closed</td><td>13.10</td><td>...</td><td> off</td><td>14.42195</td><td>0</td><td>1.035</td><td>false  </td><td>high </td><td>35.77361</td><td>1</td><td>0</td><td>normal</td></tr>\n",
       "\t<tr><td>1554061013</td><td>31-Mar-19</td><td>   12:36:53   </td><td>32450</td><td>32708</td><td>32035</td><td>32728</td><td>28.44269</td><td>closed</td><td> 8.65</td><td>...</td><td> off</td><td>14.42195</td><td>0</td><td>1.035</td><td>false  </td><td>high </td><td>35.77361</td><td>1</td><td>0</td><td>normal</td></tr>\n",
       "\t<tr><td>1554061014</td><td>31-Mar-19</td><td>   12:36:54   </td><td>32450</td><td>32708</td><td>32035</td><td>32728</td><td>28.44269</td><td>closed</td><td> 2.00</td><td>...</td><td> off</td><td>14.42195</td><td>0</td><td>1.035</td><td>false  </td><td>low  </td><td>35.77361</td><td>1</td><td>0</td><td>normal</td></tr>\n",
       "\t<tr><td>1554061015</td><td>31-Mar-19</td><td>   12:36:55   </td><td>32450</td><td>32708</td><td>32035</td><td>32728</td><td>28.44269</td><td>closed</td><td> 4.80</td><td>...</td><td> off</td><td>14.42195</td><td>0</td><td>1.035</td><td>false  </td><td>low  </td><td>35.77361</td><td>1</td><td>0</td><td>normal</td></tr>\n",
       "\t<tr><td>1554061016</td><td>31-Mar-19</td><td>   12:36:56   </td><td>32450</td><td>32708</td><td>32035</td><td>32728</td><td>28.44269</td><td>closed</td><td>10.70</td><td>...</td><td> off</td><td>14.42195</td><td>0</td><td>1.035</td><td>false  </td><td>high </td><td>35.77361</td><td>1</td><td>0</td><td>normal</td></tr>\n",
       "\t<tr><td>1554061017</td><td>31-Mar-19</td><td>   12:36:57   </td><td>32450</td><td>32708</td><td>32035</td><td>32728</td><td>28.44269</td><td>closed</td><td> 5.00</td><td>...</td><td> off</td><td>14.42195</td><td>0</td><td>1.035</td><td>false  </td><td>low  </td><td>35.77361</td><td>1</td><td>0</td><td>normal</td></tr>\n",
       "</tbody>\n",
       "</table>\n"
      ],
      "text/latex": [
       "A data.frame: 6 × 22\n",
       "\\begin{tabular}{r|llllllllllllllllllllll}\n",
       " ts & date & time & FC1\\_Read\\_Input\\_Register & FC2\\_Read\\_Discrete\\_Value & FC3\\_Read\\_Holding\\_Register & FC4\\_Read\\_Coil & current\\_temperature & door\\_state & fridge\\_temperature & humidity & latitude & light\\_status & longitude & motion\\_status & pressure & sphone\\_signal & temp\\_condition & temperature & thermostat\\_status & label & type\\\\\n",
       " <int> & <fct> & <fct> & <int> & <int> & <int> & <int> & <dbl> & <fct> & <dbl> & <dbl> & <dbl> & <fct> & <dbl> & <int> & <dbl> & <fct> & <fct> & <dbl> & <int> & <int> & <fct>\\\\\n",
       "\\hline\n",
       "\t 1554061012 & 31-Mar-19 &    12:36:52    & 32450 & 32708 & 32035 & 32728 & 28.44269 & closed & 13.10 & 46.34362 & 4.514077 &  off & 14.42195 & 0 & 1.035 & false   & high  & 35.77361 & 1 & 0 & normal\\\\\n",
       "\t 1554061013 & 31-Mar-19 &    12:36:53    & 32450 & 32708 & 32035 & 32728 & 28.44269 & closed &  8.65 & 46.34362 & 4.514077 &  off & 14.42195 & 0 & 1.035 & false   & high  & 35.77361 & 1 & 0 & normal\\\\\n",
       "\t 1554061014 & 31-Mar-19 &    12:36:54    & 32450 & 32708 & 32035 & 32728 & 28.44269 & closed &  2.00 & 46.34362 & 4.514077 &  off & 14.42195 & 0 & 1.035 & false   & low   & 35.77361 & 1 & 0 & normal\\\\\n",
       "\t 1554061015 & 31-Mar-19 &    12:36:55    & 32450 & 32708 & 32035 & 32728 & 28.44269 & closed &  4.80 & 46.34362 & 4.514077 &  off & 14.42195 & 0 & 1.035 & false   & low   & 35.77361 & 1 & 0 & normal\\\\\n",
       "\t 1554061016 & 31-Mar-19 &    12:36:56    & 32450 & 32708 & 32035 & 32728 & 28.44269 & closed & 10.70 & 46.34362 & 4.514077 &  off & 14.42195 & 0 & 1.035 & false   & high  & 35.77361 & 1 & 0 & normal\\\\\n",
       "\t 1554061017 & 31-Mar-19 &    12:36:57    & 32450 & 32708 & 32035 & 32728 & 28.44269 & closed &  5.00 & 46.34362 & 4.514077 &  off & 14.42195 & 0 & 1.035 & false   & low   & 35.77361 & 1 & 0 & normal\\\\\n",
       "\\end{tabular}\n"
      ],
      "text/markdown": [
       "\n",
       "A data.frame: 6 × 22\n",
       "\n",
       "| ts &lt;int&gt; | date &lt;fct&gt; | time &lt;fct&gt; | FC1_Read_Input_Register &lt;int&gt; | FC2_Read_Discrete_Value &lt;int&gt; | FC3_Read_Holding_Register &lt;int&gt; | FC4_Read_Coil &lt;int&gt; | current_temperature &lt;dbl&gt; | door_state &lt;fct&gt; | fridge_temperature &lt;dbl&gt; | ... ... | light_status &lt;fct&gt; | longitude &lt;dbl&gt; | motion_status &lt;int&gt; | pressure &lt;dbl&gt; | sphone_signal &lt;fct&gt; | temp_condition &lt;fct&gt; | temperature &lt;dbl&gt; | thermostat_status &lt;int&gt; | label &lt;int&gt; | type &lt;fct&gt; |\n",
       "|---|---|---|---|---|---|---|---|---|---|---|---|---|---|---|---|---|---|---|---|---|\n",
       "| 1554061012 | 31-Mar-19 |    12:36:52    | 32450 | 32708 | 32035 | 32728 | 28.44269 | closed | 13.10 | ... |  off | 14.42195 | 0 | 1.035 | false   | high  | 35.77361 | 1 | 0 | normal |\n",
       "| 1554061013 | 31-Mar-19 |    12:36:53    | 32450 | 32708 | 32035 | 32728 | 28.44269 | closed |  8.65 | ... |  off | 14.42195 | 0 | 1.035 | false   | high  | 35.77361 | 1 | 0 | normal |\n",
       "| 1554061014 | 31-Mar-19 |    12:36:54    | 32450 | 32708 | 32035 | 32728 | 28.44269 | closed |  2.00 | ... |  off | 14.42195 | 0 | 1.035 | false   | low   | 35.77361 | 1 | 0 | normal |\n",
       "| 1554061015 | 31-Mar-19 |    12:36:55    | 32450 | 32708 | 32035 | 32728 | 28.44269 | closed |  4.80 | ... |  off | 14.42195 | 0 | 1.035 | false   | low   | 35.77361 | 1 | 0 | normal |\n",
       "| 1554061016 | 31-Mar-19 |    12:36:56    | 32450 | 32708 | 32035 | 32728 | 28.44269 | closed | 10.70 | ... |  off | 14.42195 | 0 | 1.035 | false   | high  | 35.77361 | 1 | 0 | normal |\n",
       "| 1554061017 | 31-Mar-19 |    12:36:57    | 32450 | 32708 | 32035 | 32728 | 28.44269 | closed |  5.00 | ... |  off | 14.42195 | 0 | 1.035 | false   | low   | 35.77361 | 1 | 0 | normal |\n",
       "\n"
      ],
      "text/plain": [
       "  ts         date      time           FC1_Read_Input_Register\n",
       "1 1554061012 31-Mar-19    12:36:52    32450                  \n",
       "2 1554061013 31-Mar-19    12:36:53    32450                  \n",
       "3 1554061014 31-Mar-19    12:36:54    32450                  \n",
       "4 1554061015 31-Mar-19    12:36:55    32450                  \n",
       "5 1554061016 31-Mar-19    12:36:56    32450                  \n",
       "6 1554061017 31-Mar-19    12:36:57    32450                  \n",
       "  FC2_Read_Discrete_Value FC3_Read_Holding_Register FC4_Read_Coil\n",
       "1 32708                   32035                     32728        \n",
       "2 32708                   32035                     32728        \n",
       "3 32708                   32035                     32728        \n",
       "4 32708                   32035                     32728        \n",
       "5 32708                   32035                     32728        \n",
       "6 32708                   32035                     32728        \n",
       "  current_temperature door_state fridge_temperature ... light_status longitude\n",
       "1 28.44269            closed     13.10              ...  off         14.42195 \n",
       "2 28.44269            closed      8.65              ...  off         14.42195 \n",
       "3 28.44269            closed      2.00              ...  off         14.42195 \n",
       "4 28.44269            closed      4.80              ...  off         14.42195 \n",
       "5 28.44269            closed     10.70              ...  off         14.42195 \n",
       "6 28.44269            closed      5.00              ...  off         14.42195 \n",
       "  motion_status pressure sphone_signal temp_condition temperature\n",
       "1 0             1.035    false         high           35.77361   \n",
       "2 0             1.035    false         high           35.77361   \n",
       "3 0             1.035    false         low            35.77361   \n",
       "4 0             1.035    false         low            35.77361   \n",
       "5 0             1.035    false         high           35.77361   \n",
       "6 0             1.035    false         low            35.77361   \n",
       "  thermostat_status label type  \n",
       "1 1                 0     normal\n",
       "2 1                 0     normal\n",
       "3 1                 0     normal\n",
       "4 1                 0     normal\n",
       "5 1                 0     normal\n",
       "6 1                 0     normal"
      ]
     },
     "metadata": {},
     "output_type": "display_data"
    }
   ],
   "source": [
    "head(data)"
   ]
  },
  {
   "cell_type": "code",
   "execution_count": 6,
   "metadata": {},
   "outputs": [
    {
     "data": {
      "text/html": [
       "<table>\n",
       "<caption>A data.frame: 6 × 22</caption>\n",
       "<thead>\n",
       "\t<tr><th scope=col>ts</th><th scope=col>date</th><th scope=col>time</th><th scope=col>FC1_Read_Input_Register</th><th scope=col>FC2_Read_Discrete_Value</th><th scope=col>FC3_Read_Holding_Register</th><th scope=col>FC4_Read_Coil</th><th scope=col>current_temperature</th><th scope=col>door_state</th><th scope=col>fridge_temperature</th><th scope=col>...</th><th scope=col>light_status</th><th scope=col>longitude</th><th scope=col>motion_status</th><th scope=col>pressure</th><th scope=col>sphone_signal</th><th scope=col>temp_condition</th><th scope=col>temperature</th><th scope=col>thermostat_status</th><th scope=col>label</th><th scope=col>type</th></tr>\n",
       "\t<tr><th scope=col>&lt;int&gt;</th><th scope=col>&lt;fct&gt;</th><th scope=col>&lt;fct&gt;</th><th scope=col>&lt;int&gt;</th><th scope=col>&lt;int&gt;</th><th scope=col>&lt;int&gt;</th><th scope=col>&lt;int&gt;</th><th scope=col>&lt;dbl&gt;</th><th scope=col>&lt;fct&gt;</th><th scope=col>&lt;dbl&gt;</th><th scope=col>...</th><th scope=col>&lt;fct&gt;</th><th scope=col>&lt;dbl&gt;</th><th scope=col>&lt;int&gt;</th><th scope=col>&lt;dbl&gt;</th><th scope=col>&lt;fct&gt;</th><th scope=col>&lt;fct&gt;</th><th scope=col>&lt;dbl&gt;</th><th scope=col>&lt;int&gt;</th><th scope=col>&lt;int&gt;</th><th scope=col>&lt;fct&gt;</th></tr>\n",
       "</thead>\n",
       "<tbody>\n",
       "\t<tr><td>1554061012</td><td>31-Mar-19</td><td>   12:36:52   </td><td>32450</td><td>32708</td><td>32035</td><td>32728</td><td>28.44269</td><td>closed</td><td>13.10</td><td>...</td><td> off</td><td>14.42195</td><td>0</td><td>1.035</td><td>false  </td><td>high </td><td>35.77361</td><td>1</td><td>0</td><td>normal</td></tr>\n",
       "\t<tr><td>1554061013</td><td>31-Mar-19</td><td>   12:36:53   </td><td>32450</td><td>32708</td><td>32035</td><td>32728</td><td>28.44269</td><td>closed</td><td> 8.65</td><td>...</td><td> off</td><td>14.42195</td><td>0</td><td>1.035</td><td>false  </td><td>high </td><td>35.77361</td><td>1</td><td>0</td><td>normal</td></tr>\n",
       "\t<tr><td>1554061014</td><td>31-Mar-19</td><td>   12:36:54   </td><td>32450</td><td>32708</td><td>32035</td><td>32728</td><td>28.44269</td><td>closed</td><td> 2.00</td><td>...</td><td> off</td><td>14.42195</td><td>0</td><td>1.035</td><td>false  </td><td>low  </td><td>35.77361</td><td>1</td><td>0</td><td>normal</td></tr>\n",
       "\t<tr><td>1554061015</td><td>31-Mar-19</td><td>   12:36:55   </td><td>32450</td><td>32708</td><td>32035</td><td>32728</td><td>28.44269</td><td>closed</td><td> 4.80</td><td>...</td><td> off</td><td>14.42195</td><td>0</td><td>1.035</td><td>false  </td><td>low  </td><td>35.77361</td><td>1</td><td>0</td><td>normal</td></tr>\n",
       "\t<tr><td>1554061016</td><td>31-Mar-19</td><td>   12:36:56   </td><td>32450</td><td>32708</td><td>32035</td><td>32728</td><td>28.44269</td><td>closed</td><td>10.70</td><td>...</td><td> off</td><td>14.42195</td><td>0</td><td>1.035</td><td>false  </td><td>high </td><td>35.77361</td><td>1</td><td>0</td><td>normal</td></tr>\n",
       "\t<tr><td>1554061017</td><td>31-Mar-19</td><td>   12:36:57   </td><td>32450</td><td>32708</td><td>32035</td><td>32728</td><td>28.44269</td><td>closed</td><td> 5.00</td><td>...</td><td> off</td><td>14.42195</td><td>0</td><td>1.035</td><td>false  </td><td>low  </td><td>35.77361</td><td>1</td><td>0</td><td>normal</td></tr>\n",
       "</tbody>\n",
       "</table>\n"
      ],
      "text/latex": [
       "A data.frame: 6 × 22\n",
       "\\begin{tabular}{r|llllllllllllllllllllll}\n",
       " ts & date & time & FC1\\_Read\\_Input\\_Register & FC2\\_Read\\_Discrete\\_Value & FC3\\_Read\\_Holding\\_Register & FC4\\_Read\\_Coil & current\\_temperature & door\\_state & fridge\\_temperature & humidity & latitude & light\\_status & longitude & motion\\_status & pressure & sphone\\_signal & temp\\_condition & temperature & thermostat\\_status & label & type\\\\\n",
       " <int> & <fct> & <fct> & <int> & <int> & <int> & <int> & <dbl> & <fct> & <dbl> & <dbl> & <dbl> & <fct> & <dbl> & <int> & <dbl> & <fct> & <fct> & <dbl> & <int> & <int> & <fct>\\\\\n",
       "\\hline\n",
       "\t 1554061012 & 31-Mar-19 &    12:36:52    & 32450 & 32708 & 32035 & 32728 & 28.44269 & closed & 13.10 & 46.34362 & 4.514077 &  off & 14.42195 & 0 & 1.035 & false   & high  & 35.77361 & 1 & 0 & normal\\\\\n",
       "\t 1554061013 & 31-Mar-19 &    12:36:53    & 32450 & 32708 & 32035 & 32728 & 28.44269 & closed &  8.65 & 46.34362 & 4.514077 &  off & 14.42195 & 0 & 1.035 & false   & high  & 35.77361 & 1 & 0 & normal\\\\\n",
       "\t 1554061014 & 31-Mar-19 &    12:36:54    & 32450 & 32708 & 32035 & 32728 & 28.44269 & closed &  2.00 & 46.34362 & 4.514077 &  off & 14.42195 & 0 & 1.035 & false   & low   & 35.77361 & 1 & 0 & normal\\\\\n",
       "\t 1554061015 & 31-Mar-19 &    12:36:55    & 32450 & 32708 & 32035 & 32728 & 28.44269 & closed &  4.80 & 46.34362 & 4.514077 &  off & 14.42195 & 0 & 1.035 & false   & low   & 35.77361 & 1 & 0 & normal\\\\\n",
       "\t 1554061016 & 31-Mar-19 &    12:36:56    & 32450 & 32708 & 32035 & 32728 & 28.44269 & closed & 10.70 & 46.34362 & 4.514077 &  off & 14.42195 & 0 & 1.035 & false   & high  & 35.77361 & 1 & 0 & normal\\\\\n",
       "\t 1554061017 & 31-Mar-19 &    12:36:57    & 32450 & 32708 & 32035 & 32728 & 28.44269 & closed &  5.00 & 46.34362 & 4.514077 &  off & 14.42195 & 0 & 1.035 & false   & low   & 35.77361 & 1 & 0 & normal\\\\\n",
       "\\end{tabular}\n"
      ],
      "text/markdown": [
       "\n",
       "A data.frame: 6 × 22\n",
       "\n",
       "| ts &lt;int&gt; | date &lt;fct&gt; | time &lt;fct&gt; | FC1_Read_Input_Register &lt;int&gt; | FC2_Read_Discrete_Value &lt;int&gt; | FC3_Read_Holding_Register &lt;int&gt; | FC4_Read_Coil &lt;int&gt; | current_temperature &lt;dbl&gt; | door_state &lt;fct&gt; | fridge_temperature &lt;dbl&gt; | ... ... | light_status &lt;fct&gt; | longitude &lt;dbl&gt; | motion_status &lt;int&gt; | pressure &lt;dbl&gt; | sphone_signal &lt;fct&gt; | temp_condition &lt;fct&gt; | temperature &lt;dbl&gt; | thermostat_status &lt;int&gt; | label &lt;int&gt; | type &lt;fct&gt; |\n",
       "|---|---|---|---|---|---|---|---|---|---|---|---|---|---|---|---|---|---|---|---|---|\n",
       "| 1554061012 | 31-Mar-19 |    12:36:52    | 32450 | 32708 | 32035 | 32728 | 28.44269 | closed | 13.10 | ... |  off | 14.42195 | 0 | 1.035 | false   | high  | 35.77361 | 1 | 0 | normal |\n",
       "| 1554061013 | 31-Mar-19 |    12:36:53    | 32450 | 32708 | 32035 | 32728 | 28.44269 | closed |  8.65 | ... |  off | 14.42195 | 0 | 1.035 | false   | high  | 35.77361 | 1 | 0 | normal |\n",
       "| 1554061014 | 31-Mar-19 |    12:36:54    | 32450 | 32708 | 32035 | 32728 | 28.44269 | closed |  2.00 | ... |  off | 14.42195 | 0 | 1.035 | false   | low   | 35.77361 | 1 | 0 | normal |\n",
       "| 1554061015 | 31-Mar-19 |    12:36:55    | 32450 | 32708 | 32035 | 32728 | 28.44269 | closed |  4.80 | ... |  off | 14.42195 | 0 | 1.035 | false   | low   | 35.77361 | 1 | 0 | normal |\n",
       "| 1554061016 | 31-Mar-19 |    12:36:56    | 32450 | 32708 | 32035 | 32728 | 28.44269 | closed | 10.70 | ... |  off | 14.42195 | 0 | 1.035 | false   | high  | 35.77361 | 1 | 0 | normal |\n",
       "| 1554061017 | 31-Mar-19 |    12:36:57    | 32450 | 32708 | 32035 | 32728 | 28.44269 | closed |  5.00 | ... |  off | 14.42195 | 0 | 1.035 | false   | low   | 35.77361 | 1 | 0 | normal |\n",
       "\n"
      ],
      "text/plain": [
       "  ts         date      time           FC1_Read_Input_Register\n",
       "1 1554061012 31-Mar-19    12:36:52    32450                  \n",
       "2 1554061013 31-Mar-19    12:36:53    32450                  \n",
       "3 1554061014 31-Mar-19    12:36:54    32450                  \n",
       "4 1554061015 31-Mar-19    12:36:55    32450                  \n",
       "5 1554061016 31-Mar-19    12:36:56    32450                  \n",
       "6 1554061017 31-Mar-19    12:36:57    32450                  \n",
       "  FC2_Read_Discrete_Value FC3_Read_Holding_Register FC4_Read_Coil\n",
       "1 32708                   32035                     32728        \n",
       "2 32708                   32035                     32728        \n",
       "3 32708                   32035                     32728        \n",
       "4 32708                   32035                     32728        \n",
       "5 32708                   32035                     32728        \n",
       "6 32708                   32035                     32728        \n",
       "  current_temperature door_state fridge_temperature ... light_status longitude\n",
       "1 28.44269            closed     13.10              ...  off         14.42195 \n",
       "2 28.44269            closed      8.65              ...  off         14.42195 \n",
       "3 28.44269            closed      2.00              ...  off         14.42195 \n",
       "4 28.44269            closed      4.80              ...  off         14.42195 \n",
       "5 28.44269            closed     10.70              ...  off         14.42195 \n",
       "6 28.44269            closed      5.00              ...  off         14.42195 \n",
       "  motion_status pressure sphone_signal temp_condition temperature\n",
       "1 0             1.035    false         high           35.77361   \n",
       "2 0             1.035    false         high           35.77361   \n",
       "3 0             1.035    false         low            35.77361   \n",
       "4 0             1.035    false         low            35.77361   \n",
       "5 0             1.035    false         high           35.77361   \n",
       "6 0             1.035    false         low            35.77361   \n",
       "  thermostat_status label type  \n",
       "1 1                 0     normal\n",
       "2 1                 0     normal\n",
       "3 1                 0     normal\n",
       "4 1                 0     normal\n",
       "5 1                 0     normal\n",
       "6 1                 0     normal"
      ]
     },
     "metadata": {},
     "output_type": "display_data"
    }
   ],
   "source": [
    "names(data)[1] <- \"ts\" # change firstcoum name as ts\n",
    "head(data)"
   ]
  },
  {
   "cell_type": "code",
   "execution_count": 7,
   "metadata": {},
   "outputs": [
    {
     "data": {
      "text/html": [
       "20"
      ],
      "text/latex": [
       "20"
      ],
      "text/markdown": [
       "20"
      ],
      "text/plain": [
       "[1] 20"
      ]
     },
     "metadata": {},
     "output_type": "display_data"
    }
   ],
   "source": [
    "no_attributes= ncol(data)-2\n",
    "no_attributes"
   ]
  },
  {
   "cell_type": "code",
   "execution_count": 8,
   "metadata": {},
   "outputs": [
    {
     "data": {
      "text/html": [
       "<table>\n",
       "<caption>A data.frame: 6 × 20</caption>\n",
       "<thead>\n",
       "\t<tr><th scope=col>ts</th><th scope=col>date</th><th scope=col>time</th><th scope=col>FC1_Read_Input_Register</th><th scope=col>FC2_Read_Discrete_Value</th><th scope=col>FC3_Read_Holding_Register</th><th scope=col>FC4_Read_Coil</th><th scope=col>current_temperature</th><th scope=col>door_state</th><th scope=col>fridge_temperature</th><th scope=col>humidity</th><th scope=col>latitude</th><th scope=col>light_status</th><th scope=col>longitude</th><th scope=col>motion_status</th><th scope=col>pressure</th><th scope=col>sphone_signal</th><th scope=col>temp_condition</th><th scope=col>temperature</th><th scope=col>thermostat_status</th></tr>\n",
       "\t<tr><th scope=col>&lt;int&gt;</th><th scope=col>&lt;fct&gt;</th><th scope=col>&lt;fct&gt;</th><th scope=col>&lt;int&gt;</th><th scope=col>&lt;int&gt;</th><th scope=col>&lt;int&gt;</th><th scope=col>&lt;int&gt;</th><th scope=col>&lt;dbl&gt;</th><th scope=col>&lt;fct&gt;</th><th scope=col>&lt;dbl&gt;</th><th scope=col>&lt;dbl&gt;</th><th scope=col>&lt;dbl&gt;</th><th scope=col>&lt;fct&gt;</th><th scope=col>&lt;dbl&gt;</th><th scope=col>&lt;int&gt;</th><th scope=col>&lt;dbl&gt;</th><th scope=col>&lt;fct&gt;</th><th scope=col>&lt;fct&gt;</th><th scope=col>&lt;dbl&gt;</th><th scope=col>&lt;int&gt;</th></tr>\n",
       "</thead>\n",
       "<tbody>\n",
       "\t<tr><td>1554061012</td><td>31-Mar-19</td><td>   12:36:52   </td><td>32450</td><td>32708</td><td>32035</td><td>32728</td><td>28.44269</td><td>closed</td><td>13.10</td><td>46.34362</td><td>4.514077</td><td> off</td><td>14.42195</td><td>0</td><td>1.035</td><td>false  </td><td>high </td><td>35.77361</td><td>1</td></tr>\n",
       "\t<tr><td>1554061013</td><td>31-Mar-19</td><td>   12:36:53   </td><td>32450</td><td>32708</td><td>32035</td><td>32728</td><td>28.44269</td><td>closed</td><td> 8.65</td><td>46.34362</td><td>4.514077</td><td> off</td><td>14.42195</td><td>0</td><td>1.035</td><td>false  </td><td>high </td><td>35.77361</td><td>1</td></tr>\n",
       "\t<tr><td>1554061014</td><td>31-Mar-19</td><td>   12:36:54   </td><td>32450</td><td>32708</td><td>32035</td><td>32728</td><td>28.44269</td><td>closed</td><td> 2.00</td><td>46.34362</td><td>4.514077</td><td> off</td><td>14.42195</td><td>0</td><td>1.035</td><td>false  </td><td>low  </td><td>35.77361</td><td>1</td></tr>\n",
       "\t<tr><td>1554061015</td><td>31-Mar-19</td><td>   12:36:55   </td><td>32450</td><td>32708</td><td>32035</td><td>32728</td><td>28.44269</td><td>closed</td><td> 4.80</td><td>46.34362</td><td>4.514077</td><td> off</td><td>14.42195</td><td>0</td><td>1.035</td><td>false  </td><td>low  </td><td>35.77361</td><td>1</td></tr>\n",
       "\t<tr><td>1554061016</td><td>31-Mar-19</td><td>   12:36:56   </td><td>32450</td><td>32708</td><td>32035</td><td>32728</td><td>28.44269</td><td>closed</td><td>10.70</td><td>46.34362</td><td>4.514077</td><td> off</td><td>14.42195</td><td>0</td><td>1.035</td><td>false  </td><td>high </td><td>35.77361</td><td>1</td></tr>\n",
       "\t<tr><td>1554061017</td><td>31-Mar-19</td><td>   12:36:57   </td><td>32450</td><td>32708</td><td>32035</td><td>32728</td><td>28.44269</td><td>closed</td><td> 5.00</td><td>46.34362</td><td>4.514077</td><td> off</td><td>14.42195</td><td>0</td><td>1.035</td><td>false  </td><td>low  </td><td>35.77361</td><td>1</td></tr>\n",
       "</tbody>\n",
       "</table>\n"
      ],
      "text/latex": [
       "A data.frame: 6 × 20\n",
       "\\begin{tabular}{r|llllllllllllllllllll}\n",
       " ts & date & time & FC1\\_Read\\_Input\\_Register & FC2\\_Read\\_Discrete\\_Value & FC3\\_Read\\_Holding\\_Register & FC4\\_Read\\_Coil & current\\_temperature & door\\_state & fridge\\_temperature & humidity & latitude & light\\_status & longitude & motion\\_status & pressure & sphone\\_signal & temp\\_condition & temperature & thermostat\\_status\\\\\n",
       " <int> & <fct> & <fct> & <int> & <int> & <int> & <int> & <dbl> & <fct> & <dbl> & <dbl> & <dbl> & <fct> & <dbl> & <int> & <dbl> & <fct> & <fct> & <dbl> & <int>\\\\\n",
       "\\hline\n",
       "\t 1554061012 & 31-Mar-19 &    12:36:52    & 32450 & 32708 & 32035 & 32728 & 28.44269 & closed & 13.10 & 46.34362 & 4.514077 &  off & 14.42195 & 0 & 1.035 & false   & high  & 35.77361 & 1\\\\\n",
       "\t 1554061013 & 31-Mar-19 &    12:36:53    & 32450 & 32708 & 32035 & 32728 & 28.44269 & closed &  8.65 & 46.34362 & 4.514077 &  off & 14.42195 & 0 & 1.035 & false   & high  & 35.77361 & 1\\\\\n",
       "\t 1554061014 & 31-Mar-19 &    12:36:54    & 32450 & 32708 & 32035 & 32728 & 28.44269 & closed &  2.00 & 46.34362 & 4.514077 &  off & 14.42195 & 0 & 1.035 & false   & low   & 35.77361 & 1\\\\\n",
       "\t 1554061015 & 31-Mar-19 &    12:36:55    & 32450 & 32708 & 32035 & 32728 & 28.44269 & closed &  4.80 & 46.34362 & 4.514077 &  off & 14.42195 & 0 & 1.035 & false   & low   & 35.77361 & 1\\\\\n",
       "\t 1554061016 & 31-Mar-19 &    12:36:56    & 32450 & 32708 & 32035 & 32728 & 28.44269 & closed & 10.70 & 46.34362 & 4.514077 &  off & 14.42195 & 0 & 1.035 & false   & high  & 35.77361 & 1\\\\\n",
       "\t 1554061017 & 31-Mar-19 &    12:36:57    & 32450 & 32708 & 32035 & 32728 & 28.44269 & closed &  5.00 & 46.34362 & 4.514077 &  off & 14.42195 & 0 & 1.035 & false   & low   & 35.77361 & 1\\\\\n",
       "\\end{tabular}\n"
      ],
      "text/markdown": [
       "\n",
       "A data.frame: 6 × 20\n",
       "\n",
       "| ts &lt;int&gt; | date &lt;fct&gt; | time &lt;fct&gt; | FC1_Read_Input_Register &lt;int&gt; | FC2_Read_Discrete_Value &lt;int&gt; | FC3_Read_Holding_Register &lt;int&gt; | FC4_Read_Coil &lt;int&gt; | current_temperature &lt;dbl&gt; | door_state &lt;fct&gt; | fridge_temperature &lt;dbl&gt; | humidity &lt;dbl&gt; | latitude &lt;dbl&gt; | light_status &lt;fct&gt; | longitude &lt;dbl&gt; | motion_status &lt;int&gt; | pressure &lt;dbl&gt; | sphone_signal &lt;fct&gt; | temp_condition &lt;fct&gt; | temperature &lt;dbl&gt; | thermostat_status &lt;int&gt; |\n",
       "|---|---|---|---|---|---|---|---|---|---|---|---|---|---|---|---|---|---|---|---|\n",
       "| 1554061012 | 31-Mar-19 |    12:36:52    | 32450 | 32708 | 32035 | 32728 | 28.44269 | closed | 13.10 | 46.34362 | 4.514077 |  off | 14.42195 | 0 | 1.035 | false   | high  | 35.77361 | 1 |\n",
       "| 1554061013 | 31-Mar-19 |    12:36:53    | 32450 | 32708 | 32035 | 32728 | 28.44269 | closed |  8.65 | 46.34362 | 4.514077 |  off | 14.42195 | 0 | 1.035 | false   | high  | 35.77361 | 1 |\n",
       "| 1554061014 | 31-Mar-19 |    12:36:54    | 32450 | 32708 | 32035 | 32728 | 28.44269 | closed |  2.00 | 46.34362 | 4.514077 |  off | 14.42195 | 0 | 1.035 | false   | low   | 35.77361 | 1 |\n",
       "| 1554061015 | 31-Mar-19 |    12:36:55    | 32450 | 32708 | 32035 | 32728 | 28.44269 | closed |  4.80 | 46.34362 | 4.514077 |  off | 14.42195 | 0 | 1.035 | false   | low   | 35.77361 | 1 |\n",
       "| 1554061016 | 31-Mar-19 |    12:36:56    | 32450 | 32708 | 32035 | 32728 | 28.44269 | closed | 10.70 | 46.34362 | 4.514077 |  off | 14.42195 | 0 | 1.035 | false   | high  | 35.77361 | 1 |\n",
       "| 1554061017 | 31-Mar-19 |    12:36:57    | 32450 | 32708 | 32035 | 32728 | 28.44269 | closed |  5.00 | 46.34362 | 4.514077 |  off | 14.42195 | 0 | 1.035 | false   | low   | 35.77361 | 1 |\n",
       "\n"
      ],
      "text/plain": [
       "  ts         date      time           FC1_Read_Input_Register\n",
       "1 1554061012 31-Mar-19    12:36:52    32450                  \n",
       "2 1554061013 31-Mar-19    12:36:53    32450                  \n",
       "3 1554061014 31-Mar-19    12:36:54    32450                  \n",
       "4 1554061015 31-Mar-19    12:36:55    32450                  \n",
       "5 1554061016 31-Mar-19    12:36:56    32450                  \n",
       "6 1554061017 31-Mar-19    12:36:57    32450                  \n",
       "  FC2_Read_Discrete_Value FC3_Read_Holding_Register FC4_Read_Coil\n",
       "1 32708                   32035                     32728        \n",
       "2 32708                   32035                     32728        \n",
       "3 32708                   32035                     32728        \n",
       "4 32708                   32035                     32728        \n",
       "5 32708                   32035                     32728        \n",
       "6 32708                   32035                     32728        \n",
       "  current_temperature door_state fridge_temperature humidity latitude\n",
       "1 28.44269            closed     13.10              46.34362 4.514077\n",
       "2 28.44269            closed      8.65              46.34362 4.514077\n",
       "3 28.44269            closed      2.00              46.34362 4.514077\n",
       "4 28.44269            closed      4.80              46.34362 4.514077\n",
       "5 28.44269            closed     10.70              46.34362 4.514077\n",
       "6 28.44269            closed      5.00              46.34362 4.514077\n",
       "  light_status longitude motion_status pressure sphone_signal temp_condition\n",
       "1  off         14.42195  0             1.035    false         high          \n",
       "2  off         14.42195  0             1.035    false         high          \n",
       "3  off         14.42195  0             1.035    false         low           \n",
       "4  off         14.42195  0             1.035    false         low           \n",
       "5  off         14.42195  0             1.035    false         high          \n",
       "6  off         14.42195  0             1.035    false         low           \n",
       "  temperature thermostat_status\n",
       "1 35.77361    1                \n",
       "2 35.77361    1                \n",
       "3 35.77361    1                \n",
       "4 35.77361    1                \n",
       "5 35.77361    1                \n",
       "6 35.77361    1                "
      ]
     },
     "metadata": {},
     "output_type": "display_data"
    }
   ],
   "source": [
    "dt = data [,1:no_attributes]\n",
    "head(dt)"
   ]
  },
  {
   "cell_type": "code",
   "execution_count": 9,
   "metadata": {},
   "outputs": [
    {
     "data": {
      "text/html": [
       "<table>\n",
       "<caption>A data.frame: 6 × 22</caption>\n",
       "<thead>\n",
       "\t<tr><th scope=col>ts</th><th scope=col>date</th><th scope=col>time</th><th scope=col>FC1_Read_Input_Register</th><th scope=col>FC2_Read_Discrete_Value</th><th scope=col>FC3_Read_Holding_Register</th><th scope=col>FC4_Read_Coil</th><th scope=col>current_temperature</th><th scope=col>door_state</th><th scope=col>fridge_temperature</th><th scope=col>...</th><th scope=col>light_status</th><th scope=col>longitude</th><th scope=col>motion_status</th><th scope=col>pressure</th><th scope=col>sphone_signal</th><th scope=col>temp_condition</th><th scope=col>temperature</th><th scope=col>thermostat_status</th><th scope=col>label</th><th scope=col>type</th></tr>\n",
       "\t<tr><th scope=col>&lt;int&gt;</th><th scope=col>&lt;fct&gt;</th><th scope=col>&lt;fct&gt;</th><th scope=col>&lt;int&gt;</th><th scope=col>&lt;int&gt;</th><th scope=col>&lt;int&gt;</th><th scope=col>&lt;int&gt;</th><th scope=col>&lt;dbl&gt;</th><th scope=col>&lt;fct&gt;</th><th scope=col>&lt;dbl&gt;</th><th scope=col>...</th><th scope=col>&lt;fct&gt;</th><th scope=col>&lt;dbl&gt;</th><th scope=col>&lt;int&gt;</th><th scope=col>&lt;dbl&gt;</th><th scope=col>&lt;fct&gt;</th><th scope=col>&lt;fct&gt;</th><th scope=col>&lt;dbl&gt;</th><th scope=col>&lt;int&gt;</th><th scope=col>&lt;int&gt;</th><th scope=col>&lt;fct&gt;</th></tr>\n",
       "</thead>\n",
       "<tbody>\n",
       "\t<tr><td>1554061012</td><td>31-Mar-19</td><td>   12:36:52   </td><td>32450</td><td>32708</td><td>32035</td><td>32728</td><td>28.44269</td><td>closed</td><td>13.10</td><td>...</td><td> off</td><td>14.42195</td><td>0</td><td>1.035</td><td>false  </td><td>high </td><td>35.77361</td><td>1</td><td>0</td><td>normal</td></tr>\n",
       "\t<tr><td>1554061013</td><td>31-Mar-19</td><td>   12:36:53   </td><td>32450</td><td>32708</td><td>32035</td><td>32728</td><td>28.44269</td><td>closed</td><td> 8.65</td><td>...</td><td> off</td><td>14.42195</td><td>0</td><td>1.035</td><td>false  </td><td>high </td><td>35.77361</td><td>1</td><td>0</td><td>normal</td></tr>\n",
       "\t<tr><td>1554061014</td><td>31-Mar-19</td><td>   12:36:54   </td><td>32450</td><td>32708</td><td>32035</td><td>32728</td><td>28.44269</td><td>closed</td><td> 2.00</td><td>...</td><td> off</td><td>14.42195</td><td>0</td><td>1.035</td><td>false  </td><td>low  </td><td>35.77361</td><td>1</td><td>0</td><td>normal</td></tr>\n",
       "\t<tr><td>1554061015</td><td>31-Mar-19</td><td>   12:36:55   </td><td>32450</td><td>32708</td><td>32035</td><td>32728</td><td>28.44269</td><td>closed</td><td> 4.80</td><td>...</td><td> off</td><td>14.42195</td><td>0</td><td>1.035</td><td>false  </td><td>low  </td><td>35.77361</td><td>1</td><td>0</td><td>normal</td></tr>\n",
       "\t<tr><td>1554061016</td><td>31-Mar-19</td><td>   12:36:56   </td><td>32450</td><td>32708</td><td>32035</td><td>32728</td><td>28.44269</td><td>closed</td><td>10.70</td><td>...</td><td> off</td><td>14.42195</td><td>0</td><td>1.035</td><td>false  </td><td>high </td><td>35.77361</td><td>1</td><td>0</td><td>normal</td></tr>\n",
       "\t<tr><td>1554061017</td><td>31-Mar-19</td><td>   12:36:57   </td><td>32450</td><td>32708</td><td>32035</td><td>32728</td><td>28.44269</td><td>closed</td><td> 5.00</td><td>...</td><td> off</td><td>14.42195</td><td>0</td><td>1.035</td><td>false  </td><td>low  </td><td>35.77361</td><td>1</td><td>0</td><td>normal</td></tr>\n",
       "</tbody>\n",
       "</table>\n"
      ],
      "text/latex": [
       "A data.frame: 6 × 22\n",
       "\\begin{tabular}{r|llllllllllllllllllllll}\n",
       " ts & date & time & FC1\\_Read\\_Input\\_Register & FC2\\_Read\\_Discrete\\_Value & FC3\\_Read\\_Holding\\_Register & FC4\\_Read\\_Coil & current\\_temperature & door\\_state & fridge\\_temperature & humidity & latitude & light\\_status & longitude & motion\\_status & pressure & sphone\\_signal & temp\\_condition & temperature & thermostat\\_status & label & type\\\\\n",
       " <int> & <fct> & <fct> & <int> & <int> & <int> & <int> & <dbl> & <fct> & <dbl> & <dbl> & <dbl> & <fct> & <dbl> & <int> & <dbl> & <fct> & <fct> & <dbl> & <int> & <int> & <fct>\\\\\n",
       "\\hline\n",
       "\t 1554061012 & 31-Mar-19 &    12:36:52    & 32450 & 32708 & 32035 & 32728 & 28.44269 & closed & 13.10 & 46.34362 & 4.514077 &  off & 14.42195 & 0 & 1.035 & false   & high  & 35.77361 & 1 & 0 & normal\\\\\n",
       "\t 1554061013 & 31-Mar-19 &    12:36:53    & 32450 & 32708 & 32035 & 32728 & 28.44269 & closed &  8.65 & 46.34362 & 4.514077 &  off & 14.42195 & 0 & 1.035 & false   & high  & 35.77361 & 1 & 0 & normal\\\\\n",
       "\t 1554061014 & 31-Mar-19 &    12:36:54    & 32450 & 32708 & 32035 & 32728 & 28.44269 & closed &  2.00 & 46.34362 & 4.514077 &  off & 14.42195 & 0 & 1.035 & false   & low   & 35.77361 & 1 & 0 & normal\\\\\n",
       "\t 1554061015 & 31-Mar-19 &    12:36:55    & 32450 & 32708 & 32035 & 32728 & 28.44269 & closed &  4.80 & 46.34362 & 4.514077 &  off & 14.42195 & 0 & 1.035 & false   & low   & 35.77361 & 1 & 0 & normal\\\\\n",
       "\t 1554061016 & 31-Mar-19 &    12:36:56    & 32450 & 32708 & 32035 & 32728 & 28.44269 & closed & 10.70 & 46.34362 & 4.514077 &  off & 14.42195 & 0 & 1.035 & false   & high  & 35.77361 & 1 & 0 & normal\\\\\n",
       "\t 1554061017 & 31-Mar-19 &    12:36:57    & 32450 & 32708 & 32035 & 32728 & 28.44269 & closed &  5.00 & 46.34362 & 4.514077 &  off & 14.42195 & 0 & 1.035 & false   & low   & 35.77361 & 1 & 0 & normal\\\\\n",
       "\\end{tabular}\n"
      ],
      "text/markdown": [
       "\n",
       "A data.frame: 6 × 22\n",
       "\n",
       "| ts &lt;int&gt; | date &lt;fct&gt; | time &lt;fct&gt; | FC1_Read_Input_Register &lt;int&gt; | FC2_Read_Discrete_Value &lt;int&gt; | FC3_Read_Holding_Register &lt;int&gt; | FC4_Read_Coil &lt;int&gt; | current_temperature &lt;dbl&gt; | door_state &lt;fct&gt; | fridge_temperature &lt;dbl&gt; | ... ... | light_status &lt;fct&gt; | longitude &lt;dbl&gt; | motion_status &lt;int&gt; | pressure &lt;dbl&gt; | sphone_signal &lt;fct&gt; | temp_condition &lt;fct&gt; | temperature &lt;dbl&gt; | thermostat_status &lt;int&gt; | label &lt;int&gt; | type &lt;fct&gt; |\n",
       "|---|---|---|---|---|---|---|---|---|---|---|---|---|---|---|---|---|---|---|---|---|\n",
       "| 1554061012 | 31-Mar-19 |    12:36:52    | 32450 | 32708 | 32035 | 32728 | 28.44269 | closed | 13.10 | ... |  off | 14.42195 | 0 | 1.035 | false   | high  | 35.77361 | 1 | 0 | normal |\n",
       "| 1554061013 | 31-Mar-19 |    12:36:53    | 32450 | 32708 | 32035 | 32728 | 28.44269 | closed |  8.65 | ... |  off | 14.42195 | 0 | 1.035 | false   | high  | 35.77361 | 1 | 0 | normal |\n",
       "| 1554061014 | 31-Mar-19 |    12:36:54    | 32450 | 32708 | 32035 | 32728 | 28.44269 | closed |  2.00 | ... |  off | 14.42195 | 0 | 1.035 | false   | low   | 35.77361 | 1 | 0 | normal |\n",
       "| 1554061015 | 31-Mar-19 |    12:36:55    | 32450 | 32708 | 32035 | 32728 | 28.44269 | closed |  4.80 | ... |  off | 14.42195 | 0 | 1.035 | false   | low   | 35.77361 | 1 | 0 | normal |\n",
       "| 1554061016 | 31-Mar-19 |    12:36:56    | 32450 | 32708 | 32035 | 32728 | 28.44269 | closed | 10.70 | ... |  off | 14.42195 | 0 | 1.035 | false   | high  | 35.77361 | 1 | 0 | normal |\n",
       "| 1554061017 | 31-Mar-19 |    12:36:57    | 32450 | 32708 | 32035 | 32728 | 28.44269 | closed |  5.00 | ... |  off | 14.42195 | 0 | 1.035 | false   | low   | 35.77361 | 1 | 0 | normal |\n",
       "\n"
      ],
      "text/plain": [
       "  ts         date      time           FC1_Read_Input_Register\n",
       "1 1554061012 31-Mar-19    12:36:52    32450                  \n",
       "2 1554061013 31-Mar-19    12:36:53    32450                  \n",
       "3 1554061014 31-Mar-19    12:36:54    32450                  \n",
       "4 1554061015 31-Mar-19    12:36:55    32450                  \n",
       "5 1554061016 31-Mar-19    12:36:56    32450                  \n",
       "6 1554061017 31-Mar-19    12:36:57    32450                  \n",
       "  FC2_Read_Discrete_Value FC3_Read_Holding_Register FC4_Read_Coil\n",
       "1 32708                   32035                     32728        \n",
       "2 32708                   32035                     32728        \n",
       "3 32708                   32035                     32728        \n",
       "4 32708                   32035                     32728        \n",
       "5 32708                   32035                     32728        \n",
       "6 32708                   32035                     32728        \n",
       "  current_temperature door_state fridge_temperature ... light_status longitude\n",
       "1 28.44269            closed     13.10              ...  off         14.42195 \n",
       "2 28.44269            closed      8.65              ...  off         14.42195 \n",
       "3 28.44269            closed      2.00              ...  off         14.42195 \n",
       "4 28.44269            closed      4.80              ...  off         14.42195 \n",
       "5 28.44269            closed     10.70              ...  off         14.42195 \n",
       "6 28.44269            closed      5.00              ...  off         14.42195 \n",
       "  motion_status pressure sphone_signal temp_condition temperature\n",
       "1 0             1.035    false         high           35.77361   \n",
       "2 0             1.035    false         high           35.77361   \n",
       "3 0             1.035    false         low            35.77361   \n",
       "4 0             1.035    false         low            35.77361   \n",
       "5 0             1.035    false         high           35.77361   \n",
       "6 0             1.035    false         low            35.77361   \n",
       "  thermostat_status label type  \n",
       "1 1                 0     normal\n",
       "2 1                 0     normal\n",
       "3 1                 0     normal\n",
       "4 1                 0     normal\n",
       "5 1                 0     normal\n",
       "6 1                 0     normal"
      ]
     },
     "metadata": {},
     "output_type": "display_data"
    }
   ],
   "source": [
    "orignal_dt= data [, 1:ncol(data)] \n",
    "head(orignal_dt)"
   ]
  },
  {
   "cell_type": "code",
   "execution_count": 10,
   "metadata": {},
   "outputs": [
    {
     "data": {
      "text/html": [
       "<dl class=dl-horizontal>\n",
       "\t<dt>ts</dt>\n",
       "\t\t<dd>FALSE</dd>\n",
       "\t<dt>date</dt>\n",
       "\t\t<dd>TRUE</dd>\n",
       "\t<dt>time</dt>\n",
       "\t\t<dd>TRUE</dd>\n",
       "\t<dt>FC1_Read_Input_Register</dt>\n",
       "\t\t<dd>FALSE</dd>\n",
       "\t<dt>FC2_Read_Discrete_Value</dt>\n",
       "\t\t<dd>FALSE</dd>\n",
       "\t<dt>FC3_Read_Holding_Register</dt>\n",
       "\t\t<dd>FALSE</dd>\n",
       "\t<dt>FC4_Read_Coil</dt>\n",
       "\t\t<dd>FALSE</dd>\n",
       "\t<dt>current_temperature</dt>\n",
       "\t\t<dd>FALSE</dd>\n",
       "\t<dt>door_state</dt>\n",
       "\t\t<dd>TRUE</dd>\n",
       "\t<dt>fridge_temperature</dt>\n",
       "\t\t<dd>FALSE</dd>\n",
       "\t<dt>humidity</dt>\n",
       "\t\t<dd>FALSE</dd>\n",
       "\t<dt>latitude</dt>\n",
       "\t\t<dd>FALSE</dd>\n",
       "\t<dt>light_status</dt>\n",
       "\t\t<dd>TRUE</dd>\n",
       "\t<dt>longitude</dt>\n",
       "\t\t<dd>FALSE</dd>\n",
       "\t<dt>motion_status</dt>\n",
       "\t\t<dd>FALSE</dd>\n",
       "\t<dt>pressure</dt>\n",
       "\t\t<dd>FALSE</dd>\n",
       "\t<dt>sphone_signal</dt>\n",
       "\t\t<dd>TRUE</dd>\n",
       "\t<dt>temp_condition</dt>\n",
       "\t\t<dd>TRUE</dd>\n",
       "\t<dt>temperature</dt>\n",
       "\t\t<dd>FALSE</dd>\n",
       "\t<dt>thermostat_status</dt>\n",
       "\t\t<dd>FALSE</dd>\n",
       "</dl>\n"
      ],
      "text/latex": [
       "\\begin{description*}\n",
       "\\item[ts] FALSE\n",
       "\\item[date] TRUE\n",
       "\\item[time] TRUE\n",
       "\\item[FC1\\textbackslash{}\\_Read\\textbackslash{}\\_Input\\textbackslash{}\\_Register] FALSE\n",
       "\\item[FC2\\textbackslash{}\\_Read\\textbackslash{}\\_Discrete\\textbackslash{}\\_Value] FALSE\n",
       "\\item[FC3\\textbackslash{}\\_Read\\textbackslash{}\\_Holding\\textbackslash{}\\_Register] FALSE\n",
       "\\item[FC4\\textbackslash{}\\_Read\\textbackslash{}\\_Coil] FALSE\n",
       "\\item[current\\textbackslash{}\\_temperature] FALSE\n",
       "\\item[door\\textbackslash{}\\_state] TRUE\n",
       "\\item[fridge\\textbackslash{}\\_temperature] FALSE\n",
       "\\item[humidity] FALSE\n",
       "\\item[latitude] FALSE\n",
       "\\item[light\\textbackslash{}\\_status] TRUE\n",
       "\\item[longitude] FALSE\n",
       "\\item[motion\\textbackslash{}\\_status] FALSE\n",
       "\\item[pressure] FALSE\n",
       "\\item[sphone\\textbackslash{}\\_signal] TRUE\n",
       "\\item[temp\\textbackslash{}\\_condition] TRUE\n",
       "\\item[temperature] FALSE\n",
       "\\item[thermostat\\textbackslash{}\\_status] FALSE\n",
       "\\end{description*}\n"
      ],
      "text/markdown": [
       "ts\n",
       ":   FALSEdate\n",
       ":   TRUEtime\n",
       ":   TRUEFC1_Read_Input_Register\n",
       ":   FALSEFC2_Read_Discrete_Value\n",
       ":   FALSEFC3_Read_Holding_Register\n",
       ":   FALSEFC4_Read_Coil\n",
       ":   FALSEcurrent_temperature\n",
       ":   FALSEdoor_state\n",
       ":   TRUEfridge_temperature\n",
       ":   FALSEhumidity\n",
       ":   FALSElatitude\n",
       ":   FALSElight_status\n",
       ":   TRUElongitude\n",
       ":   FALSEmotion_status\n",
       ":   FALSEpressure\n",
       ":   FALSEsphone_signal\n",
       ":   TRUEtemp_condition\n",
       ":   TRUEtemperature\n",
       ":   FALSEthermostat_status\n",
       ":   FALSE\n",
       "\n"
      ],
      "text/plain": [
       "                       ts                      date                      time \n",
       "                    FALSE                      TRUE                      TRUE \n",
       "  FC1_Read_Input_Register   FC2_Read_Discrete_Value FC3_Read_Holding_Register \n",
       "                    FALSE                     FALSE                     FALSE \n",
       "            FC4_Read_Coil       current_temperature                door_state \n",
       "                    FALSE                     FALSE                      TRUE \n",
       "       fridge_temperature                  humidity                  latitude \n",
       "                    FALSE                     FALSE                     FALSE \n",
       "             light_status                 longitude             motion_status \n",
       "                     TRUE                     FALSE                     FALSE \n",
       "                 pressure             sphone_signal            temp_condition \n",
       "                    FALSE                      TRUE                      TRUE \n",
       "              temperature         thermostat_status \n",
       "                    FALSE                     FALSE "
      ]
     },
     "metadata": {},
     "output_type": "display_data"
    }
   ],
   "source": [
    "num_conv <- sapply(dt,is.factor) \n",
    "num_conv"
   ]
  },
  {
   "cell_type": "code",
   "execution_count": 17,
   "metadata": {},
   "outputs": [
    {
     "data": {
      "text/html": [
       "<table>\n",
       "<caption>A matrix: 6 × 6 of type int</caption>\n",
       "<thead>\n",
       "\t<tr><th scope=col>date</th><th scope=col>time</th><th scope=col>door_state</th><th scope=col>light_status</th><th scope=col>sphone_signal</th><th scope=col>temp_condition</th></tr>\n",
       "</thead>\n",
       "<tbody>\n",
       "\t<tr><td>9</td><td>230</td><td>1</td><td>1</td><td>3</td><td>2</td></tr>\n",
       "\t<tr><td>9</td><td>231</td><td>1</td><td>1</td><td>3</td><td>2</td></tr>\n",
       "\t<tr><td>9</td><td>232</td><td>1</td><td>1</td><td>3</td><td>5</td></tr>\n",
       "\t<tr><td>9</td><td>233</td><td>1</td><td>1</td><td>3</td><td>5</td></tr>\n",
       "\t<tr><td>9</td><td>234</td><td>1</td><td>1</td><td>3</td><td>2</td></tr>\n",
       "\t<tr><td>9</td><td>235</td><td>1</td><td>1</td><td>3</td><td>5</td></tr>\n",
       "</tbody>\n",
       "</table>\n"
      ],
      "text/latex": [
       "A matrix: 6 × 6 of type int\n",
       "\\begin{tabular}{llllll}\n",
       " date & time & door\\_state & light\\_status & sphone\\_signal & temp\\_condition\\\\\n",
       "\\hline\n",
       "\t 9 & 230 & 1 & 1 & 3 & 2\\\\\n",
       "\t 9 & 231 & 1 & 1 & 3 & 2\\\\\n",
       "\t 9 & 232 & 1 & 1 & 3 & 5\\\\\n",
       "\t 9 & 233 & 1 & 1 & 3 & 5\\\\\n",
       "\t 9 & 234 & 1 & 1 & 3 & 2\\\\\n",
       "\t 9 & 235 & 1 & 1 & 3 & 5\\\\\n",
       "\\end{tabular}\n"
      ],
      "text/markdown": [
       "\n",
       "A matrix: 6 × 6 of type int\n",
       "\n",
       "| date | time | door_state | light_status | sphone_signal | temp_condition |\n",
       "|---|---|---|---|---|---|\n",
       "| 9 | 230 | 1 | 1 | 3 | 2 |\n",
       "| 9 | 231 | 1 | 1 | 3 | 2 |\n",
       "| 9 | 232 | 1 | 1 | 3 | 5 |\n",
       "| 9 | 233 | 1 | 1 | 3 | 5 |\n",
       "| 9 | 234 | 1 | 1 | 3 | 2 |\n",
       "| 9 | 235 | 1 | 1 | 3 | 5 |\n",
       "\n"
      ],
      "text/plain": [
       "     date time door_state light_status sphone_signal temp_condition\n",
       "[1,] 9    230  1          1            3             2             \n",
       "[2,] 9    231  1          1            3             2             \n",
       "[3,] 9    232  1          1            3             5             \n",
       "[4,] 9    233  1          1            3             5             \n",
       "[5,] 9    234  1          1            3             2             \n",
       "[6,] 9    235  1          1            3             5             "
      ]
     },
     "metadata": {},
     "output_type": "display_data"
    }
   ],
   "source": [
    "str_att <- sapply(dt[,num_conv],unclass)\n",
    "head(str_att)"
   ]
  },
  {
   "cell_type": "code",
   "execution_count": 18,
   "metadata": {},
   "outputs": [
    {
     "data": {
      "text/html": [
       "<table>\n",
       "<caption>A matrix: 6 × 14 of type dbl</caption>\n",
       "<thead>\n",
       "\t<tr><th scope=col>ts</th><th scope=col>FC1_Read_Input_Register</th><th scope=col>FC2_Read_Discrete_Value</th><th scope=col>FC3_Read_Holding_Register</th><th scope=col>FC4_Read_Coil</th><th scope=col>current_temperature</th><th scope=col>fridge_temperature</th><th scope=col>humidity</th><th scope=col>latitude</th><th scope=col>longitude</th><th scope=col>motion_status</th><th scope=col>pressure</th><th scope=col>temperature</th><th scope=col>thermostat_status</th></tr>\n",
       "</thead>\n",
       "<tbody>\n",
       "\t<tr><td>1554061012</td><td>32450</td><td>32708</td><td>32035</td><td>32728</td><td>28.44269</td><td>13.10</td><td>46.34362</td><td>4.514077</td><td>14.42195</td><td>0</td><td>1.035</td><td>35.77361</td><td>1</td></tr>\n",
       "\t<tr><td>1554061013</td><td>32450</td><td>32708</td><td>32035</td><td>32728</td><td>28.44269</td><td> 8.65</td><td>46.34362</td><td>4.514077</td><td>14.42195</td><td>0</td><td>1.035</td><td>35.77361</td><td>1</td></tr>\n",
       "\t<tr><td>1554061014</td><td>32450</td><td>32708</td><td>32035</td><td>32728</td><td>28.44269</td><td> 2.00</td><td>46.34362</td><td>4.514077</td><td>14.42195</td><td>0</td><td>1.035</td><td>35.77361</td><td>1</td></tr>\n",
       "\t<tr><td>1554061015</td><td>32450</td><td>32708</td><td>32035</td><td>32728</td><td>28.44269</td><td> 4.80</td><td>46.34362</td><td>4.514077</td><td>14.42195</td><td>0</td><td>1.035</td><td>35.77361</td><td>1</td></tr>\n",
       "\t<tr><td>1554061016</td><td>32450</td><td>32708</td><td>32035</td><td>32728</td><td>28.44269</td><td>10.70</td><td>46.34362</td><td>4.514077</td><td>14.42195</td><td>0</td><td>1.035</td><td>35.77361</td><td>1</td></tr>\n",
       "\t<tr><td>1554061017</td><td>32450</td><td>32708</td><td>32035</td><td>32728</td><td>28.44269</td><td> 5.00</td><td>46.34362</td><td>4.514077</td><td>14.42195</td><td>0</td><td>1.035</td><td>35.77361</td><td>1</td></tr>\n",
       "</tbody>\n",
       "</table>\n"
      ],
      "text/latex": [
       "A matrix: 6 × 14 of type dbl\n",
       "\\begin{tabular}{llllllllllllll}\n",
       " ts & FC1\\_Read\\_Input\\_Register & FC2\\_Read\\_Discrete\\_Value & FC3\\_Read\\_Holding\\_Register & FC4\\_Read\\_Coil & current\\_temperature & fridge\\_temperature & humidity & latitude & longitude & motion\\_status & pressure & temperature & thermostat\\_status\\\\\n",
       "\\hline\n",
       "\t 1554061012 & 32450 & 32708 & 32035 & 32728 & 28.44269 & 13.10 & 46.34362 & 4.514077 & 14.42195 & 0 & 1.035 & 35.77361 & 1\\\\\n",
       "\t 1554061013 & 32450 & 32708 & 32035 & 32728 & 28.44269 &  8.65 & 46.34362 & 4.514077 & 14.42195 & 0 & 1.035 & 35.77361 & 1\\\\\n",
       "\t 1554061014 & 32450 & 32708 & 32035 & 32728 & 28.44269 &  2.00 & 46.34362 & 4.514077 & 14.42195 & 0 & 1.035 & 35.77361 & 1\\\\\n",
       "\t 1554061015 & 32450 & 32708 & 32035 & 32728 & 28.44269 &  4.80 & 46.34362 & 4.514077 & 14.42195 & 0 & 1.035 & 35.77361 & 1\\\\\n",
       "\t 1554061016 & 32450 & 32708 & 32035 & 32728 & 28.44269 & 10.70 & 46.34362 & 4.514077 & 14.42195 & 0 & 1.035 & 35.77361 & 1\\\\\n",
       "\t 1554061017 & 32450 & 32708 & 32035 & 32728 & 28.44269 &  5.00 & 46.34362 & 4.514077 & 14.42195 & 0 & 1.035 & 35.77361 & 1\\\\\n",
       "\\end{tabular}\n"
      ],
      "text/markdown": [
       "\n",
       "A matrix: 6 × 14 of type dbl\n",
       "\n",
       "| ts | FC1_Read_Input_Register | FC2_Read_Discrete_Value | FC3_Read_Holding_Register | FC4_Read_Coil | current_temperature | fridge_temperature | humidity | latitude | longitude | motion_status | pressure | temperature | thermostat_status |\n",
       "|---|---|---|---|---|---|---|---|---|---|---|---|---|---|\n",
       "| 1554061012 | 32450 | 32708 | 32035 | 32728 | 28.44269 | 13.10 | 46.34362 | 4.514077 | 14.42195 | 0 | 1.035 | 35.77361 | 1 |\n",
       "| 1554061013 | 32450 | 32708 | 32035 | 32728 | 28.44269 |  8.65 | 46.34362 | 4.514077 | 14.42195 | 0 | 1.035 | 35.77361 | 1 |\n",
       "| 1554061014 | 32450 | 32708 | 32035 | 32728 | 28.44269 |  2.00 | 46.34362 | 4.514077 | 14.42195 | 0 | 1.035 | 35.77361 | 1 |\n",
       "| 1554061015 | 32450 | 32708 | 32035 | 32728 | 28.44269 |  4.80 | 46.34362 | 4.514077 | 14.42195 | 0 | 1.035 | 35.77361 | 1 |\n",
       "| 1554061016 | 32450 | 32708 | 32035 | 32728 | 28.44269 | 10.70 | 46.34362 | 4.514077 | 14.42195 | 0 | 1.035 | 35.77361 | 1 |\n",
       "| 1554061017 | 32450 | 32708 | 32035 | 32728 | 28.44269 |  5.00 | 46.34362 | 4.514077 | 14.42195 | 0 | 1.035 | 35.77361 | 1 |\n",
       "\n"
      ],
      "text/plain": [
       "     ts         FC1_Read_Input_Register FC2_Read_Discrete_Value\n",
       "[1,] 1554061012 32450                   32708                  \n",
       "[2,] 1554061013 32450                   32708                  \n",
       "[3,] 1554061014 32450                   32708                  \n",
       "[4,] 1554061015 32450                   32708                  \n",
       "[5,] 1554061016 32450                   32708                  \n",
       "[6,] 1554061017 32450                   32708                  \n",
       "     FC3_Read_Holding_Register FC4_Read_Coil current_temperature\n",
       "[1,] 32035                     32728         28.44269           \n",
       "[2,] 32035                     32728         28.44269           \n",
       "[3,] 32035                     32728         28.44269           \n",
       "[4,] 32035                     32728         28.44269           \n",
       "[5,] 32035                     32728         28.44269           \n",
       "[6,] 32035                     32728         28.44269           \n",
       "     fridge_temperature humidity latitude longitude motion_status pressure\n",
       "[1,] 13.10              46.34362 4.514077 14.42195  0             1.035   \n",
       "[2,]  8.65              46.34362 4.514077 14.42195  0             1.035   \n",
       "[3,]  2.00              46.34362 4.514077 14.42195  0             1.035   \n",
       "[4,]  4.80              46.34362 4.514077 14.42195  0             1.035   \n",
       "[5,] 10.70              46.34362 4.514077 14.42195  0             1.035   \n",
       "[6,]  5.00              46.34362 4.514077 14.42195  0             1.035   \n",
       "     temperature thermostat_status\n",
       "[1,] 35.77361    1                \n",
       "[2,] 35.77361    1                \n",
       "[3,] 35.77361    1                \n",
       "[4,] 35.77361    1                \n",
       "[5,] 35.77361    1                \n",
       "[6,] 35.77361    1                "
      ]
     },
     "metadata": {},
     "output_type": "display_data"
    }
   ],
   "source": [
    "num_att <- sapply(dt[,!num_conv],unclass)\n",
    "head(num_att) "
   ]
  },
  {
   "cell_type": "code",
   "execution_count": 19,
   "metadata": {},
   "outputs": [
    {
     "data": {
      "text/html": [
       "<table>\n",
       "<caption>A matrix: 6 × 20 of type dbl</caption>\n",
       "<thead>\n",
       "\t<tr><th scope=col>date</th><th scope=col>time</th><th scope=col>door_state</th><th scope=col>light_status</th><th scope=col>sphone_signal</th><th scope=col>temp_condition</th><th scope=col>ts</th><th scope=col>FC1_Read_Input_Register</th><th scope=col>FC2_Read_Discrete_Value</th><th scope=col>FC3_Read_Holding_Register</th><th scope=col>FC4_Read_Coil</th><th scope=col>current_temperature</th><th scope=col>fridge_temperature</th><th scope=col>humidity</th><th scope=col>latitude</th><th scope=col>longitude</th><th scope=col>motion_status</th><th scope=col>pressure</th><th scope=col>temperature</th><th scope=col>thermostat_status</th></tr>\n",
       "</thead>\n",
       "<tbody>\n",
       "\t<tr><td>9</td><td>230</td><td>1</td><td>1</td><td>3</td><td>2</td><td>1554061012</td><td>32450</td><td>32708</td><td>32035</td><td>32728</td><td>28.44269</td><td>13.10</td><td>46.34362</td><td>4.514077</td><td>14.42195</td><td>0</td><td>1.035</td><td>35.77361</td><td>1</td></tr>\n",
       "\t<tr><td>9</td><td>231</td><td>1</td><td>1</td><td>3</td><td>2</td><td>1554061013</td><td>32450</td><td>32708</td><td>32035</td><td>32728</td><td>28.44269</td><td> 8.65</td><td>46.34362</td><td>4.514077</td><td>14.42195</td><td>0</td><td>1.035</td><td>35.77361</td><td>1</td></tr>\n",
       "\t<tr><td>9</td><td>232</td><td>1</td><td>1</td><td>3</td><td>5</td><td>1554061014</td><td>32450</td><td>32708</td><td>32035</td><td>32728</td><td>28.44269</td><td> 2.00</td><td>46.34362</td><td>4.514077</td><td>14.42195</td><td>0</td><td>1.035</td><td>35.77361</td><td>1</td></tr>\n",
       "\t<tr><td>9</td><td>233</td><td>1</td><td>1</td><td>3</td><td>5</td><td>1554061015</td><td>32450</td><td>32708</td><td>32035</td><td>32728</td><td>28.44269</td><td> 4.80</td><td>46.34362</td><td>4.514077</td><td>14.42195</td><td>0</td><td>1.035</td><td>35.77361</td><td>1</td></tr>\n",
       "\t<tr><td>9</td><td>234</td><td>1</td><td>1</td><td>3</td><td>2</td><td>1554061016</td><td>32450</td><td>32708</td><td>32035</td><td>32728</td><td>28.44269</td><td>10.70</td><td>46.34362</td><td>4.514077</td><td>14.42195</td><td>0</td><td>1.035</td><td>35.77361</td><td>1</td></tr>\n",
       "\t<tr><td>9</td><td>235</td><td>1</td><td>1</td><td>3</td><td>5</td><td>1554061017</td><td>32450</td><td>32708</td><td>32035</td><td>32728</td><td>28.44269</td><td> 5.00</td><td>46.34362</td><td>4.514077</td><td>14.42195</td><td>0</td><td>1.035</td><td>35.77361</td><td>1</td></tr>\n",
       "</tbody>\n",
       "</table>\n"
      ],
      "text/latex": [
       "A matrix: 6 × 20 of type dbl\n",
       "\\begin{tabular}{llllllllllllllllllll}\n",
       " date & time & door\\_state & light\\_status & sphone\\_signal & temp\\_condition & ts & FC1\\_Read\\_Input\\_Register & FC2\\_Read\\_Discrete\\_Value & FC3\\_Read\\_Holding\\_Register & FC4\\_Read\\_Coil & current\\_temperature & fridge\\_temperature & humidity & latitude & longitude & motion\\_status & pressure & temperature & thermostat\\_status\\\\\n",
       "\\hline\n",
       "\t 9 & 230 & 1 & 1 & 3 & 2 & 1554061012 & 32450 & 32708 & 32035 & 32728 & 28.44269 & 13.10 & 46.34362 & 4.514077 & 14.42195 & 0 & 1.035 & 35.77361 & 1\\\\\n",
       "\t 9 & 231 & 1 & 1 & 3 & 2 & 1554061013 & 32450 & 32708 & 32035 & 32728 & 28.44269 &  8.65 & 46.34362 & 4.514077 & 14.42195 & 0 & 1.035 & 35.77361 & 1\\\\\n",
       "\t 9 & 232 & 1 & 1 & 3 & 5 & 1554061014 & 32450 & 32708 & 32035 & 32728 & 28.44269 &  2.00 & 46.34362 & 4.514077 & 14.42195 & 0 & 1.035 & 35.77361 & 1\\\\\n",
       "\t 9 & 233 & 1 & 1 & 3 & 5 & 1554061015 & 32450 & 32708 & 32035 & 32728 & 28.44269 &  4.80 & 46.34362 & 4.514077 & 14.42195 & 0 & 1.035 & 35.77361 & 1\\\\\n",
       "\t 9 & 234 & 1 & 1 & 3 & 2 & 1554061016 & 32450 & 32708 & 32035 & 32728 & 28.44269 & 10.70 & 46.34362 & 4.514077 & 14.42195 & 0 & 1.035 & 35.77361 & 1\\\\\n",
       "\t 9 & 235 & 1 & 1 & 3 & 5 & 1554061017 & 32450 & 32708 & 32035 & 32728 & 28.44269 &  5.00 & 46.34362 & 4.514077 & 14.42195 & 0 & 1.035 & 35.77361 & 1\\\\\n",
       "\\end{tabular}\n"
      ],
      "text/markdown": [
       "\n",
       "A matrix: 6 × 20 of type dbl\n",
       "\n",
       "| date | time | door_state | light_status | sphone_signal | temp_condition | ts | FC1_Read_Input_Register | FC2_Read_Discrete_Value | FC3_Read_Holding_Register | FC4_Read_Coil | current_temperature | fridge_temperature | humidity | latitude | longitude | motion_status | pressure | temperature | thermostat_status |\n",
       "|---|---|---|---|---|---|---|---|---|---|---|---|---|---|---|---|---|---|---|---|\n",
       "| 9 | 230 | 1 | 1 | 3 | 2 | 1554061012 | 32450 | 32708 | 32035 | 32728 | 28.44269 | 13.10 | 46.34362 | 4.514077 | 14.42195 | 0 | 1.035 | 35.77361 | 1 |\n",
       "| 9 | 231 | 1 | 1 | 3 | 2 | 1554061013 | 32450 | 32708 | 32035 | 32728 | 28.44269 |  8.65 | 46.34362 | 4.514077 | 14.42195 | 0 | 1.035 | 35.77361 | 1 |\n",
       "| 9 | 232 | 1 | 1 | 3 | 5 | 1554061014 | 32450 | 32708 | 32035 | 32728 | 28.44269 |  2.00 | 46.34362 | 4.514077 | 14.42195 | 0 | 1.035 | 35.77361 | 1 |\n",
       "| 9 | 233 | 1 | 1 | 3 | 5 | 1554061015 | 32450 | 32708 | 32035 | 32728 | 28.44269 |  4.80 | 46.34362 | 4.514077 | 14.42195 | 0 | 1.035 | 35.77361 | 1 |\n",
       "| 9 | 234 | 1 | 1 | 3 | 2 | 1554061016 | 32450 | 32708 | 32035 | 32728 | 28.44269 | 10.70 | 46.34362 | 4.514077 | 14.42195 | 0 | 1.035 | 35.77361 | 1 |\n",
       "| 9 | 235 | 1 | 1 | 3 | 5 | 1554061017 | 32450 | 32708 | 32035 | 32728 | 28.44269 |  5.00 | 46.34362 | 4.514077 | 14.42195 | 0 | 1.035 | 35.77361 | 1 |\n",
       "\n"
      ],
      "text/plain": [
       "     date time door_state light_status sphone_signal temp_condition ts        \n",
       "[1,] 9    230  1          1            3             2              1554061012\n",
       "[2,] 9    231  1          1            3             2              1554061013\n",
       "[3,] 9    232  1          1            3             5              1554061014\n",
       "[4,] 9    233  1          1            3             5              1554061015\n",
       "[5,] 9    234  1          1            3             2              1554061016\n",
       "[6,] 9    235  1          1            3             5              1554061017\n",
       "     FC1_Read_Input_Register FC2_Read_Discrete_Value FC3_Read_Holding_Register\n",
       "[1,] 32450                   32708                   32035                    \n",
       "[2,] 32450                   32708                   32035                    \n",
       "[3,] 32450                   32708                   32035                    \n",
       "[4,] 32450                   32708                   32035                    \n",
       "[5,] 32450                   32708                   32035                    \n",
       "[6,] 32450                   32708                   32035                    \n",
       "     FC4_Read_Coil current_temperature fridge_temperature humidity latitude\n",
       "[1,] 32728         28.44269            13.10              46.34362 4.514077\n",
       "[2,] 32728         28.44269             8.65              46.34362 4.514077\n",
       "[3,] 32728         28.44269             2.00              46.34362 4.514077\n",
       "[4,] 32728         28.44269             4.80              46.34362 4.514077\n",
       "[5,] 32728         28.44269            10.70              46.34362 4.514077\n",
       "[6,] 32728         28.44269             5.00              46.34362 4.514077\n",
       "     longitude motion_status pressure temperature thermostat_status\n",
       "[1,] 14.42195  0             1.035    35.77361    1                \n",
       "[2,] 14.42195  0             1.035    35.77361    1                \n",
       "[3,] 14.42195  0             1.035    35.77361    1                \n",
       "[4,] 14.42195  0             1.035    35.77361    1                \n",
       "[5,] 14.42195  0             1.035    35.77361    1                \n",
       "[6,] 14.42195  0             1.035    35.77361    1                "
      ]
     },
     "metadata": {},
     "output_type": "display_data"
    }
   ],
   "source": [
    "out<-cbind(str_att,num_att) \n",
    "head(out)"
   ]
  },
  {
   "cell_type": "code",
   "execution_count": 20,
   "metadata": {},
   "outputs": [
    {
     "data": {
      "text/html": [
       "<table>\n",
       "<caption>A data.frame: 6 × 20</caption>\n",
       "<thead>\n",
       "\t<tr><th scope=col>date</th><th scope=col>time</th><th scope=col>door_state</th><th scope=col>light_status</th><th scope=col>sphone_signal</th><th scope=col>temp_condition</th><th scope=col>ts</th><th scope=col>FC1_Read_Input_Register</th><th scope=col>FC2_Read_Discrete_Value</th><th scope=col>FC3_Read_Holding_Register</th><th scope=col>FC4_Read_Coil</th><th scope=col>current_temperature</th><th scope=col>fridge_temperature</th><th scope=col>humidity</th><th scope=col>latitude</th><th scope=col>longitude</th><th scope=col>motion_status</th><th scope=col>pressure</th><th scope=col>temperature</th><th scope=col>thermostat_status</th></tr>\n",
       "\t<tr><th scope=col>&lt;dbl&gt;</th><th scope=col>&lt;dbl&gt;</th><th scope=col>&lt;dbl&gt;</th><th scope=col>&lt;dbl&gt;</th><th scope=col>&lt;dbl&gt;</th><th scope=col>&lt;dbl&gt;</th><th scope=col>&lt;dbl&gt;</th><th scope=col>&lt;dbl&gt;</th><th scope=col>&lt;dbl&gt;</th><th scope=col>&lt;dbl&gt;</th><th scope=col>&lt;dbl&gt;</th><th scope=col>&lt;dbl&gt;</th><th scope=col>&lt;dbl&gt;</th><th scope=col>&lt;dbl&gt;</th><th scope=col>&lt;dbl&gt;</th><th scope=col>&lt;dbl&gt;</th><th scope=col>&lt;dbl&gt;</th><th scope=col>&lt;dbl&gt;</th><th scope=col>&lt;dbl&gt;</th><th scope=col>&lt;dbl&gt;</th></tr>\n",
       "</thead>\n",
       "<tbody>\n",
       "\t<tr><td>1</td><td>0.003103486</td><td>0</td><td>0</td><td>0.6666667</td><td>0.2</td><td>0.000000e+00</td><td>0.4952157</td><td>0.4990921</td><td>0.4888974</td><td>0.4994049</td><td>0.3443989</td><td>0.93076923</td><td>0.4625106</td><td>0.008216647</td><td>0.008111674</td><td>0</td><td>0.5335562</td><td>0.5173074</td><td>1</td></tr>\n",
       "\t<tr><td>1</td><td>0.003117038</td><td>0</td><td>0</td><td>0.6666667</td><td>0.2</td><td>4.057493e-07</td><td>0.4952157</td><td>0.4990921</td><td>0.4888974</td><td>0.4994049</td><td>0.3443989</td><td>0.58846154</td><td>0.4625106</td><td>0.008216647</td><td>0.008111674</td><td>0</td><td>0.5335562</td><td>0.5173074</td><td>1</td></tr>\n",
       "\t<tr><td>1</td><td>0.003130590</td><td>0</td><td>0</td><td>0.6666667</td><td>0.8</td><td>8.114986e-07</td><td>0.4952157</td><td>0.4990921</td><td>0.4888974</td><td>0.4994049</td><td>0.3443989</td><td>0.07692308</td><td>0.4625106</td><td>0.008216647</td><td>0.008111674</td><td>0</td><td>0.5335562</td><td>0.5173074</td><td>1</td></tr>\n",
       "\t<tr><td>1</td><td>0.003144143</td><td>0</td><td>0</td><td>0.6666667</td><td>0.8</td><td>1.217248e-06</td><td>0.4952157</td><td>0.4990921</td><td>0.4888974</td><td>0.4994049</td><td>0.3443989</td><td>0.29230769</td><td>0.4625106</td><td>0.008216647</td><td>0.008111674</td><td>0</td><td>0.5335562</td><td>0.5173074</td><td>1</td></tr>\n",
       "\t<tr><td>1</td><td>0.003157695</td><td>0</td><td>0</td><td>0.6666667</td><td>0.2</td><td>1.622997e-06</td><td>0.4952157</td><td>0.4990921</td><td>0.4888974</td><td>0.4994049</td><td>0.3443989</td><td>0.74615385</td><td>0.4625106</td><td>0.008216647</td><td>0.008111674</td><td>0</td><td>0.5335562</td><td>0.5173074</td><td>1</td></tr>\n",
       "\t<tr><td>1</td><td>0.003171247</td><td>0</td><td>0</td><td>0.6666667</td><td>0.8</td><td>2.028747e-06</td><td>0.4952157</td><td>0.4990921</td><td>0.4888974</td><td>0.4994049</td><td>0.3443989</td><td>0.30769231</td><td>0.4625106</td><td>0.008216647</td><td>0.008111674</td><td>0</td><td>0.5335562</td><td>0.5173074</td><td>1</td></tr>\n",
       "</tbody>\n",
       "</table>\n"
      ],
      "text/latex": [
       "A data.frame: 6 × 20\n",
       "\\begin{tabular}{r|llllllllllllllllllll}\n",
       " date & time & door\\_state & light\\_status & sphone\\_signal & temp\\_condition & ts & FC1\\_Read\\_Input\\_Register & FC2\\_Read\\_Discrete\\_Value & FC3\\_Read\\_Holding\\_Register & FC4\\_Read\\_Coil & current\\_temperature & fridge\\_temperature & humidity & latitude & longitude & motion\\_status & pressure & temperature & thermostat\\_status\\\\\n",
       " <dbl> & <dbl> & <dbl> & <dbl> & <dbl> & <dbl> & <dbl> & <dbl> & <dbl> & <dbl> & <dbl> & <dbl> & <dbl> & <dbl> & <dbl> & <dbl> & <dbl> & <dbl> & <dbl> & <dbl>\\\\\n",
       "\\hline\n",
       "\t 1 & 0.003103486 & 0 & 0 & 0.6666667 & 0.2 & 0.000000e+00 & 0.4952157 & 0.4990921 & 0.4888974 & 0.4994049 & 0.3443989 & 0.93076923 & 0.4625106 & 0.008216647 & 0.008111674 & 0 & 0.5335562 & 0.5173074 & 1\\\\\n",
       "\t 1 & 0.003117038 & 0 & 0 & 0.6666667 & 0.2 & 4.057493e-07 & 0.4952157 & 0.4990921 & 0.4888974 & 0.4994049 & 0.3443989 & 0.58846154 & 0.4625106 & 0.008216647 & 0.008111674 & 0 & 0.5335562 & 0.5173074 & 1\\\\\n",
       "\t 1 & 0.003130590 & 0 & 0 & 0.6666667 & 0.8 & 8.114986e-07 & 0.4952157 & 0.4990921 & 0.4888974 & 0.4994049 & 0.3443989 & 0.07692308 & 0.4625106 & 0.008216647 & 0.008111674 & 0 & 0.5335562 & 0.5173074 & 1\\\\\n",
       "\t 1 & 0.003144143 & 0 & 0 & 0.6666667 & 0.8 & 1.217248e-06 & 0.4952157 & 0.4990921 & 0.4888974 & 0.4994049 & 0.3443989 & 0.29230769 & 0.4625106 & 0.008216647 & 0.008111674 & 0 & 0.5335562 & 0.5173074 & 1\\\\\n",
       "\t 1 & 0.003157695 & 0 & 0 & 0.6666667 & 0.2 & 1.622997e-06 & 0.4952157 & 0.4990921 & 0.4888974 & 0.4994049 & 0.3443989 & 0.74615385 & 0.4625106 & 0.008216647 & 0.008111674 & 0 & 0.5335562 & 0.5173074 & 1\\\\\n",
       "\t 1 & 0.003171247 & 0 & 0 & 0.6666667 & 0.8 & 2.028747e-06 & 0.4952157 & 0.4990921 & 0.4888974 & 0.4994049 & 0.3443989 & 0.30769231 & 0.4625106 & 0.008216647 & 0.008111674 & 0 & 0.5335562 & 0.5173074 & 1\\\\\n",
       "\\end{tabular}\n"
      ],
      "text/markdown": [
       "\n",
       "A data.frame: 6 × 20\n",
       "\n",
       "| date &lt;dbl&gt; | time &lt;dbl&gt; | door_state &lt;dbl&gt; | light_status &lt;dbl&gt; | sphone_signal &lt;dbl&gt; | temp_condition &lt;dbl&gt; | ts &lt;dbl&gt; | FC1_Read_Input_Register &lt;dbl&gt; | FC2_Read_Discrete_Value &lt;dbl&gt; | FC3_Read_Holding_Register &lt;dbl&gt; | FC4_Read_Coil &lt;dbl&gt; | current_temperature &lt;dbl&gt; | fridge_temperature &lt;dbl&gt; | humidity &lt;dbl&gt; | latitude &lt;dbl&gt; | longitude &lt;dbl&gt; | motion_status &lt;dbl&gt; | pressure &lt;dbl&gt; | temperature &lt;dbl&gt; | thermostat_status &lt;dbl&gt; |\n",
       "|---|---|---|---|---|---|---|---|---|---|---|---|---|---|---|---|---|---|---|---|\n",
       "| 1 | 0.003103486 | 0 | 0 | 0.6666667 | 0.2 | 0.000000e+00 | 0.4952157 | 0.4990921 | 0.4888974 | 0.4994049 | 0.3443989 | 0.93076923 | 0.4625106 | 0.008216647 | 0.008111674 | 0 | 0.5335562 | 0.5173074 | 1 |\n",
       "| 1 | 0.003117038 | 0 | 0 | 0.6666667 | 0.2 | 4.057493e-07 | 0.4952157 | 0.4990921 | 0.4888974 | 0.4994049 | 0.3443989 | 0.58846154 | 0.4625106 | 0.008216647 | 0.008111674 | 0 | 0.5335562 | 0.5173074 | 1 |\n",
       "| 1 | 0.003130590 | 0 | 0 | 0.6666667 | 0.8 | 8.114986e-07 | 0.4952157 | 0.4990921 | 0.4888974 | 0.4994049 | 0.3443989 | 0.07692308 | 0.4625106 | 0.008216647 | 0.008111674 | 0 | 0.5335562 | 0.5173074 | 1 |\n",
       "| 1 | 0.003144143 | 0 | 0 | 0.6666667 | 0.8 | 1.217248e-06 | 0.4952157 | 0.4990921 | 0.4888974 | 0.4994049 | 0.3443989 | 0.29230769 | 0.4625106 | 0.008216647 | 0.008111674 | 0 | 0.5335562 | 0.5173074 | 1 |\n",
       "| 1 | 0.003157695 | 0 | 0 | 0.6666667 | 0.2 | 1.622997e-06 | 0.4952157 | 0.4990921 | 0.4888974 | 0.4994049 | 0.3443989 | 0.74615385 | 0.4625106 | 0.008216647 | 0.008111674 | 0 | 0.5335562 | 0.5173074 | 1 |\n",
       "| 1 | 0.003171247 | 0 | 0 | 0.6666667 | 0.8 | 2.028747e-06 | 0.4952157 | 0.4990921 | 0.4888974 | 0.4994049 | 0.3443989 | 0.30769231 | 0.4625106 | 0.008216647 | 0.008111674 | 0 | 0.5335562 | 0.5173074 | 1 |\n",
       "\n"
      ],
      "text/plain": [
       "  date time        door_state light_status sphone_signal temp_condition\n",
       "1 1    0.003103486 0          0            0.6666667     0.2           \n",
       "2 1    0.003117038 0          0            0.6666667     0.2           \n",
       "3 1    0.003130590 0          0            0.6666667     0.8           \n",
       "4 1    0.003144143 0          0            0.6666667     0.8           \n",
       "5 1    0.003157695 0          0            0.6666667     0.2           \n",
       "6 1    0.003171247 0          0            0.6666667     0.8           \n",
       "  ts           FC1_Read_Input_Register FC2_Read_Discrete_Value\n",
       "1 0.000000e+00 0.4952157               0.4990921              \n",
       "2 4.057493e-07 0.4952157               0.4990921              \n",
       "3 8.114986e-07 0.4952157               0.4990921              \n",
       "4 1.217248e-06 0.4952157               0.4990921              \n",
       "5 1.622997e-06 0.4952157               0.4990921              \n",
       "6 2.028747e-06 0.4952157               0.4990921              \n",
       "  FC3_Read_Holding_Register FC4_Read_Coil current_temperature\n",
       "1 0.4888974                 0.4994049     0.3443989          \n",
       "2 0.4888974                 0.4994049     0.3443989          \n",
       "3 0.4888974                 0.4994049     0.3443989          \n",
       "4 0.4888974                 0.4994049     0.3443989          \n",
       "5 0.4888974                 0.4994049     0.3443989          \n",
       "6 0.4888974                 0.4994049     0.3443989          \n",
       "  fridge_temperature humidity  latitude    longitude   motion_status pressure \n",
       "1 0.93076923         0.4625106 0.008216647 0.008111674 0             0.5335562\n",
       "2 0.58846154         0.4625106 0.008216647 0.008111674 0             0.5335562\n",
       "3 0.07692308         0.4625106 0.008216647 0.008111674 0             0.5335562\n",
       "4 0.29230769         0.4625106 0.008216647 0.008111674 0             0.5335562\n",
       "5 0.74615385         0.4625106 0.008216647 0.008111674 0             0.5335562\n",
       "6 0.30769231         0.4625106 0.008216647 0.008111674 0             0.5335562\n",
       "  temperature thermostat_status\n",
       "1 0.5173074   1                \n",
       "2 0.5173074   1                \n",
       "3 0.5173074   1                \n",
       "4 0.5173074   1                \n",
       "5 0.5173074   1                \n",
       "6 0.5173074   1                "
      ]
     },
     "metadata": {},
     "output_type": "display_data"
    }
   ],
   "source": [
    "dt_n= as.data.frame(apply(out, 2, rescale, to=c(0,1)))\n",
    "head(dt_n)"
   ]
  },
  {
   "cell_type": "code",
   "execution_count": 21,
   "metadata": {},
   "outputs": [
    {
     "data": {
      "text/html": [
       "<table>\n",
       "<caption>A data.frame: 6 × 21</caption>\n",
       "<thead>\n",
       "\t<tr><th scope=col>date</th><th scope=col>time</th><th scope=col>door_state</th><th scope=col>light_status</th><th scope=col>sphone_signal</th><th scope=col>temp_condition</th><th scope=col>ts</th><th scope=col>FC1_Read_Input_Register</th><th scope=col>FC2_Read_Discrete_Value</th><th scope=col>FC3_Read_Holding_Register</th><th scope=col>...</th><th scope=col>current_temperature</th><th scope=col>fridge_temperature</th><th scope=col>humidity</th><th scope=col>latitude</th><th scope=col>longitude</th><th scope=col>motion_status</th><th scope=col>pressure</th><th scope=col>temperature</th><th scope=col>thermostat_status</th><th scope=col>data[, ncol(data) - 1]</th></tr>\n",
       "\t<tr><th scope=col>&lt;dbl&gt;</th><th scope=col>&lt;dbl&gt;</th><th scope=col>&lt;dbl&gt;</th><th scope=col>&lt;dbl&gt;</th><th scope=col>&lt;dbl&gt;</th><th scope=col>&lt;dbl&gt;</th><th scope=col>&lt;dbl&gt;</th><th scope=col>&lt;dbl&gt;</th><th scope=col>&lt;dbl&gt;</th><th scope=col>&lt;dbl&gt;</th><th scope=col>...</th><th scope=col>&lt;dbl&gt;</th><th scope=col>&lt;dbl&gt;</th><th scope=col>&lt;dbl&gt;</th><th scope=col>&lt;dbl&gt;</th><th scope=col>&lt;dbl&gt;</th><th scope=col>&lt;dbl&gt;</th><th scope=col>&lt;dbl&gt;</th><th scope=col>&lt;dbl&gt;</th><th scope=col>&lt;dbl&gt;</th><th scope=col>&lt;int&gt;</th></tr>\n",
       "</thead>\n",
       "<tbody>\n",
       "\t<tr><td>1</td><td>0.003103486</td><td>0</td><td>0</td><td>0.6666667</td><td>0.2</td><td>0.000000e+00</td><td>0.4952157</td><td>0.4990921</td><td>0.4888974</td><td>...</td><td>0.3443989</td><td>0.93076923</td><td>0.4625106</td><td>0.008216647</td><td>0.008111674</td><td>0</td><td>0.5335562</td><td>0.5173074</td><td>1</td><td>0</td></tr>\n",
       "\t<tr><td>1</td><td>0.003117038</td><td>0</td><td>0</td><td>0.6666667</td><td>0.2</td><td>4.057493e-07</td><td>0.4952157</td><td>0.4990921</td><td>0.4888974</td><td>...</td><td>0.3443989</td><td>0.58846154</td><td>0.4625106</td><td>0.008216647</td><td>0.008111674</td><td>0</td><td>0.5335562</td><td>0.5173074</td><td>1</td><td>0</td></tr>\n",
       "\t<tr><td>1</td><td>0.003130590</td><td>0</td><td>0</td><td>0.6666667</td><td>0.8</td><td>8.114986e-07</td><td>0.4952157</td><td>0.4990921</td><td>0.4888974</td><td>...</td><td>0.3443989</td><td>0.07692308</td><td>0.4625106</td><td>0.008216647</td><td>0.008111674</td><td>0</td><td>0.5335562</td><td>0.5173074</td><td>1</td><td>0</td></tr>\n",
       "\t<tr><td>1</td><td>0.003144143</td><td>0</td><td>0</td><td>0.6666667</td><td>0.8</td><td>1.217248e-06</td><td>0.4952157</td><td>0.4990921</td><td>0.4888974</td><td>...</td><td>0.3443989</td><td>0.29230769</td><td>0.4625106</td><td>0.008216647</td><td>0.008111674</td><td>0</td><td>0.5335562</td><td>0.5173074</td><td>1</td><td>0</td></tr>\n",
       "\t<tr><td>1</td><td>0.003157695</td><td>0</td><td>0</td><td>0.6666667</td><td>0.2</td><td>1.622997e-06</td><td>0.4952157</td><td>0.4990921</td><td>0.4888974</td><td>...</td><td>0.3443989</td><td>0.74615385</td><td>0.4625106</td><td>0.008216647</td><td>0.008111674</td><td>0</td><td>0.5335562</td><td>0.5173074</td><td>1</td><td>0</td></tr>\n",
       "\t<tr><td>1</td><td>0.003171247</td><td>0</td><td>0</td><td>0.6666667</td><td>0.8</td><td>2.028747e-06</td><td>0.4952157</td><td>0.4990921</td><td>0.4888974</td><td>...</td><td>0.3443989</td><td>0.30769231</td><td>0.4625106</td><td>0.008216647</td><td>0.008111674</td><td>0</td><td>0.5335562</td><td>0.5173074</td><td>1</td><td>0</td></tr>\n",
       "</tbody>\n",
       "</table>\n"
      ],
      "text/latex": [
       "A data.frame: 6 × 21\n",
       "\\begin{tabular}{r|lllllllllllllllllllll}\n",
       " date & time & door\\_state & light\\_status & sphone\\_signal & temp\\_condition & ts & FC1\\_Read\\_Input\\_Register & FC2\\_Read\\_Discrete\\_Value & FC3\\_Read\\_Holding\\_Register & FC4\\_Read\\_Coil & current\\_temperature & fridge\\_temperature & humidity & latitude & longitude & motion\\_status & pressure & temperature & thermostat\\_status & data{[}, ncol(data) - 1{]}\\\\\n",
       " <dbl> & <dbl> & <dbl> & <dbl> & <dbl> & <dbl> & <dbl> & <dbl> & <dbl> & <dbl> & <dbl> & <dbl> & <dbl> & <dbl> & <dbl> & <dbl> & <dbl> & <dbl> & <dbl> & <dbl> & <int>\\\\\n",
       "\\hline\n",
       "\t 1 & 0.003103486 & 0 & 0 & 0.6666667 & 0.2 & 0.000000e+00 & 0.4952157 & 0.4990921 & 0.4888974 & 0.4994049 & 0.3443989 & 0.93076923 & 0.4625106 & 0.008216647 & 0.008111674 & 0 & 0.5335562 & 0.5173074 & 1 & 0\\\\\n",
       "\t 1 & 0.003117038 & 0 & 0 & 0.6666667 & 0.2 & 4.057493e-07 & 0.4952157 & 0.4990921 & 0.4888974 & 0.4994049 & 0.3443989 & 0.58846154 & 0.4625106 & 0.008216647 & 0.008111674 & 0 & 0.5335562 & 0.5173074 & 1 & 0\\\\\n",
       "\t 1 & 0.003130590 & 0 & 0 & 0.6666667 & 0.8 & 8.114986e-07 & 0.4952157 & 0.4990921 & 0.4888974 & 0.4994049 & 0.3443989 & 0.07692308 & 0.4625106 & 0.008216647 & 0.008111674 & 0 & 0.5335562 & 0.5173074 & 1 & 0\\\\\n",
       "\t 1 & 0.003144143 & 0 & 0 & 0.6666667 & 0.8 & 1.217248e-06 & 0.4952157 & 0.4990921 & 0.4888974 & 0.4994049 & 0.3443989 & 0.29230769 & 0.4625106 & 0.008216647 & 0.008111674 & 0 & 0.5335562 & 0.5173074 & 1 & 0\\\\\n",
       "\t 1 & 0.003157695 & 0 & 0 & 0.6666667 & 0.2 & 1.622997e-06 & 0.4952157 & 0.4990921 & 0.4888974 & 0.4994049 & 0.3443989 & 0.74615385 & 0.4625106 & 0.008216647 & 0.008111674 & 0 & 0.5335562 & 0.5173074 & 1 & 0\\\\\n",
       "\t 1 & 0.003171247 & 0 & 0 & 0.6666667 & 0.8 & 2.028747e-06 & 0.4952157 & 0.4990921 & 0.4888974 & 0.4994049 & 0.3443989 & 0.30769231 & 0.4625106 & 0.008216647 & 0.008111674 & 0 & 0.5335562 & 0.5173074 & 1 & 0\\\\\n",
       "\\end{tabular}\n"
      ],
      "text/markdown": [
       "\n",
       "A data.frame: 6 × 21\n",
       "\n",
       "| date &lt;dbl&gt; | time &lt;dbl&gt; | door_state &lt;dbl&gt; | light_status &lt;dbl&gt; | sphone_signal &lt;dbl&gt; | temp_condition &lt;dbl&gt; | ts &lt;dbl&gt; | FC1_Read_Input_Register &lt;dbl&gt; | FC2_Read_Discrete_Value &lt;dbl&gt; | FC3_Read_Holding_Register &lt;dbl&gt; | ... ... | current_temperature &lt;dbl&gt; | fridge_temperature &lt;dbl&gt; | humidity &lt;dbl&gt; | latitude &lt;dbl&gt; | longitude &lt;dbl&gt; | motion_status &lt;dbl&gt; | pressure &lt;dbl&gt; | temperature &lt;dbl&gt; | thermostat_status &lt;dbl&gt; | data[, ncol(data) - 1] &lt;int&gt; |\n",
       "|---|---|---|---|---|---|---|---|---|---|---|---|---|---|---|---|---|---|---|---|---|\n",
       "| 1 | 0.003103486 | 0 | 0 | 0.6666667 | 0.2 | 0.000000e+00 | 0.4952157 | 0.4990921 | 0.4888974 | ... | 0.3443989 | 0.93076923 | 0.4625106 | 0.008216647 | 0.008111674 | 0 | 0.5335562 | 0.5173074 | 1 | 0 |\n",
       "| 1 | 0.003117038 | 0 | 0 | 0.6666667 | 0.2 | 4.057493e-07 | 0.4952157 | 0.4990921 | 0.4888974 | ... | 0.3443989 | 0.58846154 | 0.4625106 | 0.008216647 | 0.008111674 | 0 | 0.5335562 | 0.5173074 | 1 | 0 |\n",
       "| 1 | 0.003130590 | 0 | 0 | 0.6666667 | 0.8 | 8.114986e-07 | 0.4952157 | 0.4990921 | 0.4888974 | ... | 0.3443989 | 0.07692308 | 0.4625106 | 0.008216647 | 0.008111674 | 0 | 0.5335562 | 0.5173074 | 1 | 0 |\n",
       "| 1 | 0.003144143 | 0 | 0 | 0.6666667 | 0.8 | 1.217248e-06 | 0.4952157 | 0.4990921 | 0.4888974 | ... | 0.3443989 | 0.29230769 | 0.4625106 | 0.008216647 | 0.008111674 | 0 | 0.5335562 | 0.5173074 | 1 | 0 |\n",
       "| 1 | 0.003157695 | 0 | 0 | 0.6666667 | 0.2 | 1.622997e-06 | 0.4952157 | 0.4990921 | 0.4888974 | ... | 0.3443989 | 0.74615385 | 0.4625106 | 0.008216647 | 0.008111674 | 0 | 0.5335562 | 0.5173074 | 1 | 0 |\n",
       "| 1 | 0.003171247 | 0 | 0 | 0.6666667 | 0.8 | 2.028747e-06 | 0.4952157 | 0.4990921 | 0.4888974 | ... | 0.3443989 | 0.30769231 | 0.4625106 | 0.008216647 | 0.008111674 | 0 | 0.5335562 | 0.5173074 | 1 | 0 |\n",
       "\n"
      ],
      "text/plain": [
       "  date time        door_state light_status sphone_signal temp_condition\n",
       "1 1    0.003103486 0          0            0.6666667     0.2           \n",
       "2 1    0.003117038 0          0            0.6666667     0.2           \n",
       "3 1    0.003130590 0          0            0.6666667     0.8           \n",
       "4 1    0.003144143 0          0            0.6666667     0.8           \n",
       "5 1    0.003157695 0          0            0.6666667     0.2           \n",
       "6 1    0.003171247 0          0            0.6666667     0.8           \n",
       "  ts           FC1_Read_Input_Register FC2_Read_Discrete_Value\n",
       "1 0.000000e+00 0.4952157               0.4990921              \n",
       "2 4.057493e-07 0.4952157               0.4990921              \n",
       "3 8.114986e-07 0.4952157               0.4990921              \n",
       "4 1.217248e-06 0.4952157               0.4990921              \n",
       "5 1.622997e-06 0.4952157               0.4990921              \n",
       "6 2.028747e-06 0.4952157               0.4990921              \n",
       "  FC3_Read_Holding_Register ... current_temperature fridge_temperature\n",
       "1 0.4888974                 ... 0.3443989           0.93076923        \n",
       "2 0.4888974                 ... 0.3443989           0.58846154        \n",
       "3 0.4888974                 ... 0.3443989           0.07692308        \n",
       "4 0.4888974                 ... 0.3443989           0.29230769        \n",
       "5 0.4888974                 ... 0.3443989           0.74615385        \n",
       "6 0.4888974                 ... 0.3443989           0.30769231        \n",
       "  humidity  latitude    longitude   motion_status pressure  temperature\n",
       "1 0.4625106 0.008216647 0.008111674 0             0.5335562 0.5173074  \n",
       "2 0.4625106 0.008216647 0.008111674 0             0.5335562 0.5173074  \n",
       "3 0.4625106 0.008216647 0.008111674 0             0.5335562 0.5173074  \n",
       "4 0.4625106 0.008216647 0.008111674 0             0.5335562 0.5173074  \n",
       "5 0.4625106 0.008216647 0.008111674 0             0.5335562 0.5173074  \n",
       "6 0.4625106 0.008216647 0.008111674 0             0.5335562 0.5173074  \n",
       "  thermostat_status data[, ncol(data) - 1]\n",
       "1 1                 0                     \n",
       "2 1                 0                     \n",
       "3 1                 0                     \n",
       "4 1                 0                     \n",
       "5 1                 0                     \n",
       "6 1                 0                     "
      ]
     },
     "metadata": {},
     "output_type": "display_data"
    }
   ],
   "source": [
    "all_dt = cbind (dt_n,data[,ncol(data)-1]) \n",
    "head(all_dt)"
   ]
  },
  {
   "cell_type": "code",
   "execution_count": 22,
   "metadata": {},
   "outputs": [
    {
     "data": {
      "text/html": [
       "<table>\n",
       "<caption>A data.frame: 6 × 21</caption>\n",
       "<thead>\n",
       "\t<tr><th scope=col>date</th><th scope=col>time</th><th scope=col>door_state</th><th scope=col>light_status</th><th scope=col>sphone_signal</th><th scope=col>temp_condition</th><th scope=col>ts</th><th scope=col>FC1_Read_Input_Register</th><th scope=col>FC2_Read_Discrete_Value</th><th scope=col>FC3_Read_Holding_Register</th><th scope=col>...</th><th scope=col>current_temperature</th><th scope=col>fridge_temperature</th><th scope=col>humidity</th><th scope=col>latitude</th><th scope=col>longitude</th><th scope=col>motion_status</th><th scope=col>pressure</th><th scope=col>temperature</th><th scope=col>thermostat_status</th><th scope=col>label</th></tr>\n",
       "\t<tr><th scope=col>&lt;dbl&gt;</th><th scope=col>&lt;dbl&gt;</th><th scope=col>&lt;dbl&gt;</th><th scope=col>&lt;dbl&gt;</th><th scope=col>&lt;dbl&gt;</th><th scope=col>&lt;dbl&gt;</th><th scope=col>&lt;dbl&gt;</th><th scope=col>&lt;dbl&gt;</th><th scope=col>&lt;dbl&gt;</th><th scope=col>&lt;dbl&gt;</th><th scope=col>...</th><th scope=col>&lt;dbl&gt;</th><th scope=col>&lt;dbl&gt;</th><th scope=col>&lt;dbl&gt;</th><th scope=col>&lt;dbl&gt;</th><th scope=col>&lt;dbl&gt;</th><th scope=col>&lt;dbl&gt;</th><th scope=col>&lt;dbl&gt;</th><th scope=col>&lt;dbl&gt;</th><th scope=col>&lt;dbl&gt;</th><th scope=col>&lt;int&gt;</th></tr>\n",
       "</thead>\n",
       "<tbody>\n",
       "\t<tr><td>1</td><td>0.003103486</td><td>0</td><td>0</td><td>0.6666667</td><td>0.2</td><td>0.000000e+00</td><td>0.4952157</td><td>0.4990921</td><td>0.4888974</td><td>...</td><td>0.3443989</td><td>0.93076923</td><td>0.4625106</td><td>0.008216647</td><td>0.008111674</td><td>0</td><td>0.5335562</td><td>0.5173074</td><td>1</td><td>0</td></tr>\n",
       "\t<tr><td>1</td><td>0.003117038</td><td>0</td><td>0</td><td>0.6666667</td><td>0.2</td><td>4.057493e-07</td><td>0.4952157</td><td>0.4990921</td><td>0.4888974</td><td>...</td><td>0.3443989</td><td>0.58846154</td><td>0.4625106</td><td>0.008216647</td><td>0.008111674</td><td>0</td><td>0.5335562</td><td>0.5173074</td><td>1</td><td>0</td></tr>\n",
       "\t<tr><td>1</td><td>0.003130590</td><td>0</td><td>0</td><td>0.6666667</td><td>0.8</td><td>8.114986e-07</td><td>0.4952157</td><td>0.4990921</td><td>0.4888974</td><td>...</td><td>0.3443989</td><td>0.07692308</td><td>0.4625106</td><td>0.008216647</td><td>0.008111674</td><td>0</td><td>0.5335562</td><td>0.5173074</td><td>1</td><td>0</td></tr>\n",
       "\t<tr><td>1</td><td>0.003144143</td><td>0</td><td>0</td><td>0.6666667</td><td>0.8</td><td>1.217248e-06</td><td>0.4952157</td><td>0.4990921</td><td>0.4888974</td><td>...</td><td>0.3443989</td><td>0.29230769</td><td>0.4625106</td><td>0.008216647</td><td>0.008111674</td><td>0</td><td>0.5335562</td><td>0.5173074</td><td>1</td><td>0</td></tr>\n",
       "\t<tr><td>1</td><td>0.003157695</td><td>0</td><td>0</td><td>0.6666667</td><td>0.2</td><td>1.622997e-06</td><td>0.4952157</td><td>0.4990921</td><td>0.4888974</td><td>...</td><td>0.3443989</td><td>0.74615385</td><td>0.4625106</td><td>0.008216647</td><td>0.008111674</td><td>0</td><td>0.5335562</td><td>0.5173074</td><td>1</td><td>0</td></tr>\n",
       "\t<tr><td>1</td><td>0.003171247</td><td>0</td><td>0</td><td>0.6666667</td><td>0.8</td><td>2.028747e-06</td><td>0.4952157</td><td>0.4990921</td><td>0.4888974</td><td>...</td><td>0.3443989</td><td>0.30769231</td><td>0.4625106</td><td>0.008216647</td><td>0.008111674</td><td>0</td><td>0.5335562</td><td>0.5173074</td><td>1</td><td>0</td></tr>\n",
       "</tbody>\n",
       "</table>\n"
      ],
      "text/latex": [
       "A data.frame: 6 × 21\n",
       "\\begin{tabular}{r|lllllllllllllllllllll}\n",
       " date & time & door\\_state & light\\_status & sphone\\_signal & temp\\_condition & ts & FC1\\_Read\\_Input\\_Register & FC2\\_Read\\_Discrete\\_Value & FC3\\_Read\\_Holding\\_Register & FC4\\_Read\\_Coil & current\\_temperature & fridge\\_temperature & humidity & latitude & longitude & motion\\_status & pressure & temperature & thermostat\\_status & label\\\\\n",
       " <dbl> & <dbl> & <dbl> & <dbl> & <dbl> & <dbl> & <dbl> & <dbl> & <dbl> & <dbl> & <dbl> & <dbl> & <dbl> & <dbl> & <dbl> & <dbl> & <dbl> & <dbl> & <dbl> & <dbl> & <int>\\\\\n",
       "\\hline\n",
       "\t 1 & 0.003103486 & 0 & 0 & 0.6666667 & 0.2 & 0.000000e+00 & 0.4952157 & 0.4990921 & 0.4888974 & 0.4994049 & 0.3443989 & 0.93076923 & 0.4625106 & 0.008216647 & 0.008111674 & 0 & 0.5335562 & 0.5173074 & 1 & 0\\\\\n",
       "\t 1 & 0.003117038 & 0 & 0 & 0.6666667 & 0.2 & 4.057493e-07 & 0.4952157 & 0.4990921 & 0.4888974 & 0.4994049 & 0.3443989 & 0.58846154 & 0.4625106 & 0.008216647 & 0.008111674 & 0 & 0.5335562 & 0.5173074 & 1 & 0\\\\\n",
       "\t 1 & 0.003130590 & 0 & 0 & 0.6666667 & 0.8 & 8.114986e-07 & 0.4952157 & 0.4990921 & 0.4888974 & 0.4994049 & 0.3443989 & 0.07692308 & 0.4625106 & 0.008216647 & 0.008111674 & 0 & 0.5335562 & 0.5173074 & 1 & 0\\\\\n",
       "\t 1 & 0.003144143 & 0 & 0 & 0.6666667 & 0.8 & 1.217248e-06 & 0.4952157 & 0.4990921 & 0.4888974 & 0.4994049 & 0.3443989 & 0.29230769 & 0.4625106 & 0.008216647 & 0.008111674 & 0 & 0.5335562 & 0.5173074 & 1 & 0\\\\\n",
       "\t 1 & 0.003157695 & 0 & 0 & 0.6666667 & 0.2 & 1.622997e-06 & 0.4952157 & 0.4990921 & 0.4888974 & 0.4994049 & 0.3443989 & 0.74615385 & 0.4625106 & 0.008216647 & 0.008111674 & 0 & 0.5335562 & 0.5173074 & 1 & 0\\\\\n",
       "\t 1 & 0.003171247 & 0 & 0 & 0.6666667 & 0.8 & 2.028747e-06 & 0.4952157 & 0.4990921 & 0.4888974 & 0.4994049 & 0.3443989 & 0.30769231 & 0.4625106 & 0.008216647 & 0.008111674 & 0 & 0.5335562 & 0.5173074 & 1 & 0\\\\\n",
       "\\end{tabular}\n"
      ],
      "text/markdown": [
       "\n",
       "A data.frame: 6 × 21\n",
       "\n",
       "| date &lt;dbl&gt; | time &lt;dbl&gt; | door_state &lt;dbl&gt; | light_status &lt;dbl&gt; | sphone_signal &lt;dbl&gt; | temp_condition &lt;dbl&gt; | ts &lt;dbl&gt; | FC1_Read_Input_Register &lt;dbl&gt; | FC2_Read_Discrete_Value &lt;dbl&gt; | FC3_Read_Holding_Register &lt;dbl&gt; | ... ... | current_temperature &lt;dbl&gt; | fridge_temperature &lt;dbl&gt; | humidity &lt;dbl&gt; | latitude &lt;dbl&gt; | longitude &lt;dbl&gt; | motion_status &lt;dbl&gt; | pressure &lt;dbl&gt; | temperature &lt;dbl&gt; | thermostat_status &lt;dbl&gt; | label &lt;int&gt; |\n",
       "|---|---|---|---|---|---|---|---|---|---|---|---|---|---|---|---|---|---|---|---|---|\n",
       "| 1 | 0.003103486 | 0 | 0 | 0.6666667 | 0.2 | 0.000000e+00 | 0.4952157 | 0.4990921 | 0.4888974 | ... | 0.3443989 | 0.93076923 | 0.4625106 | 0.008216647 | 0.008111674 | 0 | 0.5335562 | 0.5173074 | 1 | 0 |\n",
       "| 1 | 0.003117038 | 0 | 0 | 0.6666667 | 0.2 | 4.057493e-07 | 0.4952157 | 0.4990921 | 0.4888974 | ... | 0.3443989 | 0.58846154 | 0.4625106 | 0.008216647 | 0.008111674 | 0 | 0.5335562 | 0.5173074 | 1 | 0 |\n",
       "| 1 | 0.003130590 | 0 | 0 | 0.6666667 | 0.8 | 8.114986e-07 | 0.4952157 | 0.4990921 | 0.4888974 | ... | 0.3443989 | 0.07692308 | 0.4625106 | 0.008216647 | 0.008111674 | 0 | 0.5335562 | 0.5173074 | 1 | 0 |\n",
       "| 1 | 0.003144143 | 0 | 0 | 0.6666667 | 0.8 | 1.217248e-06 | 0.4952157 | 0.4990921 | 0.4888974 | ... | 0.3443989 | 0.29230769 | 0.4625106 | 0.008216647 | 0.008111674 | 0 | 0.5335562 | 0.5173074 | 1 | 0 |\n",
       "| 1 | 0.003157695 | 0 | 0 | 0.6666667 | 0.2 | 1.622997e-06 | 0.4952157 | 0.4990921 | 0.4888974 | ... | 0.3443989 | 0.74615385 | 0.4625106 | 0.008216647 | 0.008111674 | 0 | 0.5335562 | 0.5173074 | 1 | 0 |\n",
       "| 1 | 0.003171247 | 0 | 0 | 0.6666667 | 0.8 | 2.028747e-06 | 0.4952157 | 0.4990921 | 0.4888974 | ... | 0.3443989 | 0.30769231 | 0.4625106 | 0.008216647 | 0.008111674 | 0 | 0.5335562 | 0.5173074 | 1 | 0 |\n",
       "\n"
      ],
      "text/plain": [
       "  date time        door_state light_status sphone_signal temp_condition\n",
       "1 1    0.003103486 0          0            0.6666667     0.2           \n",
       "2 1    0.003117038 0          0            0.6666667     0.2           \n",
       "3 1    0.003130590 0          0            0.6666667     0.8           \n",
       "4 1    0.003144143 0          0            0.6666667     0.8           \n",
       "5 1    0.003157695 0          0            0.6666667     0.2           \n",
       "6 1    0.003171247 0          0            0.6666667     0.8           \n",
       "  ts           FC1_Read_Input_Register FC2_Read_Discrete_Value\n",
       "1 0.000000e+00 0.4952157               0.4990921              \n",
       "2 4.057493e-07 0.4952157               0.4990921              \n",
       "3 8.114986e-07 0.4952157               0.4990921              \n",
       "4 1.217248e-06 0.4952157               0.4990921              \n",
       "5 1.622997e-06 0.4952157               0.4990921              \n",
       "6 2.028747e-06 0.4952157               0.4990921              \n",
       "  FC3_Read_Holding_Register ... current_temperature fridge_temperature\n",
       "1 0.4888974                 ... 0.3443989           0.93076923        \n",
       "2 0.4888974                 ... 0.3443989           0.58846154        \n",
       "3 0.4888974                 ... 0.3443989           0.07692308        \n",
       "4 0.4888974                 ... 0.3443989           0.29230769        \n",
       "5 0.4888974                 ... 0.3443989           0.74615385        \n",
       "6 0.4888974                 ... 0.3443989           0.30769231        \n",
       "  humidity  latitude    longitude   motion_status pressure  temperature\n",
       "1 0.4625106 0.008216647 0.008111674 0             0.5335562 0.5173074  \n",
       "2 0.4625106 0.008216647 0.008111674 0             0.5335562 0.5173074  \n",
       "3 0.4625106 0.008216647 0.008111674 0             0.5335562 0.5173074  \n",
       "4 0.4625106 0.008216647 0.008111674 0             0.5335562 0.5173074  \n",
       "5 0.4625106 0.008216647 0.008111674 0             0.5335562 0.5173074  \n",
       "6 0.4625106 0.008216647 0.008111674 0             0.5335562 0.5173074  \n",
       "  thermostat_status label\n",
       "1 1                 0    \n",
       "2 1                 0    \n",
       "3 1                 0    \n",
       "4 1                 0    \n",
       "5 1                 0    \n",
       "6 1                 0    "
      ]
     },
     "metadata": {},
     "output_type": "display_data"
    }
   ],
   "source": [
    "names(all_dt)[ncol(all_dt)] <- \"label\"\n",
    "head(all_dt)"
   ]
  },
  {
   "cell_type": "code",
   "execution_count": 23,
   "metadata": {},
   "outputs": [
    {
     "data": {
      "text/html": [
       "<table>\n",
       "<caption>A matrix: 20 × 20 of type dbl</caption>\n",
       "<thead>\n",
       "\t<tr><th></th><th scope=col>date</th><th scope=col>time</th><th scope=col>door_state</th><th scope=col>light_status</th><th scope=col>sphone_signal</th><th scope=col>temp_condition</th><th scope=col>ts</th><th scope=col>FC1_Read_Input_Register</th><th scope=col>FC2_Read_Discrete_Value</th><th scope=col>FC3_Read_Holding_Register</th><th scope=col>FC4_Read_Coil</th><th scope=col>current_temperature</th><th scope=col>fridge_temperature</th><th scope=col>humidity</th><th scope=col>latitude</th><th scope=col>longitude</th><th scope=col>motion_status</th><th scope=col>pressure</th><th scope=col>temperature</th><th scope=col>thermostat_status</th></tr>\n",
       "</thead>\n",
       "<tbody>\n",
       "\t<tr><th scope=row>date</th><td> 0.000000e+00</td><td> 0.000000e+00</td><td>2.707736e-10</td><td>4.254574e-119</td><td>7.101794e-246</td><td> 1.439870e-06</td><td>0.000000e+00</td><td>7.957032e-03</td><td>1.148038e-01</td><td>1.092059e-05</td><td>0.270859354</td><td>3.678605e-01</td><td> 1.353020e-01</td><td> 8.387565e-06</td><td> 0.000000e+00</td><td> 0.000000e+00</td><td>4.254574e-119</td><td> 2.557323e-24</td><td> 1.993852e-13</td><td>1.971678e-02</td></tr>\n",
       "\t<tr><th scope=row>time</th><td> 0.000000e+00</td><td> 0.000000e+00</td><td>0.000000e+00</td><td> 0.000000e+00</td><td> 3.722804e-04</td><td> 0.000000e+00</td><td>1.793522e-04</td><td>7.263940e-01</td><td>3.049781e-02</td><td>8.979454e-03</td><td>0.923346428</td><td>7.532802e-10</td><td>2.075242e-138</td><td> 1.908526e-14</td><td> 1.173900e-10</td><td> 9.994332e-09</td><td> 0.000000e+00</td><td>4.378490e-122</td><td> 5.717428e-11</td><td>8.075188e-48</td></tr>\n",
       "\t<tr><th scope=row>door_state</th><td> 2.707736e-10</td><td> 0.000000e+00</td><td>0.000000e+00</td><td> 3.589204e-80</td><td> 0.000000e+00</td><td> 3.898105e-63</td><td>3.093018e-05</td><td>6.498502e-01</td><td>9.186664e-01</td><td>4.906588e-01</td><td>0.882479482</td><td>1.618529e-04</td><td> 3.457628e-04</td><td> 1.243517e-02</td><td> 1.009188e-50</td><td> 7.818646e-51</td><td> 3.589204e-80</td><td> 1.247662e-01</td><td> 1.554704e-01</td><td>9.741031e-23</td></tr>\n",
       "\t<tr><th scope=row>light_status</th><td>4.254574e-119</td><td> 0.000000e+00</td><td>3.589204e-80</td><td> 0.000000e+00</td><td>6.234293e-269</td><td>5.464253e-240</td><td>5.256704e-13</td><td>3.708078e-01</td><td>8.404578e-01</td><td>1.742046e-01</td><td>0.770724795</td><td>1.032935e-13</td><td> 1.731437e-12</td><td> 8.320907e-07</td><td>8.468605e-192</td><td>3.145893e-192</td><td> 0.000000e+00</td><td> 2.475940e-03</td><td> 5.104880e-03</td><td>1.962072e-83</td></tr>\n",
       "\t<tr><th scope=row>sphone_signal</th><td>7.101794e-246</td><td> 3.722804e-04</td><td>0.000000e+00</td><td>6.234293e-269</td><td> 0.000000e+00</td><td>7.676947e-211</td><td>0.000000e+00</td><td>4.018011e-01</td><td>8.504163e-01</td><td>2.030345e-01</td><td>0.784844173</td><td>3.245233e-12</td><td> 3.875471e-11</td><td> 3.906450e-06</td><td>1.482241e-168</td><td>6.216217e-169</td><td>6.234293e-269</td><td> 4.582060e-03</td><td> 8.706066e-03</td><td>1.895111e-73</td></tr>\n",
       "\t<tr><th scope=row>temp_condition</th><td> 1.439870e-06</td><td> 0.000000e+00</td><td>3.898105e-63</td><td>5.464253e-240</td><td>7.676947e-211</td><td> 0.000000e+00</td><td>0.000000e+00</td><td>4.285402e-01</td><td>8.586609e-01</td><td>2.293544e-01</td><td>0.796561747</td><td>4.753323e-11</td><td> 0.000000e+00</td><td> 1.306168e-05</td><td>1.683499e-150</td><td>7.757509e-151</td><td>5.464253e-240</td><td> 7.427043e-03</td><td> 1.324148e-02</td><td>1.087935e-65</td></tr>\n",
       "\t<tr><th scope=row>ts</th><td> 0.000000e+00</td><td> 1.793522e-04</td><td>3.093018e-05</td><td> 5.256704e-13</td><td> 0.000000e+00</td><td> 0.000000e+00</td><td>0.000000e+00</td><td>1.846027e-01</td><td>8.424485e-03</td><td>7.125347e-02</td><td>0.683700755</td><td>4.071875e-06</td><td> 1.600162e-01</td><td> 8.335733e-89</td><td> 0.000000e+00</td><td> 0.000000e+00</td><td> 5.256704e-13</td><td> 5.725916e-26</td><td> 3.312688e-02</td><td>4.376925e-46</td></tr>\n",
       "\t<tr><th scope=row>FC1_Read_Input_Register</th><td> 7.957032e-03</td><td> 7.263940e-01</td><td>6.498502e-01</td><td> 3.708078e-01</td><td> 4.018011e-01</td><td> 4.285402e-01</td><td>1.846027e-01</td><td>0.000000e+00</td><td>7.670116e-19</td><td>7.837909e-02</td><td>0.766876914</td><td>8.586565e-01</td><td> 8.658469e-01</td><td> 9.060633e-01</td><td> 4.795247e-01</td><td> 4.790276e-01</td><td> 3.708078e-01</td><td> 9.422263e-01</td><td> 9.465326e-01</td><td>6.431286e-01</td></tr>\n",
       "\t<tr><th scope=row>FC2_Read_Discrete_Value</th><td> 1.148038e-01</td><td> 3.049781e-02</td><td>9.186664e-01</td><td> 8.404578e-01</td><td> 8.504163e-01</td><td> 8.586609e-01</td><td>8.424485e-03</td><td>7.670116e-19</td><td>0.000000e+00</td><td>2.464472e-01</td><td>0.066335328</td><td>9.680473e-01</td><td> 9.696880e-01</td><td> 9.788238e-01</td><td> 8.736342e-01</td><td> 8.734924e-01</td><td> 8.404578e-01</td><td> 9.869939e-01</td><td> 9.879648e-01</td><td>9.169957e-01</td></tr>\n",
       "\t<tr><th scope=row>FC3_Read_Holding_Register</th><td> 1.092059e-05</td><td> 8.979454e-03</td><td>4.906588e-01</td><td> 1.742046e-01</td><td> 2.030345e-01</td><td> 2.293544e-01</td><td>7.125347e-02</td><td>7.837909e-02</td><td>2.464472e-01</td><td>0.000000e+00</td><td>0.003848195</td><td>7.868640e-01</td><td> 7.975687e-01</td><td> 8.578064e-01</td><td> 2.830299e-01</td><td> 2.824855e-01</td><td> 1.742046e-01</td><td> 9.123824e-01</td><td> 9.189000e-01</td><td>4.817625e-01</td></tr>\n",
       "\t<tr><th scope=row>FC4_Read_Coil</th><td> 2.708594e-01</td><td> 9.233464e-01</td><td>8.824795e-01</td><td> 7.707248e-01</td><td> 7.848442e-01</td><td> 7.965617e-01</td><td>6.837008e-01</td><td>7.668769e-01</td><td>6.633533e-02</td><td>3.848195e-03</td><td>0.000000000</td><td>9.537567e-01</td><td> 9.561299e-01</td><td> 9.693478e-01</td><td> 8.179030e-01</td><td> 8.177006e-01</td><td> 7.707248e-01</td><td> 9.811724e-01</td><td> 9.825777e-01</td><td>8.800749e-01</td></tr>\n",
       "\t<tr><th scope=row>current_temperature</th><td> 3.678605e-01</td><td> 7.532802e-10</td><td>1.618529e-04</td><td> 1.032935e-13</td><td> 3.245233e-12</td><td> 4.753323e-11</td><td>4.071875e-06</td><td>8.586565e-01</td><td>9.680473e-01</td><td>7.868640e-01</td><td>0.953756711</td><td>0.000000e+00</td><td> 1.604032e-01</td><td> 3.268266e-01</td><td> 4.221975e-09</td><td> 4.055793e-09</td><td> 1.032935e-13</td><td> 5.470536e-01</td><td> 5.773733e-01</td><td>0.000000e+00</td></tr>\n",
       "\t<tr><th scope=row>fridge_temperature</th><td> 1.353020e-01</td><td>2.075242e-138</td><td>3.457628e-04</td><td> 1.731437e-12</td><td> 3.875471e-11</td><td> 0.000000e+00</td><td>1.600162e-01</td><td>8.658469e-01</td><td>9.696880e-01</td><td>7.975687e-01</td><td>0.956129855</td><td>1.604032e-01</td><td> 0.000000e+00</td><td> 3.522912e-01</td><td> 2.497887e-08</td><td> 2.408988e-08</td><td> 1.731437e-12</td><td> 5.678330e-01</td><td> 5.970831e-01</td><td>2.600789e-04</td></tr>\n",
       "\t<tr><th scope=row>humidity</th><td> 8.387565e-06</td><td> 1.908526e-14</td><td>1.243517e-02</td><td> 8.320907e-07</td><td> 3.906450e-06</td><td> 1.306168e-05</td><td>8.335733e-89</td><td>9.060633e-01</td><td>9.788238e-01</td><td>8.578064e-01</td><td>0.969347845</td><td>3.268266e-01</td><td> 3.522912e-01</td><td> 0.000000e+00</td><td> 9.896547e-05</td><td> 9.718292e-05</td><td> 8.320907e-07</td><td> 4.247691e-02</td><td>1.960646e-176</td><td>1.073905e-02</td></tr>\n",
       "\t<tr><th scope=row>latitude</th><td> 0.000000e+00</td><td> 1.173900e-10</td><td>1.009188e-50</td><td>8.468605e-192</td><td>1.482241e-168</td><td>1.683499e-150</td><td>0.000000e+00</td><td>4.795247e-01</td><td>8.736342e-01</td><td>2.830299e-01</td><td>0.817903006</td><td>4.221975e-09</td><td> 2.497887e-08</td><td> 9.896547e-05</td><td> 0.000000e+00</td><td> 0.000000e+00</td><td>8.468605e-192</td><td> 1.680678e-02</td><td> 2.693802e-02</td><td>9.228231e-53</td></tr>\n",
       "\t<tr><th scope=row>longitude</th><td> 0.000000e+00</td><td> 9.994332e-09</td><td>7.818646e-51</td><td>3.145893e-192</td><td>6.216217e-169</td><td>7.757509e-151</td><td>0.000000e+00</td><td>4.790276e-01</td><td>8.734924e-01</td><td>2.824855e-01</td><td>0.817700575</td><td>4.055793e-09</td><td> 2.408988e-08</td><td> 9.718292e-05</td><td> 0.000000e+00</td><td> 0.000000e+00</td><td>3.145893e-192</td><td> 1.668333e-02</td><td> 2.676568e-02</td><td>7.074218e-53</td></tr>\n",
       "\t<tr><th scope=row>motion_status</th><td>4.254574e-119</td><td> 0.000000e+00</td><td>3.589204e-80</td><td> 0.000000e+00</td><td>6.234293e-269</td><td>5.464253e-240</td><td>5.256704e-13</td><td>3.708078e-01</td><td>8.404578e-01</td><td>1.742046e-01</td><td>0.770724795</td><td>1.032935e-13</td><td> 1.731437e-12</td><td> 8.320907e-07</td><td>8.468605e-192</td><td>3.145893e-192</td><td> 0.000000e+00</td><td> 2.475940e-03</td><td> 5.104880e-03</td><td>1.962072e-83</td></tr>\n",
       "\t<tr><th scope=row>pressure</th><td> 2.557323e-24</td><td>4.378490e-122</td><td>1.247662e-01</td><td> 2.475940e-03</td><td> 4.582060e-03</td><td> 7.427043e-03</td><td>5.725916e-26</td><td>9.422263e-01</td><td>9.869939e-01</td><td>9.123824e-01</td><td>0.981172364</td><td>5.470536e-01</td><td> 5.678330e-01</td><td> 4.247691e-02</td><td> 1.680678e-02</td><td> 1.668333e-02</td><td> 2.475940e-03</td><td> 0.000000e+00</td><td> 3.726019e-06</td><td>1.171807e-01</td></tr>\n",
       "\t<tr><th scope=row>temperature</th><td> 1.993852e-13</td><td> 5.717428e-11</td><td>1.554704e-01</td><td> 5.104880e-03</td><td> 8.706066e-03</td><td> 1.324148e-02</td><td>3.312688e-02</td><td>9.465326e-01</td><td>9.879648e-01</td><td>9.189000e-01</td><td>0.982577698</td><td>5.773733e-01</td><td> 5.970831e-01</td><td>1.960646e-176</td><td> 2.693802e-02</td><td> 2.676568e-02</td><td> 5.104880e-03</td><td> 3.726019e-06</td><td> 0.000000e+00</td><td>1.471269e-01</td></tr>\n",
       "\t<tr><th scope=row>thermostat_status</th><td> 1.971678e-02</td><td> 8.075188e-48</td><td>9.741031e-23</td><td> 1.962072e-83</td><td> 1.895111e-73</td><td> 1.087935e-65</td><td>4.376925e-46</td><td>6.431286e-01</td><td>9.169957e-01</td><td>4.817625e-01</td><td>0.880074916</td><td>0.000000e+00</td><td> 2.600789e-04</td><td> 1.073905e-02</td><td> 9.228231e-53</td><td> 7.074218e-53</td><td> 1.962072e-83</td><td> 1.171807e-01</td><td> 1.471269e-01</td><td>0.000000e+00</td></tr>\n",
       "</tbody>\n",
       "</table>\n"
      ],
      "text/latex": [
       "A matrix: 20 × 20 of type dbl\n",
       "\\begin{tabular}{r|llllllllllllllllllll}\n",
       "  & date & time & door\\_state & light\\_status & sphone\\_signal & temp\\_condition & ts & FC1\\_Read\\_Input\\_Register & FC2\\_Read\\_Discrete\\_Value & FC3\\_Read\\_Holding\\_Register & FC4\\_Read\\_Coil & current\\_temperature & fridge\\_temperature & humidity & latitude & longitude & motion\\_status & pressure & temperature & thermostat\\_status\\\\\n",
       "\\hline\n",
       "\tdate &  0.000000e+00 &  0.000000e+00 & 2.707736e-10 & 4.254574e-119 & 7.101794e-246 &  1.439870e-06 & 0.000000e+00 & 7.957032e-03 & 1.148038e-01 & 1.092059e-05 & 0.270859354 & 3.678605e-01 &  1.353020e-01 &  8.387565e-06 &  0.000000e+00 &  0.000000e+00 & 4.254574e-119 &  2.557323e-24 &  1.993852e-13 & 1.971678e-02\\\\\n",
       "\ttime &  0.000000e+00 &  0.000000e+00 & 0.000000e+00 &  0.000000e+00 &  3.722804e-04 &  0.000000e+00 & 1.793522e-04 & 7.263940e-01 & 3.049781e-02 & 8.979454e-03 & 0.923346428 & 7.532802e-10 & 2.075242e-138 &  1.908526e-14 &  1.173900e-10 &  9.994332e-09 &  0.000000e+00 & 4.378490e-122 &  5.717428e-11 & 8.075188e-48\\\\\n",
       "\tdoor\\_state &  2.707736e-10 &  0.000000e+00 & 0.000000e+00 &  3.589204e-80 &  0.000000e+00 &  3.898105e-63 & 3.093018e-05 & 6.498502e-01 & 9.186664e-01 & 4.906588e-01 & 0.882479482 & 1.618529e-04 &  3.457628e-04 &  1.243517e-02 &  1.009188e-50 &  7.818646e-51 &  3.589204e-80 &  1.247662e-01 &  1.554704e-01 & 9.741031e-23\\\\\n",
       "\tlight\\_status & 4.254574e-119 &  0.000000e+00 & 3.589204e-80 &  0.000000e+00 & 6.234293e-269 & 5.464253e-240 & 5.256704e-13 & 3.708078e-01 & 8.404578e-01 & 1.742046e-01 & 0.770724795 & 1.032935e-13 &  1.731437e-12 &  8.320907e-07 & 8.468605e-192 & 3.145893e-192 &  0.000000e+00 &  2.475940e-03 &  5.104880e-03 & 1.962072e-83\\\\\n",
       "\tsphone\\_signal & 7.101794e-246 &  3.722804e-04 & 0.000000e+00 & 6.234293e-269 &  0.000000e+00 & 7.676947e-211 & 0.000000e+00 & 4.018011e-01 & 8.504163e-01 & 2.030345e-01 & 0.784844173 & 3.245233e-12 &  3.875471e-11 &  3.906450e-06 & 1.482241e-168 & 6.216217e-169 & 6.234293e-269 &  4.582060e-03 &  8.706066e-03 & 1.895111e-73\\\\\n",
       "\ttemp\\_condition &  1.439870e-06 &  0.000000e+00 & 3.898105e-63 & 5.464253e-240 & 7.676947e-211 &  0.000000e+00 & 0.000000e+00 & 4.285402e-01 & 8.586609e-01 & 2.293544e-01 & 0.796561747 & 4.753323e-11 &  0.000000e+00 &  1.306168e-05 & 1.683499e-150 & 7.757509e-151 & 5.464253e-240 &  7.427043e-03 &  1.324148e-02 & 1.087935e-65\\\\\n",
       "\tts &  0.000000e+00 &  1.793522e-04 & 3.093018e-05 &  5.256704e-13 &  0.000000e+00 &  0.000000e+00 & 0.000000e+00 & 1.846027e-01 & 8.424485e-03 & 7.125347e-02 & 0.683700755 & 4.071875e-06 &  1.600162e-01 &  8.335733e-89 &  0.000000e+00 &  0.000000e+00 &  5.256704e-13 &  5.725916e-26 &  3.312688e-02 & 4.376925e-46\\\\\n",
       "\tFC1\\_Read\\_Input\\_Register &  7.957032e-03 &  7.263940e-01 & 6.498502e-01 &  3.708078e-01 &  4.018011e-01 &  4.285402e-01 & 1.846027e-01 & 0.000000e+00 & 7.670116e-19 & 7.837909e-02 & 0.766876914 & 8.586565e-01 &  8.658469e-01 &  9.060633e-01 &  4.795247e-01 &  4.790276e-01 &  3.708078e-01 &  9.422263e-01 &  9.465326e-01 & 6.431286e-01\\\\\n",
       "\tFC2\\_Read\\_Discrete\\_Value &  1.148038e-01 &  3.049781e-02 & 9.186664e-01 &  8.404578e-01 &  8.504163e-01 &  8.586609e-01 & 8.424485e-03 & 7.670116e-19 & 0.000000e+00 & 2.464472e-01 & 0.066335328 & 9.680473e-01 &  9.696880e-01 &  9.788238e-01 &  8.736342e-01 &  8.734924e-01 &  8.404578e-01 &  9.869939e-01 &  9.879648e-01 & 9.169957e-01\\\\\n",
       "\tFC3\\_Read\\_Holding\\_Register &  1.092059e-05 &  8.979454e-03 & 4.906588e-01 &  1.742046e-01 &  2.030345e-01 &  2.293544e-01 & 7.125347e-02 & 7.837909e-02 & 2.464472e-01 & 0.000000e+00 & 0.003848195 & 7.868640e-01 &  7.975687e-01 &  8.578064e-01 &  2.830299e-01 &  2.824855e-01 &  1.742046e-01 &  9.123824e-01 &  9.189000e-01 & 4.817625e-01\\\\\n",
       "\tFC4\\_Read\\_Coil &  2.708594e-01 &  9.233464e-01 & 8.824795e-01 &  7.707248e-01 &  7.848442e-01 &  7.965617e-01 & 6.837008e-01 & 7.668769e-01 & 6.633533e-02 & 3.848195e-03 & 0.000000000 & 9.537567e-01 &  9.561299e-01 &  9.693478e-01 &  8.179030e-01 &  8.177006e-01 &  7.707248e-01 &  9.811724e-01 &  9.825777e-01 & 8.800749e-01\\\\\n",
       "\tcurrent\\_temperature &  3.678605e-01 &  7.532802e-10 & 1.618529e-04 &  1.032935e-13 &  3.245233e-12 &  4.753323e-11 & 4.071875e-06 & 8.586565e-01 & 9.680473e-01 & 7.868640e-01 & 0.953756711 & 0.000000e+00 &  1.604032e-01 &  3.268266e-01 &  4.221975e-09 &  4.055793e-09 &  1.032935e-13 &  5.470536e-01 &  5.773733e-01 & 0.000000e+00\\\\\n",
       "\tfridge\\_temperature &  1.353020e-01 & 2.075242e-138 & 3.457628e-04 &  1.731437e-12 &  3.875471e-11 &  0.000000e+00 & 1.600162e-01 & 8.658469e-01 & 9.696880e-01 & 7.975687e-01 & 0.956129855 & 1.604032e-01 &  0.000000e+00 &  3.522912e-01 &  2.497887e-08 &  2.408988e-08 &  1.731437e-12 &  5.678330e-01 &  5.970831e-01 & 2.600789e-04\\\\\n",
       "\thumidity &  8.387565e-06 &  1.908526e-14 & 1.243517e-02 &  8.320907e-07 &  3.906450e-06 &  1.306168e-05 & 8.335733e-89 & 9.060633e-01 & 9.788238e-01 & 8.578064e-01 & 0.969347845 & 3.268266e-01 &  3.522912e-01 &  0.000000e+00 &  9.896547e-05 &  9.718292e-05 &  8.320907e-07 &  4.247691e-02 & 1.960646e-176 & 1.073905e-02\\\\\n",
       "\tlatitude &  0.000000e+00 &  1.173900e-10 & 1.009188e-50 & 8.468605e-192 & 1.482241e-168 & 1.683499e-150 & 0.000000e+00 & 4.795247e-01 & 8.736342e-01 & 2.830299e-01 & 0.817903006 & 4.221975e-09 &  2.497887e-08 &  9.896547e-05 &  0.000000e+00 &  0.000000e+00 & 8.468605e-192 &  1.680678e-02 &  2.693802e-02 & 9.228231e-53\\\\\n",
       "\tlongitude &  0.000000e+00 &  9.994332e-09 & 7.818646e-51 & 3.145893e-192 & 6.216217e-169 & 7.757509e-151 & 0.000000e+00 & 4.790276e-01 & 8.734924e-01 & 2.824855e-01 & 0.817700575 & 4.055793e-09 &  2.408988e-08 &  9.718292e-05 &  0.000000e+00 &  0.000000e+00 & 3.145893e-192 &  1.668333e-02 &  2.676568e-02 & 7.074218e-53\\\\\n",
       "\tmotion\\_status & 4.254574e-119 &  0.000000e+00 & 3.589204e-80 &  0.000000e+00 & 6.234293e-269 & 5.464253e-240 & 5.256704e-13 & 3.708078e-01 & 8.404578e-01 & 1.742046e-01 & 0.770724795 & 1.032935e-13 &  1.731437e-12 &  8.320907e-07 & 8.468605e-192 & 3.145893e-192 &  0.000000e+00 &  2.475940e-03 &  5.104880e-03 & 1.962072e-83\\\\\n",
       "\tpressure &  2.557323e-24 & 4.378490e-122 & 1.247662e-01 &  2.475940e-03 &  4.582060e-03 &  7.427043e-03 & 5.725916e-26 & 9.422263e-01 & 9.869939e-01 & 9.123824e-01 & 0.981172364 & 5.470536e-01 &  5.678330e-01 &  4.247691e-02 &  1.680678e-02 &  1.668333e-02 &  2.475940e-03 &  0.000000e+00 &  3.726019e-06 & 1.171807e-01\\\\\n",
       "\ttemperature &  1.993852e-13 &  5.717428e-11 & 1.554704e-01 &  5.104880e-03 &  8.706066e-03 &  1.324148e-02 & 3.312688e-02 & 9.465326e-01 & 9.879648e-01 & 9.189000e-01 & 0.982577698 & 5.773733e-01 &  5.970831e-01 & 1.960646e-176 &  2.693802e-02 &  2.676568e-02 &  5.104880e-03 &  3.726019e-06 &  0.000000e+00 & 1.471269e-01\\\\\n",
       "\tthermostat\\_status &  1.971678e-02 &  8.075188e-48 & 9.741031e-23 &  1.962072e-83 &  1.895111e-73 &  1.087935e-65 & 4.376925e-46 & 6.431286e-01 & 9.169957e-01 & 4.817625e-01 & 0.880074916 & 0.000000e+00 &  2.600789e-04 &  1.073905e-02 &  9.228231e-53 &  7.074218e-53 &  1.962072e-83 &  1.171807e-01 &  1.471269e-01 & 0.000000e+00\\\\\n",
       "\\end{tabular}\n"
      ],
      "text/markdown": [
       "\n",
       "A matrix: 20 × 20 of type dbl\n",
       "\n",
       "| <!--/--> | date | time | door_state | light_status | sphone_signal | temp_condition | ts | FC1_Read_Input_Register | FC2_Read_Discrete_Value | FC3_Read_Holding_Register | FC4_Read_Coil | current_temperature | fridge_temperature | humidity | latitude | longitude | motion_status | pressure | temperature | thermostat_status |\n",
       "|---|---|---|---|---|---|---|---|---|---|---|---|---|---|---|---|---|---|---|---|---|\n",
       "| date |  0.000000e+00 |  0.000000e+00 | 2.707736e-10 | 4.254574e-119 | 7.101794e-246 |  1.439870e-06 | 0.000000e+00 | 7.957032e-03 | 1.148038e-01 | 1.092059e-05 | 0.270859354 | 3.678605e-01 |  1.353020e-01 |  8.387565e-06 |  0.000000e+00 |  0.000000e+00 | 4.254574e-119 |  2.557323e-24 |  1.993852e-13 | 1.971678e-02 |\n",
       "| time |  0.000000e+00 |  0.000000e+00 | 0.000000e+00 |  0.000000e+00 |  3.722804e-04 |  0.000000e+00 | 1.793522e-04 | 7.263940e-01 | 3.049781e-02 | 8.979454e-03 | 0.923346428 | 7.532802e-10 | 2.075242e-138 |  1.908526e-14 |  1.173900e-10 |  9.994332e-09 |  0.000000e+00 | 4.378490e-122 |  5.717428e-11 | 8.075188e-48 |\n",
       "| door_state |  2.707736e-10 |  0.000000e+00 | 0.000000e+00 |  3.589204e-80 |  0.000000e+00 |  3.898105e-63 | 3.093018e-05 | 6.498502e-01 | 9.186664e-01 | 4.906588e-01 | 0.882479482 | 1.618529e-04 |  3.457628e-04 |  1.243517e-02 |  1.009188e-50 |  7.818646e-51 |  3.589204e-80 |  1.247662e-01 |  1.554704e-01 | 9.741031e-23 |\n",
       "| light_status | 4.254574e-119 |  0.000000e+00 | 3.589204e-80 |  0.000000e+00 | 6.234293e-269 | 5.464253e-240 | 5.256704e-13 | 3.708078e-01 | 8.404578e-01 | 1.742046e-01 | 0.770724795 | 1.032935e-13 |  1.731437e-12 |  8.320907e-07 | 8.468605e-192 | 3.145893e-192 |  0.000000e+00 |  2.475940e-03 |  5.104880e-03 | 1.962072e-83 |\n",
       "| sphone_signal | 7.101794e-246 |  3.722804e-04 | 0.000000e+00 | 6.234293e-269 |  0.000000e+00 | 7.676947e-211 | 0.000000e+00 | 4.018011e-01 | 8.504163e-01 | 2.030345e-01 | 0.784844173 | 3.245233e-12 |  3.875471e-11 |  3.906450e-06 | 1.482241e-168 | 6.216217e-169 | 6.234293e-269 |  4.582060e-03 |  8.706066e-03 | 1.895111e-73 |\n",
       "| temp_condition |  1.439870e-06 |  0.000000e+00 | 3.898105e-63 | 5.464253e-240 | 7.676947e-211 |  0.000000e+00 | 0.000000e+00 | 4.285402e-01 | 8.586609e-01 | 2.293544e-01 | 0.796561747 | 4.753323e-11 |  0.000000e+00 |  1.306168e-05 | 1.683499e-150 | 7.757509e-151 | 5.464253e-240 |  7.427043e-03 |  1.324148e-02 | 1.087935e-65 |\n",
       "| ts |  0.000000e+00 |  1.793522e-04 | 3.093018e-05 |  5.256704e-13 |  0.000000e+00 |  0.000000e+00 | 0.000000e+00 | 1.846027e-01 | 8.424485e-03 | 7.125347e-02 | 0.683700755 | 4.071875e-06 |  1.600162e-01 |  8.335733e-89 |  0.000000e+00 |  0.000000e+00 |  5.256704e-13 |  5.725916e-26 |  3.312688e-02 | 4.376925e-46 |\n",
       "| FC1_Read_Input_Register |  7.957032e-03 |  7.263940e-01 | 6.498502e-01 |  3.708078e-01 |  4.018011e-01 |  4.285402e-01 | 1.846027e-01 | 0.000000e+00 | 7.670116e-19 | 7.837909e-02 | 0.766876914 | 8.586565e-01 |  8.658469e-01 |  9.060633e-01 |  4.795247e-01 |  4.790276e-01 |  3.708078e-01 |  9.422263e-01 |  9.465326e-01 | 6.431286e-01 |\n",
       "| FC2_Read_Discrete_Value |  1.148038e-01 |  3.049781e-02 | 9.186664e-01 |  8.404578e-01 |  8.504163e-01 |  8.586609e-01 | 8.424485e-03 | 7.670116e-19 | 0.000000e+00 | 2.464472e-01 | 0.066335328 | 9.680473e-01 |  9.696880e-01 |  9.788238e-01 |  8.736342e-01 |  8.734924e-01 |  8.404578e-01 |  9.869939e-01 |  9.879648e-01 | 9.169957e-01 |\n",
       "| FC3_Read_Holding_Register |  1.092059e-05 |  8.979454e-03 | 4.906588e-01 |  1.742046e-01 |  2.030345e-01 |  2.293544e-01 | 7.125347e-02 | 7.837909e-02 | 2.464472e-01 | 0.000000e+00 | 0.003848195 | 7.868640e-01 |  7.975687e-01 |  8.578064e-01 |  2.830299e-01 |  2.824855e-01 |  1.742046e-01 |  9.123824e-01 |  9.189000e-01 | 4.817625e-01 |\n",
       "| FC4_Read_Coil |  2.708594e-01 |  9.233464e-01 | 8.824795e-01 |  7.707248e-01 |  7.848442e-01 |  7.965617e-01 | 6.837008e-01 | 7.668769e-01 | 6.633533e-02 | 3.848195e-03 | 0.000000000 | 9.537567e-01 |  9.561299e-01 |  9.693478e-01 |  8.179030e-01 |  8.177006e-01 |  7.707248e-01 |  9.811724e-01 |  9.825777e-01 | 8.800749e-01 |\n",
       "| current_temperature |  3.678605e-01 |  7.532802e-10 | 1.618529e-04 |  1.032935e-13 |  3.245233e-12 |  4.753323e-11 | 4.071875e-06 | 8.586565e-01 | 9.680473e-01 | 7.868640e-01 | 0.953756711 | 0.000000e+00 |  1.604032e-01 |  3.268266e-01 |  4.221975e-09 |  4.055793e-09 |  1.032935e-13 |  5.470536e-01 |  5.773733e-01 | 0.000000e+00 |\n",
       "| fridge_temperature |  1.353020e-01 | 2.075242e-138 | 3.457628e-04 |  1.731437e-12 |  3.875471e-11 |  0.000000e+00 | 1.600162e-01 | 8.658469e-01 | 9.696880e-01 | 7.975687e-01 | 0.956129855 | 1.604032e-01 |  0.000000e+00 |  3.522912e-01 |  2.497887e-08 |  2.408988e-08 |  1.731437e-12 |  5.678330e-01 |  5.970831e-01 | 2.600789e-04 |\n",
       "| humidity |  8.387565e-06 |  1.908526e-14 | 1.243517e-02 |  8.320907e-07 |  3.906450e-06 |  1.306168e-05 | 8.335733e-89 | 9.060633e-01 | 9.788238e-01 | 8.578064e-01 | 0.969347845 | 3.268266e-01 |  3.522912e-01 |  0.000000e+00 |  9.896547e-05 |  9.718292e-05 |  8.320907e-07 |  4.247691e-02 | 1.960646e-176 | 1.073905e-02 |\n",
       "| latitude |  0.000000e+00 |  1.173900e-10 | 1.009188e-50 | 8.468605e-192 | 1.482241e-168 | 1.683499e-150 | 0.000000e+00 | 4.795247e-01 | 8.736342e-01 | 2.830299e-01 | 0.817903006 | 4.221975e-09 |  2.497887e-08 |  9.896547e-05 |  0.000000e+00 |  0.000000e+00 | 8.468605e-192 |  1.680678e-02 |  2.693802e-02 | 9.228231e-53 |\n",
       "| longitude |  0.000000e+00 |  9.994332e-09 | 7.818646e-51 | 3.145893e-192 | 6.216217e-169 | 7.757509e-151 | 0.000000e+00 | 4.790276e-01 | 8.734924e-01 | 2.824855e-01 | 0.817700575 | 4.055793e-09 |  2.408988e-08 |  9.718292e-05 |  0.000000e+00 |  0.000000e+00 | 3.145893e-192 |  1.668333e-02 |  2.676568e-02 | 7.074218e-53 |\n",
       "| motion_status | 4.254574e-119 |  0.000000e+00 | 3.589204e-80 |  0.000000e+00 | 6.234293e-269 | 5.464253e-240 | 5.256704e-13 | 3.708078e-01 | 8.404578e-01 | 1.742046e-01 | 0.770724795 | 1.032935e-13 |  1.731437e-12 |  8.320907e-07 | 8.468605e-192 | 3.145893e-192 |  0.000000e+00 |  2.475940e-03 |  5.104880e-03 | 1.962072e-83 |\n",
       "| pressure |  2.557323e-24 | 4.378490e-122 | 1.247662e-01 |  2.475940e-03 |  4.582060e-03 |  7.427043e-03 | 5.725916e-26 | 9.422263e-01 | 9.869939e-01 | 9.123824e-01 | 0.981172364 | 5.470536e-01 |  5.678330e-01 |  4.247691e-02 |  1.680678e-02 |  1.668333e-02 |  2.475940e-03 |  0.000000e+00 |  3.726019e-06 | 1.171807e-01 |\n",
       "| temperature |  1.993852e-13 |  5.717428e-11 | 1.554704e-01 |  5.104880e-03 |  8.706066e-03 |  1.324148e-02 | 3.312688e-02 | 9.465326e-01 | 9.879648e-01 | 9.189000e-01 | 0.982577698 | 5.773733e-01 |  5.970831e-01 | 1.960646e-176 |  2.693802e-02 |  2.676568e-02 |  5.104880e-03 |  3.726019e-06 |  0.000000e+00 | 1.471269e-01 |\n",
       "| thermostat_status |  1.971678e-02 |  8.075188e-48 | 9.741031e-23 |  1.962072e-83 |  1.895111e-73 |  1.087935e-65 | 4.376925e-46 | 6.431286e-01 | 9.169957e-01 | 4.817625e-01 | 0.880074916 | 0.000000e+00 |  2.600789e-04 |  1.073905e-02 |  9.228231e-53 |  7.074218e-53 |  1.962072e-83 |  1.171807e-01 |  1.471269e-01 | 0.000000e+00 |\n",
       "\n"
      ],
      "text/plain": [
       "                          date          time          door_state  \n",
       "date                       0.000000e+00  0.000000e+00 2.707736e-10\n",
       "time                       0.000000e+00  0.000000e+00 0.000000e+00\n",
       "door_state                 2.707736e-10  0.000000e+00 0.000000e+00\n",
       "light_status              4.254574e-119  0.000000e+00 3.589204e-80\n",
       "sphone_signal             7.101794e-246  3.722804e-04 0.000000e+00\n",
       "temp_condition             1.439870e-06  0.000000e+00 3.898105e-63\n",
       "ts                         0.000000e+00  1.793522e-04 3.093018e-05\n",
       "FC1_Read_Input_Register    7.957032e-03  7.263940e-01 6.498502e-01\n",
       "FC2_Read_Discrete_Value    1.148038e-01  3.049781e-02 9.186664e-01\n",
       "FC3_Read_Holding_Register  1.092059e-05  8.979454e-03 4.906588e-01\n",
       "FC4_Read_Coil              2.708594e-01  9.233464e-01 8.824795e-01\n",
       "current_temperature        3.678605e-01  7.532802e-10 1.618529e-04\n",
       "fridge_temperature         1.353020e-01 2.075242e-138 3.457628e-04\n",
       "humidity                   8.387565e-06  1.908526e-14 1.243517e-02\n",
       "latitude                   0.000000e+00  1.173900e-10 1.009188e-50\n",
       "longitude                  0.000000e+00  9.994332e-09 7.818646e-51\n",
       "motion_status             4.254574e-119  0.000000e+00 3.589204e-80\n",
       "pressure                   2.557323e-24 4.378490e-122 1.247662e-01\n",
       "temperature                1.993852e-13  5.717428e-11 1.554704e-01\n",
       "thermostat_status          1.971678e-02  8.075188e-48 9.741031e-23\n",
       "                          light_status  sphone_signal temp_condition\n",
       "date                      4.254574e-119 7.101794e-246  1.439870e-06 \n",
       "time                       0.000000e+00  3.722804e-04  0.000000e+00 \n",
       "door_state                 3.589204e-80  0.000000e+00  3.898105e-63 \n",
       "light_status               0.000000e+00 6.234293e-269 5.464253e-240 \n",
       "sphone_signal             6.234293e-269  0.000000e+00 7.676947e-211 \n",
       "temp_condition            5.464253e-240 7.676947e-211  0.000000e+00 \n",
       "ts                         5.256704e-13  0.000000e+00  0.000000e+00 \n",
       "FC1_Read_Input_Register    3.708078e-01  4.018011e-01  4.285402e-01 \n",
       "FC2_Read_Discrete_Value    8.404578e-01  8.504163e-01  8.586609e-01 \n",
       "FC3_Read_Holding_Register  1.742046e-01  2.030345e-01  2.293544e-01 \n",
       "FC4_Read_Coil              7.707248e-01  7.848442e-01  7.965617e-01 \n",
       "current_temperature        1.032935e-13  3.245233e-12  4.753323e-11 \n",
       "fridge_temperature         1.731437e-12  3.875471e-11  0.000000e+00 \n",
       "humidity                   8.320907e-07  3.906450e-06  1.306168e-05 \n",
       "latitude                  8.468605e-192 1.482241e-168 1.683499e-150 \n",
       "longitude                 3.145893e-192 6.216217e-169 7.757509e-151 \n",
       "motion_status              0.000000e+00 6.234293e-269 5.464253e-240 \n",
       "pressure                   2.475940e-03  4.582060e-03  7.427043e-03 \n",
       "temperature                5.104880e-03  8.706066e-03  1.324148e-02 \n",
       "thermostat_status          1.962072e-83  1.895111e-73  1.087935e-65 \n",
       "                          ts           FC1_Read_Input_Register\n",
       "date                      0.000000e+00 7.957032e-03           \n",
       "time                      1.793522e-04 7.263940e-01           \n",
       "door_state                3.093018e-05 6.498502e-01           \n",
       "light_status              5.256704e-13 3.708078e-01           \n",
       "sphone_signal             0.000000e+00 4.018011e-01           \n",
       "temp_condition            0.000000e+00 4.285402e-01           \n",
       "ts                        0.000000e+00 1.846027e-01           \n",
       "FC1_Read_Input_Register   1.846027e-01 0.000000e+00           \n",
       "FC2_Read_Discrete_Value   8.424485e-03 7.670116e-19           \n",
       "FC3_Read_Holding_Register 7.125347e-02 7.837909e-02           \n",
       "FC4_Read_Coil             6.837008e-01 7.668769e-01           \n",
       "current_temperature       4.071875e-06 8.586565e-01           \n",
       "fridge_temperature        1.600162e-01 8.658469e-01           \n",
       "humidity                  8.335733e-89 9.060633e-01           \n",
       "latitude                  0.000000e+00 4.795247e-01           \n",
       "longitude                 0.000000e+00 4.790276e-01           \n",
       "motion_status             5.256704e-13 3.708078e-01           \n",
       "pressure                  5.725916e-26 9.422263e-01           \n",
       "temperature               3.312688e-02 9.465326e-01           \n",
       "thermostat_status         4.376925e-46 6.431286e-01           \n",
       "                          FC2_Read_Discrete_Value FC3_Read_Holding_Register\n",
       "date                      1.148038e-01            1.092059e-05             \n",
       "time                      3.049781e-02            8.979454e-03             \n",
       "door_state                9.186664e-01            4.906588e-01             \n",
       "light_status              8.404578e-01            1.742046e-01             \n",
       "sphone_signal             8.504163e-01            2.030345e-01             \n",
       "temp_condition            8.586609e-01            2.293544e-01             \n",
       "ts                        8.424485e-03            7.125347e-02             \n",
       "FC1_Read_Input_Register   7.670116e-19            7.837909e-02             \n",
       "FC2_Read_Discrete_Value   0.000000e+00            2.464472e-01             \n",
       "FC3_Read_Holding_Register 2.464472e-01            0.000000e+00             \n",
       "FC4_Read_Coil             6.633533e-02            3.848195e-03             \n",
       "current_temperature       9.680473e-01            7.868640e-01             \n",
       "fridge_temperature        9.696880e-01            7.975687e-01             \n",
       "humidity                  9.788238e-01            8.578064e-01             \n",
       "latitude                  8.736342e-01            2.830299e-01             \n",
       "longitude                 8.734924e-01            2.824855e-01             \n",
       "motion_status             8.404578e-01            1.742046e-01             \n",
       "pressure                  9.869939e-01            9.123824e-01             \n",
       "temperature               9.879648e-01            9.189000e-01             \n",
       "thermostat_status         9.169957e-01            4.817625e-01             \n",
       "                          FC4_Read_Coil current_temperature fridge_temperature\n",
       "date                      0.270859354   3.678605e-01         1.353020e-01     \n",
       "time                      0.923346428   7.532802e-10        2.075242e-138     \n",
       "door_state                0.882479482   1.618529e-04         3.457628e-04     \n",
       "light_status              0.770724795   1.032935e-13         1.731437e-12     \n",
       "sphone_signal             0.784844173   3.245233e-12         3.875471e-11     \n",
       "temp_condition            0.796561747   4.753323e-11         0.000000e+00     \n",
       "ts                        0.683700755   4.071875e-06         1.600162e-01     \n",
       "FC1_Read_Input_Register   0.766876914   8.586565e-01         8.658469e-01     \n",
       "FC2_Read_Discrete_Value   0.066335328   9.680473e-01         9.696880e-01     \n",
       "FC3_Read_Holding_Register 0.003848195   7.868640e-01         7.975687e-01     \n",
       "FC4_Read_Coil             0.000000000   9.537567e-01         9.561299e-01     \n",
       "current_temperature       0.953756711   0.000000e+00         1.604032e-01     \n",
       "fridge_temperature        0.956129855   1.604032e-01         0.000000e+00     \n",
       "humidity                  0.969347845   3.268266e-01         3.522912e-01     \n",
       "latitude                  0.817903006   4.221975e-09         2.497887e-08     \n",
       "longitude                 0.817700575   4.055793e-09         2.408988e-08     \n",
       "motion_status             0.770724795   1.032935e-13         1.731437e-12     \n",
       "pressure                  0.981172364   5.470536e-01         5.678330e-01     \n",
       "temperature               0.982577698   5.773733e-01         5.970831e-01     \n",
       "thermostat_status         0.880074916   0.000000e+00         2.600789e-04     \n",
       "                          humidity      latitude      longitude    \n",
       "date                       8.387565e-06  0.000000e+00  0.000000e+00\n",
       "time                       1.908526e-14  1.173900e-10  9.994332e-09\n",
       "door_state                 1.243517e-02  1.009188e-50  7.818646e-51\n",
       "light_status               8.320907e-07 8.468605e-192 3.145893e-192\n",
       "sphone_signal              3.906450e-06 1.482241e-168 6.216217e-169\n",
       "temp_condition             1.306168e-05 1.683499e-150 7.757509e-151\n",
       "ts                         8.335733e-89  0.000000e+00  0.000000e+00\n",
       "FC1_Read_Input_Register    9.060633e-01  4.795247e-01  4.790276e-01\n",
       "FC2_Read_Discrete_Value    9.788238e-01  8.736342e-01  8.734924e-01\n",
       "FC3_Read_Holding_Register  8.578064e-01  2.830299e-01  2.824855e-01\n",
       "FC4_Read_Coil              9.693478e-01  8.179030e-01  8.177006e-01\n",
       "current_temperature        3.268266e-01  4.221975e-09  4.055793e-09\n",
       "fridge_temperature         3.522912e-01  2.497887e-08  2.408988e-08\n",
       "humidity                   0.000000e+00  9.896547e-05  9.718292e-05\n",
       "latitude                   9.896547e-05  0.000000e+00  0.000000e+00\n",
       "longitude                  9.718292e-05  0.000000e+00  0.000000e+00\n",
       "motion_status              8.320907e-07 8.468605e-192 3.145893e-192\n",
       "pressure                   4.247691e-02  1.680678e-02  1.668333e-02\n",
       "temperature               1.960646e-176  2.693802e-02  2.676568e-02\n",
       "thermostat_status          1.073905e-02  9.228231e-53  7.074218e-53\n",
       "                          motion_status pressure      temperature  \n",
       "date                      4.254574e-119  2.557323e-24  1.993852e-13\n",
       "time                       0.000000e+00 4.378490e-122  5.717428e-11\n",
       "door_state                 3.589204e-80  1.247662e-01  1.554704e-01\n",
       "light_status               0.000000e+00  2.475940e-03  5.104880e-03\n",
       "sphone_signal             6.234293e-269  4.582060e-03  8.706066e-03\n",
       "temp_condition            5.464253e-240  7.427043e-03  1.324148e-02\n",
       "ts                         5.256704e-13  5.725916e-26  3.312688e-02\n",
       "FC1_Read_Input_Register    3.708078e-01  9.422263e-01  9.465326e-01\n",
       "FC2_Read_Discrete_Value    8.404578e-01  9.869939e-01  9.879648e-01\n",
       "FC3_Read_Holding_Register  1.742046e-01  9.123824e-01  9.189000e-01\n",
       "FC4_Read_Coil              7.707248e-01  9.811724e-01  9.825777e-01\n",
       "current_temperature        1.032935e-13  5.470536e-01  5.773733e-01\n",
       "fridge_temperature         1.731437e-12  5.678330e-01  5.970831e-01\n",
       "humidity                   8.320907e-07  4.247691e-02 1.960646e-176\n",
       "latitude                  8.468605e-192  1.680678e-02  2.693802e-02\n",
       "longitude                 3.145893e-192  1.668333e-02  2.676568e-02\n",
       "motion_status              0.000000e+00  2.475940e-03  5.104880e-03\n",
       "pressure                   2.475940e-03  0.000000e+00  3.726019e-06\n",
       "temperature                5.104880e-03  3.726019e-06  0.000000e+00\n",
       "thermostat_status          1.962072e-83  1.171807e-01  1.471269e-01\n",
       "                          thermostat_status\n",
       "date                      1.971678e-02     \n",
       "time                      8.075188e-48     \n",
       "door_state                9.741031e-23     \n",
       "light_status              1.962072e-83     \n",
       "sphone_signal             1.895111e-73     \n",
       "temp_condition            1.087935e-65     \n",
       "ts                        4.376925e-46     \n",
       "FC1_Read_Input_Register   6.431286e-01     \n",
       "FC2_Read_Discrete_Value   9.169957e-01     \n",
       "FC3_Read_Holding_Register 4.817625e-01     \n",
       "FC4_Read_Coil             8.800749e-01     \n",
       "current_temperature       0.000000e+00     \n",
       "fridge_temperature        2.600789e-04     \n",
       "humidity                  1.073905e-02     \n",
       "latitude                  9.228231e-53     \n",
       "longitude                 7.074218e-53     \n",
       "motion_status             1.962072e-83     \n",
       "pressure                  1.171807e-01     \n",
       "temperature               1.471269e-01     \n",
       "thermostat_status         0.000000e+00     "
      ]
     },
     "metadata": {},
     "output_type": "display_data"
    }
   ],
   "source": [
    "set.seed(10)\n",
    "correlationMatrix <- cor_pmat(dt_n) # calculate correlation matrix\n",
    "correlationMatrix"
   ]
  },
  {
   "cell_type": "code",
   "execution_count": 24,
   "metadata": {},
   "outputs": [
    {
     "name": "stderr",
     "output_type": "stream",
     "text": [
      "Installing package into 'C:/Users/SHAWON-PC/Documents/R/win-library/3.6'\n",
      "(as 'lib' is unspecified)\n"
     ]
    },
    {
     "name": "stdout",
     "output_type": "stream",
     "text": [
      "package 'corrplot' successfully unpacked and MD5 sums checked\n",
      "\n",
      "The downloaded binary packages are in\n",
      "\tC:\\Users\\SHAWON-PC\\AppData\\Local\\Temp\\Rtmpmomc5l\\downloaded_packages\n"
     ]
    },
    {
     "name": "stderr",
     "output_type": "stream",
     "text": [
      "Warning message:\n",
      "\"package 'corrplot' was built under R version 3.6.3\"corrplot 0.84 loaded\n"
     ]
    }
   ],
   "source": [
    "install.packages(\"corrplot\")\n",
    "library(corrplot)"
   ]
  },
  {
   "cell_type": "code",
   "execution_count": 25,
   "metadata": {},
   "outputs": [
    {
     "data": {
      "image/png": "[encoded data removed]",
      "text/plain": [
       "Plot with title \"\""
      ]
     },
     "metadata": {},
     "output_type": "display_data"
    }
   ],
   "source": [
    "corrplot(correlationMatrix)"
   ]
  },
  {
   "cell_type": "code",
   "execution_count": 26,
   "metadata": {},
   "outputs": [
    {
     "data": {
      "image/png": "[encoded data removed]",
      "text/plain": [
       "plot without title"
      ]
     },
     "metadata": {},
     "output_type": "display_data"
    }
   ],
   "source": [
    "palette = colorRampPalette(c(\"green\", \"white\", \"red\")) (20)\n",
    "heatmap(x = correlationMatrix, col = palette, symm = TRUE)"
   ]
  },
  {
   "cell_type": "code",
   "execution_count": 27,
   "metadata": {},
   "outputs": [
    {
     "name": "stdout",
     "output_type": "stream",
     "text": [
      "[1] 11  9  8 10 13 12\n"
     ]
    }
   ],
   "source": [
    "correlationMatrix[is.na(correlationMatrix)] <- 0\n",
    "highlyCorrelated <- findCorrelation(correlationMatrix, cutoff=0.50) # find attributes that are highly corrected that is equal 0.8\n",
    "print(highlyCorrelated) # print indexes of highly correlated attributes"
   ]
  },
  {
   "cell_type": "code",
   "execution_count": 28,
   "metadata": {},
   "outputs": [
    {
     "data": {
      "image/png": "[encoded data removed]",
      "text/plain": [
       "plot without title"
      ]
     },
     "metadata": {},
     "output_type": "display_data"
    }
   ],
   "source": [
    "dt_corr = sapply(dt_n[,-highlyCorrelated],unclass)\n",
    "dt_corr_m = cor_pmat(dt_corr)\n",
    "ggcorrplot(dt_corr_m, hc.order = TRUE, type = \"lower\", lab = TRUE)"
   ]
  },
  {
   "cell_type": "code",
   "execution_count": 29,
   "metadata": {},
   "outputs": [
    {
     "data": {
      "text/html": [
       "<table>\n",
       "<caption>A data.frame: 6 × 15</caption>\n",
       "<thead>\n",
       "\t<tr><th scope=col>date</th><th scope=col>time</th><th scope=col>door_state</th><th scope=col>light_status</th><th scope=col>sphone_signal</th><th scope=col>temp_condition</th><th scope=col>ts</th><th scope=col>humidity</th><th scope=col>latitude</th><th scope=col>longitude</th><th scope=col>motion_status</th><th scope=col>pressure</th><th scope=col>temperature</th><th scope=col>thermostat_status</th><th scope=col>label</th></tr>\n",
       "\t<tr><th scope=col>&lt;dbl&gt;</th><th scope=col>&lt;dbl&gt;</th><th scope=col>&lt;dbl&gt;</th><th scope=col>&lt;dbl&gt;</th><th scope=col>&lt;dbl&gt;</th><th scope=col>&lt;dbl&gt;</th><th scope=col>&lt;dbl&gt;</th><th scope=col>&lt;dbl&gt;</th><th scope=col>&lt;dbl&gt;</th><th scope=col>&lt;dbl&gt;</th><th scope=col>&lt;dbl&gt;</th><th scope=col>&lt;dbl&gt;</th><th scope=col>&lt;dbl&gt;</th><th scope=col>&lt;dbl&gt;</th><th scope=col>&lt;int&gt;</th></tr>\n",
       "</thead>\n",
       "<tbody>\n",
       "\t<tr><td>1</td><td>0.003103486</td><td>0</td><td>0</td><td>0.6666667</td><td>0.2</td><td>0.000000e+00</td><td>0.4625106</td><td>0.008216647</td><td>0.008111674</td><td>0</td><td>0.5335562</td><td>0.5173074</td><td>1</td><td>0</td></tr>\n",
       "\t<tr><td>1</td><td>0.003117038</td><td>0</td><td>0</td><td>0.6666667</td><td>0.2</td><td>4.057493e-07</td><td>0.4625106</td><td>0.008216647</td><td>0.008111674</td><td>0</td><td>0.5335562</td><td>0.5173074</td><td>1</td><td>0</td></tr>\n",
       "\t<tr><td>1</td><td>0.003130590</td><td>0</td><td>0</td><td>0.6666667</td><td>0.8</td><td>8.114986e-07</td><td>0.4625106</td><td>0.008216647</td><td>0.008111674</td><td>0</td><td>0.5335562</td><td>0.5173074</td><td>1</td><td>0</td></tr>\n",
       "\t<tr><td>1</td><td>0.003144143</td><td>0</td><td>0</td><td>0.6666667</td><td>0.8</td><td>1.217248e-06</td><td>0.4625106</td><td>0.008216647</td><td>0.008111674</td><td>0</td><td>0.5335562</td><td>0.5173074</td><td>1</td><td>0</td></tr>\n",
       "\t<tr><td>1</td><td>0.003157695</td><td>0</td><td>0</td><td>0.6666667</td><td>0.2</td><td>1.622997e-06</td><td>0.4625106</td><td>0.008216647</td><td>0.008111674</td><td>0</td><td>0.5335562</td><td>0.5173074</td><td>1</td><td>0</td></tr>\n",
       "\t<tr><td>1</td><td>0.003171247</td><td>0</td><td>0</td><td>0.6666667</td><td>0.8</td><td>2.028747e-06</td><td>0.4625106</td><td>0.008216647</td><td>0.008111674</td><td>0</td><td>0.5335562</td><td>0.5173074</td><td>1</td><td>0</td></tr>\n",
       "</tbody>\n",
       "</table>\n"
      ],
      "text/latex": [
       "A data.frame: 6 × 15\n",
       "\\begin{tabular}{r|lllllllllllllll}\n",
       " date & time & door\\_state & light\\_status & sphone\\_signal & temp\\_condition & ts & humidity & latitude & longitude & motion\\_status & pressure & temperature & thermostat\\_status & label\\\\\n",
       " <dbl> & <dbl> & <dbl> & <dbl> & <dbl> & <dbl> & <dbl> & <dbl> & <dbl> & <dbl> & <dbl> & <dbl> & <dbl> & <dbl> & <int>\\\\\n",
       "\\hline\n",
       "\t 1 & 0.003103486 & 0 & 0 & 0.6666667 & 0.2 & 0.000000e+00 & 0.4625106 & 0.008216647 & 0.008111674 & 0 & 0.5335562 & 0.5173074 & 1 & 0\\\\\n",
       "\t 1 & 0.003117038 & 0 & 0 & 0.6666667 & 0.2 & 4.057493e-07 & 0.4625106 & 0.008216647 & 0.008111674 & 0 & 0.5335562 & 0.5173074 & 1 & 0\\\\\n",
       "\t 1 & 0.003130590 & 0 & 0 & 0.6666667 & 0.8 & 8.114986e-07 & 0.4625106 & 0.008216647 & 0.008111674 & 0 & 0.5335562 & 0.5173074 & 1 & 0\\\\\n",
       "\t 1 & 0.003144143 & 0 & 0 & 0.6666667 & 0.8 & 1.217248e-06 & 0.4625106 & 0.008216647 & 0.008111674 & 0 & 0.5335562 & 0.5173074 & 1 & 0\\\\\n",
       "\t 1 & 0.003157695 & 0 & 0 & 0.6666667 & 0.2 & 1.622997e-06 & 0.4625106 & 0.008216647 & 0.008111674 & 0 & 0.5335562 & 0.5173074 & 1 & 0\\\\\n",
       "\t 1 & 0.003171247 & 0 & 0 & 0.6666667 & 0.8 & 2.028747e-06 & 0.4625106 & 0.008216647 & 0.008111674 & 0 & 0.5335562 & 0.5173074 & 1 & 0\\\\\n",
       "\\end{tabular}\n"
      ],
      "text/markdown": [
       "\n",
       "A data.frame: 6 × 15\n",
       "\n",
       "| date &lt;dbl&gt; | time &lt;dbl&gt; | door_state &lt;dbl&gt; | light_status &lt;dbl&gt; | sphone_signal &lt;dbl&gt; | temp_condition &lt;dbl&gt; | ts &lt;dbl&gt; | humidity &lt;dbl&gt; | latitude &lt;dbl&gt; | longitude &lt;dbl&gt; | motion_status &lt;dbl&gt; | pressure &lt;dbl&gt; | temperature &lt;dbl&gt; | thermostat_status &lt;dbl&gt; | label &lt;int&gt; |\n",
       "|---|---|---|---|---|---|---|---|---|---|---|---|---|---|---|\n",
       "| 1 | 0.003103486 | 0 | 0 | 0.6666667 | 0.2 | 0.000000e+00 | 0.4625106 | 0.008216647 | 0.008111674 | 0 | 0.5335562 | 0.5173074 | 1 | 0 |\n",
       "| 1 | 0.003117038 | 0 | 0 | 0.6666667 | 0.2 | 4.057493e-07 | 0.4625106 | 0.008216647 | 0.008111674 | 0 | 0.5335562 | 0.5173074 | 1 | 0 |\n",
       "| 1 | 0.003130590 | 0 | 0 | 0.6666667 | 0.8 | 8.114986e-07 | 0.4625106 | 0.008216647 | 0.008111674 | 0 | 0.5335562 | 0.5173074 | 1 | 0 |\n",
       "| 1 | 0.003144143 | 0 | 0 | 0.6666667 | 0.8 | 1.217248e-06 | 0.4625106 | 0.008216647 | 0.008111674 | 0 | 0.5335562 | 0.5173074 | 1 | 0 |\n",
       "| 1 | 0.003157695 | 0 | 0 | 0.6666667 | 0.2 | 1.622997e-06 | 0.4625106 | 0.008216647 | 0.008111674 | 0 | 0.5335562 | 0.5173074 | 1 | 0 |\n",
       "| 1 | 0.003171247 | 0 | 0 | 0.6666667 | 0.8 | 2.028747e-06 | 0.4625106 | 0.008216647 | 0.008111674 | 0 | 0.5335562 | 0.5173074 | 1 | 0 |\n",
       "\n"
      ],
      "text/plain": [
       "  date time        door_state light_status sphone_signal temp_condition\n",
       "1 1    0.003103486 0          0            0.6666667     0.2           \n",
       "2 1    0.003117038 0          0            0.6666667     0.2           \n",
       "3 1    0.003130590 0          0            0.6666667     0.8           \n",
       "4 1    0.003144143 0          0            0.6666667     0.8           \n",
       "5 1    0.003157695 0          0            0.6666667     0.2           \n",
       "6 1    0.003171247 0          0            0.6666667     0.8           \n",
       "  ts           humidity  latitude    longitude   motion_status pressure \n",
       "1 0.000000e+00 0.4625106 0.008216647 0.008111674 0             0.5335562\n",
       "2 4.057493e-07 0.4625106 0.008216647 0.008111674 0             0.5335562\n",
       "3 8.114986e-07 0.4625106 0.008216647 0.008111674 0             0.5335562\n",
       "4 1.217248e-06 0.4625106 0.008216647 0.008111674 0             0.5335562\n",
       "5 1.622997e-06 0.4625106 0.008216647 0.008111674 0             0.5335562\n",
       "6 2.028747e-06 0.4625106 0.008216647 0.008111674 0             0.5335562\n",
       "  temperature thermostat_status label\n",
       "1 0.5173074   1                 0    \n",
       "2 0.5173074   1                 0    \n",
       "3 0.5173074   1                 0    \n",
       "4 0.5173074   1                 0    \n",
       "5 0.5173074   1                 0    \n",
       "6 0.5173074   1                 0    "
      ]
     },
     "metadata": {},
     "output_type": "display_data"
    }
   ],
   "source": [
    "data_corr= cbind(as.data.frame(dt_corr),data[,ncol(data)-1])\n",
    "names(data_corr)[ncol(data_corr)] <- \"label\"\n",
    "head(data_corr)"
   ]
  },
  {
   "cell_type": "code",
   "execution_count": 30,
   "metadata": {},
   "outputs": [],
   "source": [
    "set.seed(3033)\n",
    "intrain <- createDataPartition(y = data_corr$label, p= 0.7, list = FALSE)\n",
    "\n",
    "orignal_train <- orignal_dt[intrain,]\n",
    "orignal_test <- orignal_dt[-intrain,]\n",
    "\n",
    "filtered_train <- data_corr[intrain,]\n",
    "filtered_test <- data_corr[-intrain,]"
   ]
  },
  {
   "cell_type": "code",
   "execution_count": 31,
   "metadata": {},
   "outputs": [
    {
     "data": {
      "text/plain": [
       "       ts                   date              time       \n",
       " Min.   :1.554e+09   31-Mar-19:152572   12:44:48:   498  \n",
       " 1st Qu.:1.554e+09   25-Apr-19: 58950   12:44:43:   490  \n",
       " Median :1.554e+09   28-Apr-19: 50116   12:44:38:   488  \n",
       " Mean   :1.555e+09   1-Apr-19 : 48571   12:44:33:   479  \n",
       " 3rd Qu.:1.556e+09   2-Apr-19 : 43857   12:44:23:   456  \n",
       " Max.   :1.557e+09   26-Apr-19: 37825   12:44:50:   455  \n",
       "                     (Other)  :  9228   (Other) :398253  \n",
       " FC1_Read_Input_Register FC2_Read_Discrete_Value FC3_Read_Holding_Register\n",
       " Min.   :    0           Min.   :    0           Min.   :    0            \n",
       " 1st Qu.:32450           1st Qu.:32708           1st Qu.:32035            \n",
       " Median :32450           Median :32708           Median :32035            \n",
       " Mean   :32489           Mean   :32717           Mean   :32095            \n",
       " 3rd Qu.:32450           3rd Qu.:32708           3rd Qu.:32035            \n",
       " Max.   :65527           Max.   :65535           Max.   :65525            \n",
       "                                                                          \n",
       " FC4_Read_Coil   current_temperature  door_state     fridge_temperature\n",
       " Min.   :    0   Min.   :25.00       closed:395120   Min.   : 1.000    \n",
       " 1st Qu.:32728   1st Qu.:28.44       open  :  5999   1st Qu.: 6.700    \n",
       " Median :32728   Median :28.44                       Median : 6.700    \n",
       " Mean   :32741   Mean   :28.48                       Mean   : 6.765    \n",
       " 3rd Qu.:32728   3rd Qu.:28.44                       3rd Qu.: 6.700    \n",
       " Max.   :65534   Max.   :35.00                       Max.   :14.000    \n",
       "                                                                       \n",
       "    humidity          latitude       light_status    longitude     \n",
       " Min.   : 0.2789   Min.   :  0.000    off:378769   Min.   : 10.00  \n",
       " 1st Qu.:46.3436   1st Qu.:  4.514    on : 22350   1st Qu.: 14.42  \n",
       " Median :46.3436   Median :  4.514                 Median : 14.42  \n",
       " Mean   :46.6961   Mean   : 10.716                 Mean   : 20.66  \n",
       " 3rd Qu.:46.3436   3rd Qu.:  4.514                 3rd Qu.: 14.42  \n",
       " Max.   :99.8760   Max.   :549.382                 Max.   :555.13  \n",
       "                                                                   \n",
       " motion_status        pressure       sphone_signal    temp_condition \n",
       " Min.   :0.00000   Min.   :-12.065   0      : 22097   high  : 13939  \n",
       " 1st Qu.:0.00000   1st Qu.:  1.035   1      :  2490   high  :355213  \n",
       " Median :0.00000   Median :  1.035   false  :373023   high  :  5583  \n",
       " Mean   :0.05572   Mean   :  1.014   true   :  3509   low   : 11005  \n",
       " 3rd Qu.:0.00000   3rd Qu.:  1.035                    low   : 10930  \n",
       " Max.   :1.00000   Max.   : 12.488                    low   :  4449  \n",
       "                                                                     \n",
       "  temperature    thermostat_status     label                type       \n",
       " Min.   :20.53   Min.   :0.0000    Min.   :0.0000   normal    :245000  \n",
       " 1st Qu.:35.77   1st Qu.:1.0000    1st Qu.:0.0000   backdoor  : 35000  \n",
       " Median :35.77   Median :1.0000    Median :0.0000   injection : 35000  \n",
       " Mean   :35.72   Mean   :0.9844    Mean   :0.3892   password  : 35000  \n",
       " 3rd Qu.:35.77   3rd Qu.:1.0000    3rd Qu.:1.0000   ddos      : 25000  \n",
       " Max.   :50.00   Max.   :1.0000    Max.   :1.0000   ransomware: 16030  \n",
       "                                                    (Other)   : 10089  "
      ]
     },
     "metadata": {},
     "output_type": "display_data"
    },
    {
     "data": {
      "text/plain": [
       "      date             time           door_state       light_status    \n",
       " Min.   :0.0000   Min.   :0.00000   Min.   :0.00000   Min.   :0.00000  \n",
       " 1st Qu.:0.3750   1st Qu.:0.08604   1st Qu.:0.00000   1st Qu.:0.00000  \n",
       " Median :0.7500   Median :0.47762   Median :0.00000   Median :0.00000  \n",
       " Mean   :0.6027   Mean   :0.44542   Mean   :0.01504   Mean   :0.05601  \n",
       " 3rd Qu.:1.0000   3rd Qu.:0.70872   3rd Qu.:0.00000   3rd Qu.:0.00000  \n",
       " Max.   :1.0000   Max.   :1.00000   Max.   :1.00000   Max.   :1.00000  \n",
       " sphone_signal    temp_condition         ts              humidity     \n",
       " Min.   :0.0000   Min.   :0.0000   Min.   :0.000000   Min.   :0.0000  \n",
       " 1st Qu.:0.6667   1st Qu.:0.2000   1st Qu.:0.000157   1st Qu.:0.4625  \n",
       " Median :0.6667   Median :0.2000   Median :0.049829   Median :0.4625  \n",
       " Mean   :0.6308   Mean   :0.2319   Mean   :0.370212   Mean   :0.4659  \n",
       " 3rd Qu.:0.6667   3rd Qu.:0.2000   3rd Qu.:0.886199   3rd Qu.:0.4625  \n",
       " Max.   :1.0000   Max.   :1.0000   Max.   :1.000000   Max.   :1.0000  \n",
       "    latitude          longitude        motion_status        pressure     \n",
       " Min.   :0.000000   Min.   :0.000000   Min.   :0.00000   Min.   :0.0000  \n",
       " 1st Qu.:0.008217   1st Qu.:0.008112   1st Qu.:0.00000   1st Qu.:0.5336  \n",
       " Median :0.008217   Median :0.008112   Median :0.00000   Median :0.5336  \n",
       " Mean   :0.019600   Mean   :0.019647   Mean   :0.05601   Mean   :0.5326  \n",
       " 3rd Qu.:0.008217   3rd Qu.:0.008112   3rd Qu.:0.00000   3rd Qu.:0.5336  \n",
       " Max.   :1.000000   Max.   :1.000000   Max.   :1.00000   Max.   :1.0000  \n",
       "  temperature     thermostat_status     label       \n",
       " Min.   :0.0000   Min.   :0.0000    Min.   :0.0000  \n",
       " 1st Qu.:0.5173   1st Qu.:1.0000    1st Qu.:0.0000  \n",
       " Median :0.5173   Median :1.0000    Median :0.0000  \n",
       " Mean   :0.5153   Mean   :0.9844    Mean   :0.3894  \n",
       " 3rd Qu.:0.5173   3rd Qu.:1.0000    3rd Qu.:1.0000  \n",
       " Max.   :1.0000   Max.   :1.0000    Max.   :1.0000  "
      ]
     },
     "metadata": {},
     "output_type": "display_data"
    },
    {
     "data": {
      "text/plain": [
       "      date             time           door_state       light_status    \n",
       " Min.   :0.0000   Min.   :0.00000   Min.   :0.00000   Min.   :0.00000  \n",
       " 1st Qu.:0.3750   1st Qu.:0.08644   1st Qu.:0.00000   1st Qu.:0.00000  \n",
       " Median :0.7500   Median :0.47749   Median :0.00000   Median :0.00000  \n",
       " Mean   :0.6033   Mean   :0.44540   Mean   :0.01477   Mean   :0.05505  \n",
       " 3rd Qu.:1.0000   3rd Qu.:0.70872   3rd Qu.:0.00000   3rd Qu.:0.00000  \n",
       " Max.   :1.0000   Max.   :0.99999   Max.   :1.00000   Max.   :1.00000  \n",
       " sphone_signal    temp_condition         ts               humidity     \n",
       " Min.   :0.0000   Min.   :0.0000   Min.   :0.0000000   Min.   :0.0000  \n",
       " 1st Qu.:0.6667   1st Qu.:0.2000   1st Qu.:0.0001574   1st Qu.:0.4625  \n",
       " Median :0.6667   Median :0.2000   Median :0.0498784   Median :0.4625  \n",
       " Mean   :0.6306   Mean   :0.2324   Mean   :0.3697933   Mean   :0.4664  \n",
       " 3rd Qu.:0.6667   3rd Qu.:0.2000   3rd Qu.:0.8859305   3rd Qu.:0.4625  \n",
       " Max.   :1.0000   Max.   :1.0000   Max.   :0.9999968   Max.   :1.0000  \n",
       "    latitude          longitude        motion_status        pressure     \n",
       " Min.   :0.000000   Min.   :0.000000   Min.   :0.00000   Min.   :0.0000  \n",
       " 1st Qu.:0.008217   1st Qu.:0.008112   1st Qu.:0.00000   1st Qu.:0.5336  \n",
       " Median :0.008217   Median :0.008112   Median :0.00000   Median :0.5336  \n",
       " Mean   :0.019281   Mean   :0.019322   Mean   :0.05505   Mean   :0.5328  \n",
       " 3rd Qu.:0.008217   3rd Qu.:0.008112   3rd Qu.:0.00000   3rd Qu.:0.5336  \n",
       " Max.   :0.999927   Max.   :0.999576   Max.   :1.00000   Max.   :1.0000  \n",
       "  temperature        thermostat_status     label       \n",
       " Min.   :0.0005359   Min.   :0.0000    Min.   :0.0000  \n",
       " 1st Qu.:0.5173074   1st Qu.:1.0000    1st Qu.:0.0000  \n",
       " Median :0.5173074   Median :1.0000    Median :0.0000  \n",
       " Mean   :0.5153990   Mean   :0.9845    Mean   :0.3888  \n",
       " 3rd Qu.:0.5173074   3rd Qu.:1.0000    3rd Qu.:1.0000  \n",
       " Max.   :1.0000000   Max.   :1.0000    Max.   :1.0000  "
      ]
     },
     "metadata": {},
     "output_type": "display_data"
    },
    {
     "data": {
      "text/plain": [
       "       ts                   date              time       \n",
       " Min.   :1.554e+09   31-Mar-19:106764   12:44:38:   352  \n",
       " 1st Qu.:1.554e+09   25-Apr-19: 41337   12:44:48:   348  \n",
       " Median :1.554e+09   28-Apr-19: 34987   12:44:43:   336  \n",
       " Mean   :1.555e+09   1-Apr-19 : 34042   12:44:33:   333  \n",
       " 3rd Qu.:1.556e+09   2-Apr-19 : 30649   12:44:23:   323  \n",
       " Max.   :1.557e+09   26-Apr-19: 26535   12:44:50:   318  \n",
       "                     (Other)  :  6470   (Other) :278774  \n",
       " FC1_Read_Input_Register FC2_Read_Discrete_Value FC3_Read_Holding_Register\n",
       " Min.   :    0           Min.   :    0           Min.   :    0            \n",
       " 1st Qu.:32450           1st Qu.:32708           1st Qu.:32035            \n",
       " Median :32450           Median :32708           Median :32035            \n",
       " Mean   :32487           Mean   :32717           Mean   :32107            \n",
       " 3rd Qu.:32450           3rd Qu.:32708           3rd Qu.:32035            \n",
       " Max.   :65527           Max.   :65535           Max.   :65525            \n",
       "                                                                          \n",
       " FC4_Read_Coil   current_temperature  door_state     fridge_temperature\n",
       " Min.   :    0   Min.   :25.00       closed:276562   Min.   : 1.000    \n",
       " 1st Qu.:32728   1st Qu.:28.44       open  :  4222   1st Qu.: 6.700    \n",
       " Median :32728   Median :28.44                       Median : 6.700    \n",
       " Mean   :32738   Mean   :28.49                       Mean   : 6.766    \n",
       " 3rd Qu.:32728   3rd Qu.:28.44                       3rd Qu.: 6.700    \n",
       " Max.   :65534   Max.   :34.99                       Max.   :14.000    \n",
       "                                                                       \n",
       "    humidity          latitude       light_status    longitude     \n",
       " Min.   : 0.2789   Min.   :  0.000    off:265058   Min.   : 10.00  \n",
       " 1st Qu.:46.3436   1st Qu.:  4.514    on : 15726   1st Qu.: 14.42  \n",
       " Median :46.3436   Median :  4.514                 Median : 14.42  \n",
       " Mean   :46.6827   Mean   : 10.768                 Mean   : 20.71  \n",
       " 3rd Qu.:46.3436   3rd Qu.:  4.514                 3rd Qu.: 14.42  \n",
       " Max.   :99.8760   Max.   :549.382                 Max.   :555.13  \n",
       "                                                                   \n",
       " motion_status        pressure       sphone_signal    temp_condition \n",
       " Min.   :0.00000   Min.   :-12.065   0      : 15437   high  :  9860  \n",
       " 1st Qu.:0.00000   1st Qu.:  1.035   1      :  1760   high  :248567  \n",
       " Median :0.00000   Median :  1.035   false  :261125   high  :  3911  \n",
       " Mean   :0.05601   Mean   :  1.013   true   :  2462   low   :  7722  \n",
       " 3rd Qu.:0.00000   3rd Qu.:  1.035                    low   :  7633  \n",
       " Max.   :1.00000   Max.   : 12.488                    low   :  3091  \n",
       "                                                                     \n",
       "  temperature    thermostat_status     label                type       \n",
       " Min.   :20.53   Min.   :0.0000    Min.   :0.0000   normal    :171455  \n",
       " 1st Qu.:35.77   1st Qu.:1.0000    1st Qu.:0.0000   backdoor  : 24541  \n",
       " Median :35.77   Median :1.0000    Median :0.0000   password  : 24528  \n",
       " Mean   :35.71   Mean   :0.9844    Mean   :0.3894   injection : 24499  \n",
       " 3rd Qu.:35.77   3rd Qu.:1.0000    3rd Qu.:1.0000   ddos      : 17588  \n",
       " Max.   :50.00   Max.   :1.0000    Max.   :1.0000   ransomware: 11087  \n",
       "                                                    (Other)   :  7086  "
      ]
     },
     "metadata": {},
     "output_type": "display_data"
    },
    {
     "data": {
      "text/plain": [
       "       ts                   date             time       \n",
       " Min.   :1.554e+09   31-Mar-19:45808   12:44:43:   154  \n",
       " 1st Qu.:1.554e+09   25-Apr-19:17613   12:44:18:   151  \n",
       " Median :1.554e+09   28-Apr-19:15129   12:44:32:   150  \n",
       " Mean   :1.555e+09   1-Apr-19 :14529   12:44:48:   150  \n",
       " 3rd Qu.:1.556e+09   2-Apr-19 :13208   12:43:58:   147  \n",
       " Max.   :1.557e+09   26-Apr-19:11290   12:44:33:   146  \n",
       "                     (Other)  : 2758   (Other) :119437  \n",
       " FC1_Read_Input_Register FC2_Read_Discrete_Value FC3_Read_Holding_Register\n",
       " Min.   :    0           Min.   :    0           Min.   :    0            \n",
       " 1st Qu.:32450           1st Qu.:32708           1st Qu.:32035            \n",
       " Median :32450           Median :32708           Median :32035            \n",
       " Mean   :32494           Mean   :32717           Mean   :32065            \n",
       " 3rd Qu.:32450           3rd Qu.:32708           3rd Qu.:32035            \n",
       " Max.   :65527           Max.   :65535           Max.   :65525            \n",
       "                                                                          \n",
       " FC4_Read_Coil   current_temperature  door_state     fridge_temperature\n",
       " Min.   :    0   Min.   :25.00       closed:118558   Min.   : 1.000    \n",
       " 1st Qu.:32728   1st Qu.:28.44       open  :  1777   1st Qu.: 6.700    \n",
       " Median :32728   Median :28.44                       Median : 6.700    \n",
       " Mean   :32748   Mean   :28.48                       Mean   : 6.761    \n",
       " 3rd Qu.:32728   3rd Qu.:28.44                       3rd Qu.: 6.700    \n",
       " Max.   :65528   Max.   :35.00                       Max.   :14.000    \n",
       "                                                                       \n",
       "    humidity          latitude       light_status    longitude     \n",
       " Min.   : 0.2789   Min.   :  0.000    off:113711   Min.   : 10.00  \n",
       " 1st Qu.:46.3436   1st Qu.:  4.514    on :  6624   1st Qu.: 14.42  \n",
       " Median :46.3436   Median :  4.514                 Median : 14.42  \n",
       " Mean   :46.7274   Mean   : 10.593                 Mean   : 20.53  \n",
       " 3rd Qu.:46.3436   3rd Qu.:  4.514                 3rd Qu.: 14.42  \n",
       " Max.   :99.8760   Max.   :549.342                 Max.   :554.90  \n",
       "                                                                   \n",
       " motion_status        pressure       sphone_signal    temp_condition \n",
       " Min.   :0.00000   Min.   :-12.065   0      :  6660   high  :  4079  \n",
       " 1st Qu.:0.00000   1st Qu.:  1.035   1      :   730   high  :106646  \n",
       " Median :0.00000   Median :  1.035   false  :111898   high  :  1672  \n",
       " Mean   :0.05505   Mean   :  1.017   true   :  1047   low   :  3283  \n",
       " 3rd Qu.:0.00000   3rd Qu.:  1.035                    low   :  3297  \n",
       " Max.   :1.00000   Max.   : 12.488                    low   :  1358  \n",
       "                                                                     \n",
       "  temperature    thermostat_status     label                type      \n",
       " Min.   :20.54   Min.   :0.0000    Min.   :0.0000   normal    :73545  \n",
       " 1st Qu.:35.77   1st Qu.:1.0000    1st Qu.:0.0000   injection :10501  \n",
       " Median :35.77   Median :1.0000    Median :0.0000   password  :10472  \n",
       " Mean   :35.72   Mean   :0.9845    Mean   :0.3888   backdoor  :10459  \n",
       " 3rd Qu.:35.77   3rd Qu.:1.0000    3rd Qu.:1.0000   ddos      : 7412  \n",
       " Max.   :50.00   Max.   :1.0000    Max.   :1.0000   ransomware: 4943  \n",
       "                                                    (Other)   : 3003  "
      ]
     },
     "metadata": {},
     "output_type": "display_data"
    }
   ],
   "source": [
    "summary(data)\n",
    "\n",
    "summary(filtered_train)\n",
    "summary(filtered_test)\n",
    "\n",
    "summary(orignal_train)\n",
    "summary(orignal_test)"
   ]
  },
  {
   "cell_type": "code",
   "execution_count": 32,
   "metadata": {},
   "outputs": [],
   "source": [
    "write.csv(all_dt,'New_Combined_IoT_dataset.csv')"
   ]
  }
 ],
 "metadata": {
  "kernelspec": {
   "display_name": "R",
   "language": "R",
   "name": "ir"
  },
  "language_info": {
   "codemirror_mode": "r",
   "file_extension": ".r",
   "mimetype": "text/x-r-source",
   "name": "R",
   "pygments_lexer": "r",
   "version": "3.6.1"
  }
 },
 "nbformat": 4,
 "nbformat_minor": 2
}
