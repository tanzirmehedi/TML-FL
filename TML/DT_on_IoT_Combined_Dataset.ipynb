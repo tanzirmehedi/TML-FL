{
 "cells": [
  {
   "cell_type": "markdown",
   "metadata": {
    "colab_type": "text",
    "id": "view-in-github"
   },
   "source": [
    "<a href=\"https://colab.research.google.com/github/tanzirmehedi/IoT-Dataset-Analysis/blob/main/DT_on_IoT_Combined_Dataset.ipynb\" target=\"_parent\"><img src=\"https://colab.research.google.com/assets/colab-badge.svg\" alt=\"Open In Colab\"/></a>"
   ]
  },
  {
   "cell_type": "markdown",
   "metadata": {
    "id": "y61xJzKhjsAt"
   },
   "source": [
    "# **Decision Tree (DT) Classifier on IoT Combined Dataset**"
   ]
  },
  {
   "cell_type": "markdown",
   "metadata": {
    "id": "DRXvh-TbJlS-"
   },
   "source": [
    "**Decision Tree Classifier Building in Scikit-learn**"
   ]
  },
  {
   "cell_type": "markdown",
   "metadata": {
    "id": "SSWJ-I3UKZ6h"
   },
   "source": [
    "****Importing libraries****"
   ]
  },
  {
   "cell_type": "code",
   "execution_count": 72,
   "metadata": {
    "id": "AwMrsTn_KVhy"
   },
   "outputs": [],
   "source": [
    "import timeit\n",
    "import pydotplus\n",
    "import pandas as pd\n",
    "from sklearn import metrics\n",
    "import matplotlib.pyplot as plt\n",
    "from sklearn.tree import DecisionTreeClassifier\n",
    "from sklearn.model_selection import train_test_split\n",
    "from sklearn.tree import export_graphviz\n",
    "from sklearn.externals.six import StringIO  \n",
    "from IPython.display import Image  \n",
    "from sklearn.ensemble import GradientBoostingClassifier\n",
    "from sklearn.ensemble import AdaBoostClassifier\n",
    "from sklearn.metrics import accuracy_score\n",
    "from sklearn.preprocessing import LabelEncoder\n",
    "from sklearn.metrics import classification_report, confusion_matrix\n",
    "from sklearn.metrics import roc_curve\n",
    "from sklearn.metrics import roc_auc_score\n",
    "from sklearn.tree import export_graphviz\n",
    "import graphviz\n",
    "import warnings\n",
    "warnings.filterwarnings('ignore')"
   ]
  },
  {
   "cell_type": "markdown",
   "metadata": {
    "id": "VVVIs7G_KdTq"
   },
   "source": [
    "**Upload File**"
   ]
  },
  {
   "cell_type": "code",
   "execution_count": 4,
   "metadata": {
    "colab": {
     "base_uri": "https://localhost:8080/",
     "height": 72,
     "resources": {
      "http://localhost:8080/nbextensions/google.colab/files.js": {
       "data": "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",
       "headers": [
        [
         "content-type",
         "application/javascript"
        ]
       ],
       "ok": true,
       "status": 200,
       "status_text": ""
      }
     }
    },
    "id": "24Ek4cCej76I",
    "outputId": "77b4e4df-8647-40d8-fd95-36676c4f5745"
   },
   "outputs": [
    {
     "data": {
      "text/html": [
       "\n",
       "     <input type=\"file\" id=\"files-4ed96d7f-c133-4d69-9d54-621418044d86\" name=\"files[]\" multiple disabled\n",
       "        style=\"border:none\" />\n",
       "     <output id=\"result-4ed96d7f-c133-4d69-9d54-621418044d86\">\n",
       "      Upload widget is only available when the cell has been executed in the\n",
       "      current browser session. Please rerun this cell to enable.\n",
       "      </output>\n",
       "      <script src=\"/nbextensions/google.colab/files.js\"></script> "
      ],
      "text/plain": [
       "<IPython.core.display.HTML object>"
      ]
     },
     "metadata": {
      "tags": []
     },
     "output_type": "display_data"
    },
    {
     "name": "stdout",
     "output_type": "stream",
     "text": [
      "Saving New_Combined_IoT_dataset.csv to New_Combined_IoT_dataset.csv\n"
     ]
    }
   ],
   "source": [
    "#uploaded = files.upload()"
   ]
  },
  {
   "cell_type": "markdown",
   "metadata": {
    "id": "4jmo-htGGdCD"
   },
   "source": [
    "**Importing the Dataset**"
   ]
  },
  {
   "cell_type": "code",
   "execution_count": 5,
   "metadata": {
    "id": "AsvTp_w-l-Km"
   },
   "outputs": [],
   "source": [
    "dataset=pd.read_csv('F:/Shawon/Research Collaberation/Combined Dataset/Dataset without ts date and time columns/New_Combined_IoT_dataset.csv')"
   ]
  },
  {
   "cell_type": "markdown",
   "metadata": {
    "id": "2BWWYGPNGhst"
   },
   "source": [
    "**Exploratory Data Analysis**"
   ]
  },
  {
   "cell_type": "code",
   "execution_count": 6,
   "metadata": {
    "colab": {
     "base_uri": "https://localhost:8080/",
     "height": 224
    },
    "id": "0hEM0bOClrjL",
    "outputId": "52da1e66-0b44-412c-8f1b-af51fd5f26be"
   },
   "outputs": [
    {
     "data": {
      "text/html": [
       "<div>\n",
       "<style scoped>\n",
       "    .dataframe tbody tr th:only-of-type {\n",
       "        vertical-align: middle;\n",
       "    }\n",
       "\n",
       "    .dataframe tbody tr th {\n",
       "        vertical-align: top;\n",
       "    }\n",
       "\n",
       "    .dataframe thead th {\n",
       "        text-align: right;\n",
       "    }\n",
       "</style>\n",
       "<table border=\"1\" class=\"dataframe\">\n",
       "  <thead>\n",
       "    <tr style=\"text-align: right;\">\n",
       "      <th></th>\n",
       "      <th>FC1_Read_Input_Register</th>\n",
       "      <th>FC2_Read_Discrete_Value</th>\n",
       "      <th>FC3_Read_Holding_Register</th>\n",
       "      <th>FC4_Read_Coil</th>\n",
       "      <th>current_temperature</th>\n",
       "      <th>door_state</th>\n",
       "      <th>fridge_temperature</th>\n",
       "      <th>humidity</th>\n",
       "      <th>latitude</th>\n",
       "      <th>light_status</th>\n",
       "      <th>longitude</th>\n",
       "      <th>motion_status</th>\n",
       "      <th>pressure</th>\n",
       "      <th>sphone_signal</th>\n",
       "      <th>temp_condition</th>\n",
       "      <th>temperature</th>\n",
       "      <th>thermostat_status</th>\n",
       "      <th>label</th>\n",
       "    </tr>\n",
       "  </thead>\n",
       "  <tbody>\n",
       "    <tr>\n",
       "      <th>0</th>\n",
       "      <td>0.495216</td>\n",
       "      <td>0.499092</td>\n",
       "      <td>0.488897</td>\n",
       "      <td>0.499405</td>\n",
       "      <td>0.344399</td>\n",
       "      <td>0</td>\n",
       "      <td>0.930769</td>\n",
       "      <td>0.462511</td>\n",
       "      <td>0.008217</td>\n",
       "      <td>0</td>\n",
       "      <td>0.008112</td>\n",
       "      <td>0</td>\n",
       "      <td>0.533556</td>\n",
       "      <td>0.666667</td>\n",
       "      <td>0.2</td>\n",
       "      <td>0.517307</td>\n",
       "      <td>1</td>\n",
       "      <td>0</td>\n",
       "    </tr>\n",
       "    <tr>\n",
       "      <th>1</th>\n",
       "      <td>0.495216</td>\n",
       "      <td>0.499092</td>\n",
       "      <td>0.488897</td>\n",
       "      <td>0.499405</td>\n",
       "      <td>0.344399</td>\n",
       "      <td>0</td>\n",
       "      <td>0.588462</td>\n",
       "      <td>0.462511</td>\n",
       "      <td>0.008217</td>\n",
       "      <td>0</td>\n",
       "      <td>0.008112</td>\n",
       "      <td>0</td>\n",
       "      <td>0.533556</td>\n",
       "      <td>0.666667</td>\n",
       "      <td>0.2</td>\n",
       "      <td>0.517307</td>\n",
       "      <td>1</td>\n",
       "      <td>0</td>\n",
       "    </tr>\n",
       "    <tr>\n",
       "      <th>2</th>\n",
       "      <td>0.495216</td>\n",
       "      <td>0.499092</td>\n",
       "      <td>0.488897</td>\n",
       "      <td>0.499405</td>\n",
       "      <td>0.344399</td>\n",
       "      <td>0</td>\n",
       "      <td>0.076923</td>\n",
       "      <td>0.462511</td>\n",
       "      <td>0.008217</td>\n",
       "      <td>0</td>\n",
       "      <td>0.008112</td>\n",
       "      <td>0</td>\n",
       "      <td>0.533556</td>\n",
       "      <td>0.666667</td>\n",
       "      <td>0.8</td>\n",
       "      <td>0.517307</td>\n",
       "      <td>1</td>\n",
       "      <td>0</td>\n",
       "    </tr>\n",
       "    <tr>\n",
       "      <th>3</th>\n",
       "      <td>0.495216</td>\n",
       "      <td>0.499092</td>\n",
       "      <td>0.488897</td>\n",
       "      <td>0.499405</td>\n",
       "      <td>0.344399</td>\n",
       "      <td>0</td>\n",
       "      <td>0.292308</td>\n",
       "      <td>0.462511</td>\n",
       "      <td>0.008217</td>\n",
       "      <td>0</td>\n",
       "      <td>0.008112</td>\n",
       "      <td>0</td>\n",
       "      <td>0.533556</td>\n",
       "      <td>0.666667</td>\n",
       "      <td>0.8</td>\n",
       "      <td>0.517307</td>\n",
       "      <td>1</td>\n",
       "      <td>0</td>\n",
       "    </tr>\n",
       "    <tr>\n",
       "      <th>4</th>\n",
       "      <td>0.495216</td>\n",
       "      <td>0.499092</td>\n",
       "      <td>0.488897</td>\n",
       "      <td>0.499405</td>\n",
       "      <td>0.344399</td>\n",
       "      <td>0</td>\n",
       "      <td>0.746154</td>\n",
       "      <td>0.462511</td>\n",
       "      <td>0.008217</td>\n",
       "      <td>0</td>\n",
       "      <td>0.008112</td>\n",
       "      <td>0</td>\n",
       "      <td>0.533556</td>\n",
       "      <td>0.666667</td>\n",
       "      <td>0.2</td>\n",
       "      <td>0.517307</td>\n",
       "      <td>1</td>\n",
       "      <td>0</td>\n",
       "    </tr>\n",
       "  </tbody>\n",
       "</table>\n",
       "</div>"
      ],
      "text/plain": [
       "   FC1_Read_Input_Register  FC2_Read_Discrete_Value  \\\n",
       "0                 0.495216                 0.499092   \n",
       "1                 0.495216                 0.499092   \n",
       "2                 0.495216                 0.499092   \n",
       "3                 0.495216                 0.499092   \n",
       "4                 0.495216                 0.499092   \n",
       "\n",
       "   FC3_Read_Holding_Register  FC4_Read_Coil  current_temperature  door_state  \\\n",
       "0                   0.488897       0.499405             0.344399           0   \n",
       "1                   0.488897       0.499405             0.344399           0   \n",
       "2                   0.488897       0.499405             0.344399           0   \n",
       "3                   0.488897       0.499405             0.344399           0   \n",
       "4                   0.488897       0.499405             0.344399           0   \n",
       "\n",
       "   fridge_temperature  humidity  latitude  light_status  longitude  \\\n",
       "0            0.930769  0.462511  0.008217             0   0.008112   \n",
       "1            0.588462  0.462511  0.008217             0   0.008112   \n",
       "2            0.076923  0.462511  0.008217             0   0.008112   \n",
       "3            0.292308  0.462511  0.008217             0   0.008112   \n",
       "4            0.746154  0.462511  0.008217             0   0.008112   \n",
       "\n",
       "   motion_status  pressure  sphone_signal  temp_condition  temperature  \\\n",
       "0              0  0.533556       0.666667             0.2     0.517307   \n",
       "1              0  0.533556       0.666667             0.2     0.517307   \n",
       "2              0  0.533556       0.666667             0.8     0.517307   \n",
       "3              0  0.533556       0.666667             0.8     0.517307   \n",
       "4              0  0.533556       0.666667             0.2     0.517307   \n",
       "\n",
       "   thermostat_status  label  \n",
       "0                  1      0  \n",
       "1                  1      0  \n",
       "2                  1      0  \n",
       "3                  1      0  \n",
       "4                  1      0  "
      ]
     },
     "execution_count": 6,
     "metadata": {},
     "output_type": "execute_result"
    }
   ],
   "source": [
    "dataset.head()"
   ]
  },
  {
   "cell_type": "code",
   "execution_count": 7,
   "metadata": {
    "colab": {
     "base_uri": "https://localhost:8080/"
    },
    "id": "Bq4nVy0ILHdo",
    "outputId": "9de1c15d-8c7b-49ac-fa8e-85dbc10179b9"
   },
   "outputs": [
    {
     "name": "stdout",
     "output_type": "stream",
     "text": [
      "(401119, 18)\n"
     ]
    }
   ],
   "source": [
    "print(dataset.shape)"
   ]
  },
  {
   "cell_type": "code",
   "execution_count": 8,
   "metadata": {
    "colab": {
     "base_uri": "https://localhost:8080/"
    },
    "id": "gJVXzqugDdWd",
    "outputId": "65b1eee4-7aa8-4381-e0a4-bf8dc217514d"
   },
   "outputs": [
    {
     "name": "stdout",
     "output_type": "stream",
     "text": [
      "['FC1_Read_Input_Register', 'FC2_Read_Discrete_Value', 'FC3_Read_Holding_Register', 'FC4_Read_Coil', 'current_temperature', 'door_state', 'fridge_temperature', 'humidity', 'latitude', 'light_status', 'longitude', 'motion_status', 'pressure', 'sphone_signal', 'temp_condition', 'temperature', 'thermostat_status', 'label']\n"
     ]
    }
   ],
   "source": [
    "print(list(dataset.columns))"
   ]
  },
  {
   "cell_type": "code",
   "execution_count": 9,
   "metadata": {
    "colab": {
     "base_uri": "https://localhost:8080/"
    },
    "id": "qDuBF5llF833",
    "outputId": "8edcc055-beee-427f-b123-f088c5555763"
   },
   "outputs": [
    {
     "data": {
      "text/plain": [
       "['FC1_Read_Input_Register',\n",
       " 'FC2_Read_Discrete_Value',\n",
       " 'FC3_Read_Holding_Register',\n",
       " 'FC4_Read_Coil',\n",
       " 'current_temperature',\n",
       " 'door_state',\n",
       " 'fridge_temperature',\n",
       " 'humidity',\n",
       " 'latitude',\n",
       " 'light_status',\n",
       " 'longitude',\n",
       " 'motion_status',\n",
       " 'pressure',\n",
       " 'sphone_signal',\n",
       " 'temp_condition',\n",
       " 'temperature',\n",
       " 'thermostat_status']"
      ]
     },
     "execution_count": 9,
     "metadata": {},
     "output_type": "execute_result"
    }
   ],
   "source": [
    "feature_cols= list(dataset.columns[:-1])\n",
    "feature_cols"
   ]
  },
  {
   "cell_type": "markdown",
   "metadata": {
    "id": "poF7HvW6DvVp"
   },
   "source": [
    "**Feature Selection**"
   ]
  },
  {
   "cell_type": "code",
   "execution_count": 10,
   "metadata": {
    "id": "lHM3bLWKHel7"
   },
   "outputs": [],
   "source": [
    "#split dataset in features and target variable\n",
    "X = dataset.drop('label', axis=1) # Features\n",
    "y = dataset['label'] # Target variable"
   ]
  },
  {
   "cell_type": "code",
   "execution_count": 11,
   "metadata": {
    "colab": {
     "base_uri": "https://localhost:8080/",
     "height": 224
    },
    "id": "h_0MUZhtvqIT",
    "outputId": "59d03041-3153-4fcb-b960-a2a72d04f760"
   },
   "outputs": [
    {
     "data": {
      "text/html": [
       "<div>\n",
       "<style scoped>\n",
       "    .dataframe tbody tr th:only-of-type {\n",
       "        vertical-align: middle;\n",
       "    }\n",
       "\n",
       "    .dataframe tbody tr th {\n",
       "        vertical-align: top;\n",
       "    }\n",
       "\n",
       "    .dataframe thead th {\n",
       "        text-align: right;\n",
       "    }\n",
       "</style>\n",
       "<table border=\"1\" class=\"dataframe\">\n",
       "  <thead>\n",
       "    <tr style=\"text-align: right;\">\n",
       "      <th></th>\n",
       "      <th>FC1_Read_Input_Register</th>\n",
       "      <th>FC2_Read_Discrete_Value</th>\n",
       "      <th>FC3_Read_Holding_Register</th>\n",
       "      <th>FC4_Read_Coil</th>\n",
       "      <th>current_temperature</th>\n",
       "      <th>door_state</th>\n",
       "      <th>fridge_temperature</th>\n",
       "      <th>humidity</th>\n",
       "      <th>latitude</th>\n",
       "      <th>light_status</th>\n",
       "      <th>longitude</th>\n",
       "      <th>motion_status</th>\n",
       "      <th>pressure</th>\n",
       "      <th>sphone_signal</th>\n",
       "      <th>temp_condition</th>\n",
       "      <th>temperature</th>\n",
       "      <th>thermostat_status</th>\n",
       "    </tr>\n",
       "  </thead>\n",
       "  <tbody>\n",
       "    <tr>\n",
       "      <th>0</th>\n",
       "      <td>0.495216</td>\n",
       "      <td>0.499092</td>\n",
       "      <td>0.488897</td>\n",
       "      <td>0.499405</td>\n",
       "      <td>0.344399</td>\n",
       "      <td>0</td>\n",
       "      <td>0.930769</td>\n",
       "      <td>0.462511</td>\n",
       "      <td>0.008217</td>\n",
       "      <td>0</td>\n",
       "      <td>0.008112</td>\n",
       "      <td>0</td>\n",
       "      <td>0.533556</td>\n",
       "      <td>0.666667</td>\n",
       "      <td>0.2</td>\n",
       "      <td>0.517307</td>\n",
       "      <td>1</td>\n",
       "    </tr>\n",
       "    <tr>\n",
       "      <th>1</th>\n",
       "      <td>0.495216</td>\n",
       "      <td>0.499092</td>\n",
       "      <td>0.488897</td>\n",
       "      <td>0.499405</td>\n",
       "      <td>0.344399</td>\n",
       "      <td>0</td>\n",
       "      <td>0.588462</td>\n",
       "      <td>0.462511</td>\n",
       "      <td>0.008217</td>\n",
       "      <td>0</td>\n",
       "      <td>0.008112</td>\n",
       "      <td>0</td>\n",
       "      <td>0.533556</td>\n",
       "      <td>0.666667</td>\n",
       "      <td>0.2</td>\n",
       "      <td>0.517307</td>\n",
       "      <td>1</td>\n",
       "    </tr>\n",
       "    <tr>\n",
       "      <th>2</th>\n",
       "      <td>0.495216</td>\n",
       "      <td>0.499092</td>\n",
       "      <td>0.488897</td>\n",
       "      <td>0.499405</td>\n",
       "      <td>0.344399</td>\n",
       "      <td>0</td>\n",
       "      <td>0.076923</td>\n",
       "      <td>0.462511</td>\n",
       "      <td>0.008217</td>\n",
       "      <td>0</td>\n",
       "      <td>0.008112</td>\n",
       "      <td>0</td>\n",
       "      <td>0.533556</td>\n",
       "      <td>0.666667</td>\n",
       "      <td>0.8</td>\n",
       "      <td>0.517307</td>\n",
       "      <td>1</td>\n",
       "    </tr>\n",
       "    <tr>\n",
       "      <th>3</th>\n",
       "      <td>0.495216</td>\n",
       "      <td>0.499092</td>\n",
       "      <td>0.488897</td>\n",
       "      <td>0.499405</td>\n",
       "      <td>0.344399</td>\n",
       "      <td>0</td>\n",
       "      <td>0.292308</td>\n",
       "      <td>0.462511</td>\n",
       "      <td>0.008217</td>\n",
       "      <td>0</td>\n",
       "      <td>0.008112</td>\n",
       "      <td>0</td>\n",
       "      <td>0.533556</td>\n",
       "      <td>0.666667</td>\n",
       "      <td>0.8</td>\n",
       "      <td>0.517307</td>\n",
       "      <td>1</td>\n",
       "    </tr>\n",
       "    <tr>\n",
       "      <th>4</th>\n",
       "      <td>0.495216</td>\n",
       "      <td>0.499092</td>\n",
       "      <td>0.488897</td>\n",
       "      <td>0.499405</td>\n",
       "      <td>0.344399</td>\n",
       "      <td>0</td>\n",
       "      <td>0.746154</td>\n",
       "      <td>0.462511</td>\n",
       "      <td>0.008217</td>\n",
       "      <td>0</td>\n",
       "      <td>0.008112</td>\n",
       "      <td>0</td>\n",
       "      <td>0.533556</td>\n",
       "      <td>0.666667</td>\n",
       "      <td>0.2</td>\n",
       "      <td>0.517307</td>\n",
       "      <td>1</td>\n",
       "    </tr>\n",
       "  </tbody>\n",
       "</table>\n",
       "</div>"
      ],
      "text/plain": [
       "   FC1_Read_Input_Register  FC2_Read_Discrete_Value  \\\n",
       "0                 0.495216                 0.499092   \n",
       "1                 0.495216                 0.499092   \n",
       "2                 0.495216                 0.499092   \n",
       "3                 0.495216                 0.499092   \n",
       "4                 0.495216                 0.499092   \n",
       "\n",
       "   FC3_Read_Holding_Register  FC4_Read_Coil  current_temperature  door_state  \\\n",
       "0                   0.488897       0.499405             0.344399           0   \n",
       "1                   0.488897       0.499405             0.344399           0   \n",
       "2                   0.488897       0.499405             0.344399           0   \n",
       "3                   0.488897       0.499405             0.344399           0   \n",
       "4                   0.488897       0.499405             0.344399           0   \n",
       "\n",
       "   fridge_temperature  humidity  latitude  light_status  longitude  \\\n",
       "0            0.930769  0.462511  0.008217             0   0.008112   \n",
       "1            0.588462  0.462511  0.008217             0   0.008112   \n",
       "2            0.076923  0.462511  0.008217             0   0.008112   \n",
       "3            0.292308  0.462511  0.008217             0   0.008112   \n",
       "4            0.746154  0.462511  0.008217             0   0.008112   \n",
       "\n",
       "   motion_status  pressure  sphone_signal  temp_condition  temperature  \\\n",
       "0              0  0.533556       0.666667             0.2     0.517307   \n",
       "1              0  0.533556       0.666667             0.2     0.517307   \n",
       "2              0  0.533556       0.666667             0.8     0.517307   \n",
       "3              0  0.533556       0.666667             0.8     0.517307   \n",
       "4              0  0.533556       0.666667             0.2     0.517307   \n",
       "\n",
       "   thermostat_status  \n",
       "0                  1  \n",
       "1                  1  \n",
       "2                  1  \n",
       "3                  1  \n",
       "4                  1  "
      ]
     },
     "execution_count": 11,
     "metadata": {},
     "output_type": "execute_result"
    }
   ],
   "source": [
    "X.head()"
   ]
  },
  {
   "cell_type": "code",
   "execution_count": 12,
   "metadata": {
    "colab": {
     "base_uri": "https://localhost:8080/"
    },
    "id": "Xgy6npw0vugB",
    "outputId": "c38ecf9c-73ec-4a6c-c674-43d84b69f920"
   },
   "outputs": [
    {
     "data": {
      "text/plain": [
       "0    0\n",
       "1    0\n",
       "2    0\n",
       "3    0\n",
       "4    0\n",
       "Name: label, dtype: int64"
      ]
     },
     "execution_count": 12,
     "metadata": {},
     "output_type": "execute_result"
    }
   ],
   "source": [
    "y.head()"
   ]
  },
  {
   "cell_type": "markdown",
   "metadata": {
    "id": "1v471CZ0DpxX"
   },
   "source": [
    "**Splitting Data**"
   ]
  },
  {
   "cell_type": "code",
   "execution_count": 13,
   "metadata": {
    "id": "Xt-6HOnsDngY"
   },
   "outputs": [],
   "source": [
    "# Split dataset into training set and test set\n",
    "X_train, X_test, y_train, y_test = train_test_split(X, y, test_size=0.3, random_state=1) # 70% training and 30% test"
   ]
  },
  {
   "cell_type": "code",
   "execution_count": 14,
   "metadata": {
    "colab": {
     "base_uri": "https://localhost:8080/"
    },
    "id": "QpwOt4T3JJwY",
    "outputId": "ee55daba-5348-40e8-d5b0-26a595103cd3"
   },
   "outputs": [
    {
     "name": "stdout",
     "output_type": "stream",
     "text": [
      "X_train shape is :  (280783, 17)\n",
      "X_test shape  is :  (120336, 17)\n",
      "y_train shape is :  (280783,)\n",
      "y_test shape is  :  (120336,)\n"
     ]
    }
   ],
   "source": [
    "# Check the shape of all of these\n",
    "print(\"X_train shape is : \", X_train.shape)\n",
    "print(\"X_test shape  is : \", X_test.shape)\n",
    "print(\"y_train shape is : \", y_train.shape)\n",
    "print(\"y_test shape is  : \", y_test.shape)"
   ]
  },
  {
   "cell_type": "markdown",
   "metadata": {
    "id": "uu8yDYOAEZlI"
   },
   "source": [
    "**Building Decision Tree Model**"
   ]
  },
  {
   "cell_type": "code",
   "execution_count": 15,
   "metadata": {
    "id": "aI8YKd80EgRn"
   },
   "outputs": [],
   "source": [
    "#Calculate start time\n",
    "start = timeit.default_timer()\n",
    "\n",
    "# Create Decision Tree classifer object\n",
    "dt = DecisionTreeClassifier()\n",
    "\n",
    "# Train Decision Tree Classifer\n",
    "dt.fit(X_train,y_train)\n",
    "\n",
    "#Calculate Stop time\n",
    "stop = timeit.default_timer()\n",
    "train_time= stop - start"
   ]
  },
  {
   "cell_type": "code",
   "execution_count": 16,
   "metadata": {
    "id": "sH2WvTvmm84Q"
   },
   "outputs": [],
   "source": [
    "#Calculate start time\n",
    "start = timeit.default_timer()\n",
    "\n",
    "#Predict the response for test dataset\n",
    "y_pred_dt = dt.predict(X_test)\n",
    "\n",
    "#Calculate Stop time\n",
    "stop = timeit.default_timer()\n",
    "test_time= stop - start"
   ]
  },
  {
   "cell_type": "markdown",
   "metadata": {
    "id": "cGaWzP_KEnwY"
   },
   "source": [
    "**Evaluating Model**"
   ]
  },
  {
   "cell_type": "code",
   "execution_count": 18,
   "metadata": {},
   "outputs": [
    {
     "name": "stdout",
     "output_type": "stream",
     "text": [
      "[[69363  4132]\n",
      " [12139 34702]]\n",
      "              precision    recall  f1-score   support\n",
      "\n",
      "           0       0.85      0.94      0.90     73495\n",
      "           1       0.89      0.74      0.81     46841\n",
      "\n",
      "    accuracy                           0.86    120336\n",
      "   macro avg       0.87      0.84      0.85    120336\n",
      "weighted avg       0.87      0.86      0.86    120336\n",
      "\n"
     ]
    }
   ],
   "source": [
    "print(confusion_matrix(y_test,y_pred_dt))\n",
    "print(classification_report(y_test,y_pred_dt))"
   ]
  },
  {
   "cell_type": "code",
   "execution_count": 19,
   "metadata": {
    "colab": {
     "base_uri": "https://localhost:8080/"
    },
    "id": "0dfwhoczEpdZ",
    "outputId": "59601300-a964-458e-f40a-9a772f1ebd7d"
   },
   "outputs": [
    {
     "name": "stdout",
     "output_type": "stream",
     "text": [
      "Accuracy: 0.8647869299295307\n",
      "Precision: 0.8935983931606324\n",
      "Recall: 0.7408466941354797\n",
      "F1 Score: 0.810084622118471\n",
      "Mean Absolute Error: 0.13521307007046934\n",
      "Cohens kappa: 0.7065252763929195\n",
      "ROC AUC: 0.8423125912340097\n",
      "Train Time(s):  2.451369999999997\n",
      "Test Time(s):  0.07505290000000286\n"
     ]
    }
   ],
   "source": [
    "# Model Accuracy: how often is the classifier correct?\n",
    "print(\"Accuracy:\",metrics.accuracy_score(y_test, y_pred_dt))\n",
    "\n",
    "# Model Precision: what percentage of positive tuples are labeled as such?\n",
    "print(\"Precision:\",metrics.precision_score(y_test, y_pred_dt))\n",
    "\n",
    "# Model Recall: what percentage of positive tuples are labelled as such?\n",
    "print(\"Recall:\",metrics.recall_score(y_test, y_pred_dt))\n",
    "\n",
    "#Calculate F1 Score\n",
    "print(\"F1 Score:\",metrics.f1_score(y_test, y_pred_dt))\n",
    "\n",
    "#Calculate Mean Absolute Error\n",
    "print(\"Mean Absolute Error:\",metrics.mean_absolute_error(y_test, y_pred_dt))\n",
    "\n",
    "# kappa\n",
    "print(\"Cohens kappa:\", metrics.cohen_kappa_score(y_test, y_pred_dt))\n",
    "\n",
    "# ROC AUC\n",
    "print(\"ROC AUC:\", metrics.roc_auc_score(y_test, y_pred_dt))\n",
    "\n",
    "#Train time\n",
    "print('Train Time(s): ',train_time) \n",
    "\n",
    "#Test time\n",
    "print('Test Time(s): ',test_time)"
   ]
  },
  {
   "cell_type": "code",
   "execution_count": 25,
   "metadata": {},
   "outputs": [],
   "source": [
    "fpr, tpr, thresholds = roc_curve(y_test, y_pred_dt)\n",
    "\n",
    "def plot_roc_curve(fpr, tpr):\n",
    "    plt.plot(fpr, tpr, color='orange', label='ROC')\n",
    "    plt.plot([0, 1], [0, 1], color='darkblue', linestyle='--')\n",
    "    plt.xlabel('False Positive Rate')\n",
    "    plt.ylabel('True Positive Rate')\n",
    "    plt.title('Receiver Operating Characteristic (ROC) Curve')\n",
    "    plt.legend()\n",
    "    plt.show()"
   ]
  },
  {
   "cell_type": "code",
   "execution_count": 28,
   "metadata": {},
   "outputs": [
    {
     "data": {
      "image/png": "[encoded data removed]",
      "text/plain": [
       "<Figure size 432x288 with 1 Axes>"
      ]
     },
     "metadata": {
      "needs_background": "light"
     },
     "output_type": "display_data"
    }
   ],
   "source": [
    "plot_roc_curve(fpr, tpr)"
   ]
  },
  {
   "cell_type": "code",
   "execution_count": 30,
   "metadata": {},
   "outputs": [],
   "source": [
    "report = classification_report(y_test, y_pred_dt, output_dict=True)\n",
    "df = pd.DataFrame(report).transpose()\n",
    "df.to_csv('TML-DT-Simple_Result.csv')"
   ]
  },
  {
   "cell_type": "markdown",
   "metadata": {
    "id": "QEul2sNfEygt"
   },
   "source": [
    "**Visualizing Decision Trees**"
   ]
  },
  {
   "cell_type": "code",
   "execution_count": 31,
   "metadata": {
    "id": "ZFL1R7DIExtl"
   },
   "outputs": [],
   "source": [
    "dot_data = StringIO()\n",
    "export_graphviz(dt, out_file=dot_data,  \n",
    "                filled=True, rounded=True,\n",
    "                special_characters=True,feature_names = feature_cols,class_names=['0','1'])\n",
    "#graph = pydotplus.graph_from_dot_data(dot_data.getvalue())  \n",
    "#graph.write_png('Figure-1.png')\n",
    "#Image(graph.create_png())"
   ]
  },
  {
   "cell_type": "markdown",
   "metadata": {
    "id": "NDXrYMtIIEch"
   },
   "source": [
    "**Optimizing Decision Tree Performance**"
   ]
  },
  {
   "cell_type": "code",
   "execution_count": 34,
   "metadata": {
    "id": "sMibb17jIDu6"
   },
   "outputs": [],
   "source": [
    "#Calculate start time\n",
    "start = timeit.default_timer()\n",
    "\n",
    "# Create Decision Tree classifer object\n",
    "odt = DecisionTreeClassifier(criterion=\"entropy\", max_depth=3)\n",
    "\n",
    "# Train Decision Tree Classifer\n",
    "odt.fit(X_train,y_train)\n",
    "\n",
    "#Calculate Stop time\n",
    "stop = timeit.default_timer()\n",
    "train_time= stop - start"
   ]
  },
  {
   "cell_type": "code",
   "execution_count": 35,
   "metadata": {
    "id": "3jB5gdpOoowK"
   },
   "outputs": [],
   "source": [
    "#Calculate start time\n",
    "start = timeit.default_timer()\n",
    "\n",
    "#Predict the response for test dataset\n",
    "y_pred_odt = odt.predict(X_test)\n",
    "\n",
    "#Calculate Stop time\n",
    "stop = timeit.default_timer()\n",
    "test_time= stop - start"
   ]
  },
  {
   "cell_type": "code",
   "execution_count": 36,
   "metadata": {},
   "outputs": [
    {
     "name": "stdout",
     "output_type": "stream",
     "text": [
      "[[71481  2014]\n",
      " [28416 18425]]\n",
      "              precision    recall  f1-score   support\n",
      "\n",
      "           0       0.72      0.97      0.82     73495\n",
      "           1       0.90      0.39      0.55     46841\n",
      "\n",
      "    accuracy                           0.75    120336\n",
      "   macro avg       0.81      0.68      0.69    120336\n",
      "weighted avg       0.79      0.75      0.72    120336\n",
      "\n"
     ]
    }
   ],
   "source": [
    "print(confusion_matrix(y_test,y_pred_odt))\n",
    "print(classification_report(y_test,y_pred_odt))"
   ]
  },
  {
   "cell_type": "code",
   "execution_count": 37,
   "metadata": {
    "colab": {
     "base_uri": "https://localhost:8080/"
    },
    "id": "2lJHWKfQKKeB",
    "outputId": "c766ada6-feb0-48d9-ac6d-ec7d9c4b9afe"
   },
   "outputs": [
    {
     "name": "stdout",
     "output_type": "stream",
     "text": [
      "Accuracy: 0.7471247174577849\n",
      "Precision: 0.9014628895738539\n",
      "Recall: 0.39335197796801946\n",
      "F1 Score: 0.5477110582639714\n",
      "Mean Absolute Error: 0.25287528254221514\n",
      "Cohens kappa: 0.40760976918321723\n",
      "ROC AUC: 0.6829743766294278\n",
      "Train Time(s):  0.4418849000001046\n",
      "Test Time(s):  0.032485399999814035\n"
     ]
    }
   ],
   "source": [
    "# Model Accuracy: how often is the classifier correct?\n",
    "print(\"Accuracy:\",metrics.accuracy_score(y_test, y_pred_odt))\n",
    "\n",
    "# Model Precision: what percentage of positive tuples are labeled as such?\n",
    "print(\"Precision:\",metrics.precision_score(y_test, y_pred_odt))\n",
    "\n",
    "# Model Recall: what percentage of positive tuples are labelled as such?\n",
    "print(\"Recall:\",metrics.recall_score(y_test, y_pred_odt))\n",
    "\n",
    "#Calculate F1 Score\n",
    "print(\"F1 Score:\",metrics.f1_score(y_test, y_pred_odt))\n",
    "\n",
    "#Calculate Mean Absolute Error\n",
    "print(\"Mean Absolute Error:\",metrics.mean_absolute_error(y_test, y_pred_odt))\n",
    "\n",
    "# kappa\n",
    "print(\"Cohens kappa:\", metrics.cohen_kappa_score(y_test, y_pred_odt))\n",
    "\n",
    "# ROC AUC\n",
    "print(\"ROC AUC:\", metrics.roc_auc_score(y_test, y_pred_odt))\n",
    "\n",
    "#Train time\n",
    "print('Train Time(s): ',train_time) \n",
    "\n",
    "#Test time\n",
    "print('Test Time(s): ',test_time)"
   ]
  },
  {
   "cell_type": "code",
   "execution_count": 38,
   "metadata": {},
   "outputs": [],
   "source": [
    "fpr, tpr, thresholds = roc_curve(y_test, y_pred_odt)\n",
    "\n",
    "def plot_roc_curve(fpr, tpr):\n",
    "    plt.plot(fpr, tpr, color='orange', label='ROC')\n",
    "    plt.plot([0, 1], [0, 1], color='darkblue', linestyle='--')\n",
    "    plt.xlabel('False Positive Rate')\n",
    "    plt.ylabel('True Positive Rate')\n",
    "    plt.title('Receiver Operating Characteristic (ROC) Curve')\n",
    "    plt.legend()\n",
    "    plt.show()"
   ]
  },
  {
   "cell_type": "code",
   "execution_count": 39,
   "metadata": {},
   "outputs": [
    {
     "data": {
      "image/png": "[encoded data removed]",
      "text/plain": [
       "<Figure size 432x288 with 1 Axes>"
      ]
     },
     "metadata": {
      "needs_background": "light"
     },
     "output_type": "display_data"
    }
   ],
   "source": [
    "plot_roc_curve(fpr, tpr)"
   ]
  },
  {
   "cell_type": "code",
   "execution_count": 40,
   "metadata": {},
   "outputs": [],
   "source": [
    "report = classification_report(y_test, y_pred_dt, output_dict=True)\n",
    "df = pd.DataFrame(report).transpose()\n",
    "df.to_csv('TML-DT-Optimizing_Result.csv')"
   ]
  },
  {
   "cell_type": "markdown",
   "metadata": {
    "id": "isxVvwZlIOQJ"
   },
   "source": [
    "**Visualizing Decision Trees**"
   ]
  },
  {
   "cell_type": "code",
   "execution_count": 73,
   "metadata": {
    "colab": {
     "base_uri": "https://localhost:8080/",
     "height": 594
    },
    "id": "gLGNmQzci_P0",
    "outputId": "4566aa17-1c9a-4a4b-e21a-7a58209e2b00"
   },
   "outputs": [
    {
     "ename": "InvocationException",
     "evalue": "GraphViz's executables not found",
     "output_type": "error",
     "traceback": [
      "\u001b[1;31m---------------------------------------------------------------------------\u001b[0m",
      "\u001b[1;31mInvocationException\u001b[0m                       Traceback (most recent call last)",
      "\u001b[1;32m<ipython-input-73-d7fb1cc0dcd2>\u001b[0m in \u001b[0;36m<module>\u001b[1;34m\u001b[0m\n\u001b[0;32m      5\u001b[0m \u001b[0mgraph\u001b[0m \u001b[1;33m=\u001b[0m \u001b[0mpydotplus\u001b[0m\u001b[1;33m.\u001b[0m\u001b[0mgraph_from_dot_data\u001b[0m\u001b[1;33m(\u001b[0m\u001b[0mdot_data\u001b[0m\u001b[1;33m.\u001b[0m\u001b[0mgetvalue\u001b[0m\u001b[1;33m(\u001b[0m\u001b[1;33m)\u001b[0m\u001b[1;33m)\u001b[0m\u001b[1;33m\u001b[0m\u001b[1;33m\u001b[0m\u001b[0m\n\u001b[0;32m      6\u001b[0m \u001b[1;31m#graph.write_png('Figure-2.png')\u001b[0m\u001b[1;33m\u001b[0m\u001b[1;33m\u001b[0m\u001b[1;33m\u001b[0m\u001b[0m\n\u001b[1;32m----> 7\u001b[1;33m \u001b[0mImage\u001b[0m\u001b[1;33m(\u001b[0m\u001b[0mgraph\u001b[0m\u001b[1;33m.\u001b[0m\u001b[0mcreate_png\u001b[0m\u001b[1;33m(\u001b[0m\u001b[1;33m)\u001b[0m\u001b[1;33m)\u001b[0m\u001b[1;33m\u001b[0m\u001b[1;33m\u001b[0m\u001b[0m\n\u001b[0m",
      "\u001b[1;32mC:\\ProgramData\\Anaconda3\\lib\\site-packages\\pydotplus\\graphviz.py\u001b[0m in \u001b[0;36m<lambda>\u001b[1;34m(f, prog)\u001b[0m\n\u001b[0;32m   1795\u001b[0m             self.__setattr__(\n\u001b[0;32m   1796\u001b[0m                 \u001b[1;34m'create_'\u001b[0m \u001b[1;33m+\u001b[0m \u001b[0mfrmt\u001b[0m\u001b[1;33m,\u001b[0m\u001b[1;33m\u001b[0m\u001b[1;33m\u001b[0m\u001b[0m\n\u001b[1;32m-> 1797\u001b[1;33m                 \u001b[1;32mlambda\u001b[0m \u001b[0mf\u001b[0m\u001b[1;33m=\u001b[0m\u001b[0mfrmt\u001b[0m\u001b[1;33m,\u001b[0m \u001b[0mprog\u001b[0m\u001b[1;33m=\u001b[0m\u001b[0mself\u001b[0m\u001b[1;33m.\u001b[0m\u001b[0mprog\u001b[0m\u001b[1;33m:\u001b[0m \u001b[0mself\u001b[0m\u001b[1;33m.\u001b[0m\u001b[0mcreate\u001b[0m\u001b[1;33m(\u001b[0m\u001b[0mformat\u001b[0m\u001b[1;33m=\u001b[0m\u001b[0mf\u001b[0m\u001b[1;33m,\u001b[0m \u001b[0mprog\u001b[0m\u001b[1;33m=\u001b[0m\u001b[0mprog\u001b[0m\u001b[1;33m)\u001b[0m\u001b[1;33m\u001b[0m\u001b[1;33m\u001b[0m\u001b[0m\n\u001b[0m\u001b[0;32m   1798\u001b[0m             )\n\u001b[0;32m   1799\u001b[0m             \u001b[0mf\u001b[0m \u001b[1;33m=\u001b[0m \u001b[0mself\u001b[0m\u001b[1;33m.\u001b[0m\u001b[0m__dict__\u001b[0m\u001b[1;33m[\u001b[0m\u001b[1;34m'create_'\u001b[0m \u001b[1;33m+\u001b[0m \u001b[0mfrmt\u001b[0m\u001b[1;33m]\u001b[0m\u001b[1;33m\u001b[0m\u001b[1;33m\u001b[0m\u001b[0m\n",
      "\u001b[1;32mC:\\ProgramData\\Anaconda3\\lib\\site-packages\\pydotplus\\graphviz.py\u001b[0m in \u001b[0;36mcreate\u001b[1;34m(self, prog, format)\u001b[0m\n\u001b[0;32m   1958\u001b[0m             \u001b[1;32mif\u001b[0m \u001b[0mself\u001b[0m\u001b[1;33m.\u001b[0m\u001b[0mprogs\u001b[0m \u001b[1;32mis\u001b[0m \u001b[1;32mNone\u001b[0m\u001b[1;33m:\u001b[0m\u001b[1;33m\u001b[0m\u001b[1;33m\u001b[0m\u001b[0m\n\u001b[0;32m   1959\u001b[0m                 raise InvocationException(\n\u001b[1;32m-> 1960\u001b[1;33m                     'GraphViz\\'s executables not found')\n\u001b[0m\u001b[0;32m   1961\u001b[0m \u001b[1;33m\u001b[0m\u001b[0m\n\u001b[0;32m   1962\u001b[0m         \u001b[1;32mif\u001b[0m \u001b[0mprog\u001b[0m \u001b[1;32mnot\u001b[0m \u001b[1;32min\u001b[0m \u001b[0mself\u001b[0m\u001b[1;33m.\u001b[0m\u001b[0mprogs\u001b[0m\u001b[1;33m:\u001b[0m\u001b[1;33m\u001b[0m\u001b[1;33m\u001b[0m\u001b[0m\n",
      "\u001b[1;31mInvocationException\u001b[0m: GraphViz's executables not found"
     ]
    }
   ],
   "source": [
    "dot_data = StringIO()\n",
    "export_graphviz(odt, out_file=dot_data,  \n",
    "                filled=True, rounded=True,\n",
    "                special_characters=True, feature_names = feature_cols,class_names=['0','1'])\n",
    "graph = pydotplus.graph_from_dot_data(dot_data.getvalue())  \n",
    "#graph.write_png('Figure-2.png')\n",
    "Image(graph.create_png())"
   ]
  },
  {
   "cell_type": "markdown",
   "metadata": {
    "id": "59LV10-kPUI0"
   },
   "source": [
    "**Gradient Boosted Decision Trees**"
   ]
  },
  {
   "cell_type": "code",
   "execution_count": 42,
   "metadata": {
    "id": "5vzdTFYXT-F5"
   },
   "outputs": [],
   "source": [
    "#Calculate start time\n",
    "start = timeit.default_timer()\n",
    "\n",
    "# Create gradient boost Decision Tree classifer object\n",
    "gbdt = GradientBoostingClassifier()\n",
    "\n",
    "# Train Gradient boost Decision Tree Classifer\n",
    "gbdt.fit(X_train, y_train)\n",
    "\n",
    "#Calculate Stop time\n",
    "stop = timeit.default_timer()\n",
    "train_time= stop - start"
   ]
  },
  {
   "cell_type": "code",
   "execution_count": 43,
   "metadata": {
    "id": "Bqul0OLWokQU"
   },
   "outputs": [],
   "source": [
    "#Calculate start time\n",
    "start = timeit.default_timer()\n",
    "\n",
    "#Predict the response for test dataset\n",
    "y_pred_gbdt = gbdt.predict(X_test)\n",
    "\n",
    "#Calculate Stop time\n",
    "stop = timeit.default_timer()\n",
    "test_time= stop - start"
   ]
  },
  {
   "cell_type": "code",
   "execution_count": 44,
   "metadata": {},
   "outputs": [
    {
     "name": "stdout",
     "output_type": "stream",
     "text": [
      "[[71160  2335]\n",
      " [21232 25609]]\n",
      "              precision    recall  f1-score   support\n",
      "\n",
      "           0       0.77      0.97      0.86     73495\n",
      "           1       0.92      0.55      0.68     46841\n",
      "\n",
      "    accuracy                           0.80    120336\n",
      "   macro avg       0.84      0.76      0.77    120336\n",
      "weighted avg       0.83      0.80      0.79    120336\n",
      "\n"
     ]
    }
   ],
   "source": [
    "print(confusion_matrix(y_test,y_pred_gbdt))\n",
    "print(classification_report(y_test,y_pred_gbdt))"
   ]
  },
  {
   "cell_type": "code",
   "execution_count": 45,
   "metadata": {
    "colab": {
     "base_uri": "https://localhost:8080/"
    },
    "id": "2nFbs_oOUHpp",
    "outputId": "8008198a-4ce8-4279-a7d6-df07d71ffc45"
   },
   "outputs": [
    {
     "name": "stdout",
     "output_type": "stream",
     "text": [
      "Accuracy: 0.8041566945884856\n",
      "Precision: 0.9164400229029488\n",
      "Recall: 0.546721888943447\n",
      "F1 Score: 0.6848699605535871\n",
      "Mean Absolute Error: 0.19584330541151443\n",
      "Cohens kappa: 0.5555953443181307\n",
      "ROC AUC: 0.7574755100884322\n",
      "Train Time(s):  29.047740199999907\n",
      "Test Time(s):  0.19865039999990586\n"
     ]
    }
   ],
   "source": [
    "# Model Accuracy: how often is the classifier correct?\n",
    "print(\"Accuracy:\",metrics.accuracy_score(y_test, y_pred_gbdt))\n",
    "\n",
    "# Model Precision: what percentage of positive tuples are labeled as such?\n",
    "print(\"Precision:\",metrics.precision_score(y_test, y_pred_gbdt))\n",
    "\n",
    "# Model Recall: what percentage of positive tuples are labelled as such?\n",
    "print(\"Recall:\",metrics.recall_score(y_test, y_pred_gbdt))\n",
    "\n",
    "#Calculate F1 Score\n",
    "print(\"F1 Score:\",metrics.f1_score(y_test, y_pred_gbdt))\n",
    "\n",
    "#Calculate Mean Absolute Error\n",
    "print(\"Mean Absolute Error:\",metrics.mean_absolute_error(y_test, y_pred_gbdt))\n",
    "\n",
    "# kappa\n",
    "print(\"Cohens kappa:\", metrics.cohen_kappa_score(y_test, y_pred_gbdt))\n",
    "\n",
    "# ROC AUC\n",
    "print(\"ROC AUC:\", metrics.roc_auc_score(y_test, y_pred_gbdt))\n",
    "\n",
    "#Train time\n",
    "print('Train Time(s): ',train_time) \n",
    "\n",
    "#Test time\n",
    "print('Test Time(s): ',test_time)"
   ]
  },
  {
   "cell_type": "code",
   "execution_count": 46,
   "metadata": {},
   "outputs": [],
   "source": [
    "fpr, tpr, thresholds = roc_curve(y_test, y_pred_gbdt)\n",
    "\n",
    "def plot_roc_curve(fpr, tpr):\n",
    "    plt.plot(fpr, tpr, color='orange', label='ROC')\n",
    "    plt.plot([0, 1], [0, 1], color='darkblue', linestyle='--')\n",
    "    plt.xlabel('False Positive Rate')\n",
    "    plt.ylabel('True Positive Rate')\n",
    "    plt.title('Receiver Operating Characteristic (ROC) Curve')\n",
    "    plt.legend()\n",
    "    plt.show()"
   ]
  },
  {
   "cell_type": "code",
   "execution_count": 47,
   "metadata": {},
   "outputs": [
    {
     "data": {
      "image/png": "[encoded data removed]",
      "text/plain": [
       "<Figure size 432x288 with 1 Axes>"
      ]
     },
     "metadata": {
      "needs_background": "light"
     },
     "output_type": "display_data"
    }
   ],
   "source": [
    "plot_roc_curve(fpr, tpr)"
   ]
  },
  {
   "cell_type": "code",
   "execution_count": 48,
   "metadata": {},
   "outputs": [],
   "source": [
    "report = classification_report(y_test, y_pred_dt, output_dict=True)\n",
    "df = pd.DataFrame(report).transpose()\n",
    "df.to_csv('TML-DT-Gradient_Boosted_Result.csv')"
   ]
  },
  {
   "cell_type": "markdown",
   "metadata": {
    "id": "Higf1vxQUQxL"
   },
   "source": [
    "**Gradient Boosted Decision Trees with Learning Rate**"
   ]
  },
  {
   "cell_type": "markdown",
   "metadata": {
    "id": "REfIByJVYtGn"
   },
   "source": [
    "**Building the Model**"
   ]
  },
  {
   "cell_type": "code",
   "execution_count": 49,
   "metadata": {
    "colab": {
     "base_uri": "https://localhost:8080/"
    },
    "id": "oG63BAccQbkj",
    "outputId": "a7c130fe-c521-4a2a-ba55-59273686a28f"
   },
   "outputs": [
    {
     "name": "stdout",
     "output_type": "stream",
     "text": [
      "Learning rate:  0.05\n",
      "Accuracy: 0.7072779550591677\n",
      "Precision: 1.0\n",
      "Recall: 0.24798787387118124\n",
      "F1 Score: 0.39742032605162775\n",
      "Mean Absolute Error: 0.2927220449408323\n",
      "Train Time(s):  29.047740199999907\n",
      "Test Time(s):  0.19865039999990586\n",
      "\n",
      "\n",
      "Learning rate:  0.1\n",
      "Accuracy: 0.7505733944954128\n",
      "Precision: 0.920944661262884\n",
      "Recall: 0.39294635041950426\n",
      "F1 Score: 0.5508551932602092\n",
      "Mean Absolute Error: 0.24942660550458715\n",
      "Train Time(s):  29.047740199999907\n",
      "Test Time(s):  0.19865039999990586\n",
      "\n",
      "\n",
      "Learning rate:  0.25\n",
      "Accuracy: 0.7585926073660417\n",
      "Precision: 0.9040654099477629\n",
      "Recall: 0.42490553147883264\n",
      "F1 Score: 0.5781050307888927\n",
      "Mean Absolute Error: 0.24140739263395825\n",
      "Train Time(s):  29.047740199999907\n",
      "Test Time(s):  0.19865039999990586\n",
      "\n",
      "\n",
      "Learning rate:  0.5\n",
      "Accuracy: 0.7972593405132297\n",
      "Precision: 0.9172367638310529\n",
      "Recall: 0.5266753485194594\n",
      "F1 Score: 0.6691348983549642\n",
      "Mean Absolute Error: 0.20274065948677036\n",
      "Train Time(s):  29.047740199999907\n",
      "Test Time(s):  0.19865039999990586\n",
      "\n",
      "\n",
      "Learning rate:  0.75\n",
      "Accuracy: 0.7996941896024465\n",
      "Precision: 0.8973749519382013\n",
      "Recall: 0.5480882133173929\n",
      "F1 Score: 0.6805301524188203\n",
      "Mean Absolute Error: 0.20030581039755352\n",
      "Train Time(s):  29.047740199999907\n",
      "Test Time(s):  0.19865039999990586\n",
      "\n",
      "\n",
      "Learning rate:  1\n",
      "Accuracy: 0.8003340646190666\n",
      "Precision: 0.9021647158369764\n",
      "Recall: 0.5462949125765889\n",
      "F1 Score: 0.6805132637457616\n",
      "Mean Absolute Error: 0.19966593538093338\n",
      "Train Time(s):  29.047740199999907\n",
      "Test Time(s):  0.19865039999990586\n",
      "\n",
      "\n"
     ]
    }
   ],
   "source": [
    "learning_rates = [0.05, 0.1, 0.25, 0.5, 0.75, 1]\n",
    "for learning_rate in learning_rates:\n",
    "    gbdtl = GradientBoostingClassifier(n_estimators=20, learning_rate = learning_rate, max_features=2, max_depth = 2, random_state = 0)\n",
    "    gbdtl.fit(X_train, y_train)\n",
    "    y_pred_gbdtl = gbdtl.predict(X_test)\n",
    "    print(\"Learning rate: \", learning_rate)\n",
    "    print(\"Accuracy:\",metrics.accuracy_score(y_test, y_pred_gbdtl))\n",
    "    print(\"Precision:\",metrics.precision_score(y_test, y_pred_gbdtl))\n",
    "    print(\"Recall:\",metrics.recall_score(y_test, y_pred_gbdtl))\n",
    "    print(\"F1 Score:\",metrics.f1_score(y_test, y_pred_gbdtl))\n",
    "    print(\"Mean Absolute Error:\",metrics.mean_absolute_error(y_test, y_pred_gbdtl))\n",
    "    print('Train Time(s): ',train_time) \n",
    "    print('Test Time(s): ',test_time)\n",
    "    print(\"\\n\")"
   ]
  },
  {
   "cell_type": "markdown",
   "metadata": {
    "id": "nnwtB-zUVsdC"
   },
   "source": [
    "**Ada Boost Classifier in Decision Trees**"
   ]
  },
  {
   "cell_type": "markdown",
   "metadata": {
    "id": "RHRbqYh4Xz6w"
   },
   "source": [
    "**Building the Model**"
   ]
  },
  {
   "cell_type": "code",
   "execution_count": 50,
   "metadata": {
    "id": "DpCZzGucTIuW"
   },
   "outputs": [],
   "source": [
    "#Calculate start time\n",
    "start = timeit.default_timer()\n",
    "\n",
    "#Create Decision tree Model \n",
    "model = DecisionTreeClassifier(criterion='entropy',max_depth=1)\n",
    "\n",
    "# Create Ada boost Decision Tree classifer object\n",
    "AdaBoost = AdaBoostClassifier(base_estimator= model,n_estimators=400,learning_rate=1)\n",
    "\n",
    "# Train Ada boost Decision Tree Classifer\n",
    "AdaBoost.fit(X_train, y_train)\n",
    "\n",
    "#Calculate Stop time\n",
    "stop = timeit.default_timer()\n",
    "train_time= stop - start"
   ]
  },
  {
   "cell_type": "code",
   "execution_count": 51,
   "metadata": {
    "id": "bDdSXZ7ioDDu"
   },
   "outputs": [],
   "source": [
    "#Calculate start time\n",
    "start = timeit.default_timer()\n",
    "\n",
    "#Predict the response for test dataset\n",
    "y_pred_AdaBoost = AdaBoost.predict(X_test)\n",
    "\n",
    "#Calculate Stop time\n",
    "stop = timeit.default_timer()\n",
    "test_time= stop - start"
   ]
  },
  {
   "cell_type": "markdown",
   "metadata": {
    "id": "EyLRW0GpX89F"
   },
   "source": [
    "**Evaluating Model**"
   ]
  },
  {
   "cell_type": "code",
   "execution_count": 52,
   "metadata": {},
   "outputs": [
    {
     "name": "stdout",
     "output_type": "stream",
     "text": [
      "[[70616  2879]\n",
      " [20636 26205]]\n",
      "              precision    recall  f1-score   support\n",
      "\n",
      "           0       0.77      0.96      0.86     73495\n",
      "           1       0.90      0.56      0.69     46841\n",
      "\n",
      "    accuracy                           0.80    120336\n",
      "   macro avg       0.84      0.76      0.77    120336\n",
      "weighted avg       0.82      0.80      0.79    120336\n",
      "\n"
     ]
    }
   ],
   "source": [
    "print(confusion_matrix(y_test,y_pred_AdaBoost))\n",
    "print(classification_report(y_test,y_pred_AdaBoost))"
   ]
  },
  {
   "cell_type": "code",
   "execution_count": 53,
   "metadata": {
    "colab": {
     "base_uri": "https://localhost:8080/"
    },
    "id": "5kDvfaQqWdkq",
    "outputId": "4c21986b-fab0-4c04-e596-92b066a4c678"
   },
   "outputs": [
    {
     "name": "stdout",
     "output_type": "stream",
     "text": [
      "Accuracy: 0.804588817976333\n",
      "Precision: 0.9010108650804566\n",
      "Recall: 0.5594457846758182\n",
      "F1 Score: 0.6902864669081329\n",
      "Mean Absolute Error: 0.19541118202366706\n",
      "Cohens kappa: 0.5586772808397859\n",
      "ROC AUC: 0.7601365259184248\n",
      "Train Time(s):  103.39038140000002\n",
      "Test Time(s):  11.03449969999997\n"
     ]
    }
   ],
   "source": [
    "# Model Accuracy: how often is the classifier correct?\n",
    "print(\"Accuracy:\",metrics.accuracy_score(y_test, y_pred_AdaBoost))\n",
    "\n",
    "# Model Precision: what percentage of positive tuples are labeled as such?\n",
    "print(\"Precision:\",metrics.precision_score(y_test, y_pred_AdaBoost))\n",
    "\n",
    "# Model Recall: what percentage of positive tuples are labelled as such?\n",
    "print(\"Recall:\",metrics.recall_score(y_test, y_pred_AdaBoost))\n",
    "\n",
    "#Calculate F1 Score\n",
    "print(\"F1 Score:\",metrics.f1_score(y_test, y_pred_AdaBoost))\n",
    "\n",
    "#Calculate Mean Absolute Error\n",
    "print(\"Mean Absolute Error:\",metrics.mean_absolute_error(y_test, y_pred_AdaBoost))\n",
    "\n",
    "# kappa\n",
    "print(\"Cohens kappa:\", metrics.cohen_kappa_score(y_test, y_pred_AdaBoost))\n",
    "\n",
    "# ROC AUC\n",
    "print(\"ROC AUC:\", metrics.roc_auc_score(y_test, y_pred_AdaBoost))\n",
    "\n",
    "#Train time\n",
    "print('Train Time(s): ',train_time) \n",
    "\n",
    "#Test time\n",
    "print('Test Time(s): ',test_time)"
   ]
  },
  {
   "cell_type": "code",
   "execution_count": 54,
   "metadata": {},
   "outputs": [],
   "source": [
    "fpr, tpr, thresholds = roc_curve(y_test, y_pred_AdaBoost)\n",
    "\n",
    "def plot_roc_curve(fpr, tpr):\n",
    "    plt.plot(fpr, tpr, color='orange', label='ROC')\n",
    "    plt.plot([0, 1], [0, 1], color='darkblue', linestyle='--')\n",
    "    plt.xlabel('False Positive Rate')\n",
    "    plt.ylabel('True Positive Rate')\n",
    "    plt.title('Receiver Operating Characteristic (ROC) Curve')\n",
    "    plt.legend()\n",
    "    plt.show()"
   ]
  },
  {
   "cell_type": "code",
   "execution_count": 55,
   "metadata": {},
   "outputs": [
    {
     "data": {
      "image/png": "[encoded data removed]",
      "text/plain": [
       "<Figure size 432x288 with 1 Axes>"
      ]
     },
     "metadata": {
      "needs_background": "light"
     },
     "output_type": "display_data"
    }
   ],
   "source": [
    "plot_roc_curve(fpr, tpr)"
   ]
  },
  {
   "cell_type": "code",
   "execution_count": 56,
   "metadata": {},
   "outputs": [],
   "source": [
    "report = classification_report(y_test, y_pred_dt, output_dict=True)\n",
    "df = pd.DataFrame(report).transpose()\n",
    "df.to_csv('TML-DT-Ada_Boost_Result.csv')"
   ]
  }
 ],
 "metadata": {
  "colab": {
   "authorship_tag": "ABX9TyNo0sBjlgVq+Cyk4oB35lsw",
   "collapsed_sections": [],
   "include_colab_link": true,
   "name": "DT on IoT Combined Dataset.ipynb",
   "provenance": []
  },
  "kernelspec": {
   "display_name": "Python 3",
   "language": "python",
   "name": "python3"
  },
  "language_info": {
   "codemirror_mode": {
    "name": "ipython",
    "version": 3
   },
   "file_extension": ".py",
   "mimetype": "text/x-python",
   "name": "python",
   "nbconvert_exporter": "python",
   "pygments_lexer": "ipython3",
   "version": "3.7.3"
  }
 },
 "nbformat": 4,
 "nbformat_minor": 1
}
