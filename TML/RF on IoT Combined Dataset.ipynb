{
 "cells": [
  {
   "cell_type": "markdown",
   "metadata": {
    "id": "y61xJzKhjsAt"
   },
   "source": [
    "# **Random Forest(RF) on IoT Combined Dataset**"
   ]
  },
  {
   "cell_type": "markdown",
   "metadata": {
    "id": "SSWJ-I3UKZ6h"
   },
   "source": [
    "****Importing libraries****"
   ]
  },
  {
   "cell_type": "code",
   "execution_count": 1,
   "metadata": {
    "id": "AwMrsTn_KVhy"
   },
   "outputs": [],
   "source": [
    "import timeit\n",
    "import pandas as pd\n",
    "import numpy as np\n",
    "import seaborn as sns\n",
    "import matplotlib.pyplot as plt\n",
    "from sklearn.model_selection import train_test_split\n",
    "from sklearn.ensemble import RandomForestClassifier\n",
    "from sklearn import metrics\n",
    "from sklearn.metrics import classification_report, confusion_matrix\n",
    "from sklearn.metrics import roc_curve\n",
    "from sklearn.metrics import roc_auc_score\n",
    "import warnings\n",
    "%matplotlib inline\n",
    "warnings.filterwarnings('ignore')\n",
    "#warnings.filterwarnings('always') "
   ]
  },
  {
   "cell_type": "markdown",
   "metadata": {
    "id": "VVVIs7G_KdTq"
   },
   "source": [
    "**Upload File**"
   ]
  },
  {
   "cell_type": "code",
   "execution_count": null,
   "metadata": {
    "colab": {
     "base_uri": "https://localhost:8080/",
     "height": 72,
     "resources": {
      "http://localhost:8080/nbextensions/google.colab/files.js": {
       "data": "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",
       "headers": [
        [
         "content-type",
         "application/javascript"
        ]
       ],
       "ok": true,
       "status": 200,
       "status_text": ""
      }
     }
    },
    "id": "24Ek4cCej76I",
    "outputId": "deb78a2a-e7f7-4333-ff97-fa9d342604c1"
   },
   "outputs": [
    {
     "data": {
      "text/html": [
       "\n",
       "     <input type=\"file\" id=\"files-fd3b4d35-0d79-4ef2-ab3b-53ba9bf3f6e7\" name=\"files[]\" multiple disabled\n",
       "        style=\"border:none\" />\n",
       "     <output id=\"result-fd3b4d35-0d79-4ef2-ab3b-53ba9bf3f6e7\">\n",
       "      Upload widget is only available when the cell has been executed in the\n",
       "      current browser session. Please rerun this cell to enable.\n",
       "      </output>\n",
       "      <script src=\"/nbextensions/google.colab/files.js\"></script> "
      ],
      "text/plain": [
       "<IPython.core.display.HTML object>"
      ]
     },
     "metadata": {
      "tags": []
     },
     "output_type": "display_data"
    },
    {
     "name": "stdout",
     "output_type": "stream",
     "text": [
      "Saving New_Combined_IoT_dataset.csv to New_Combined_IoT_dataset.csv\n"
     ]
    }
   ],
   "source": [
    "#uploaded = files.upload()"
   ]
  },
  {
   "cell_type": "markdown",
   "metadata": {
    "id": "4jmo-htGGdCD"
   },
   "source": [
    "**Importing the Dataset**"
   ]
  },
  {
   "cell_type": "code",
   "execution_count": 2,
   "metadata": {
    "id": "AsvTp_w-l-Km"
   },
   "outputs": [],
   "source": [
    "dataset=pd.read_csv('F:/Shawon/Research Collaberation/Combined Dataset/Dataset without ts date and time columns/New_Combined_IoT_dataset.csv')"
   ]
  },
  {
   "cell_type": "markdown",
   "metadata": {
    "id": "2BWWYGPNGhst"
   },
   "source": [
    "**Exploratory Data Analysis**"
   ]
  },
  {
   "cell_type": "code",
   "execution_count": 3,
   "metadata": {
    "colab": {
     "base_uri": "https://localhost:8080/",
     "height": 224
    },
    "executionInfo": {
     "elapsed": 1798,
     "status": "ok",
     "timestamp": 1604053287311,
     "user": {
      "displayName": "Sk. Tanzir Mehedi",
      "photoUrl": "https://lh3.googleusercontent.com/a-/AOh14GiBFOi6Rt2CselpQV-_Qv4fN4zd3rYfkqYUoVLQzQ=s64",
      "userId": "04625646645471127079"
     },
     "user_tz": -360
    },
    "id": "0hEM0bOClrjL",
    "outputId": "c5968967-4f3e-48e3-b15c-8c1294bef3cf"
   },
   "outputs": [
    {
     "data": {
      "text/html": [
       "<div>\n",
       "<style scoped>\n",
       "    .dataframe tbody tr th:only-of-type {\n",
       "        vertical-align: middle;\n",
       "    }\n",
       "\n",
       "    .dataframe tbody tr th {\n",
       "        vertical-align: top;\n",
       "    }\n",
       "\n",
       "    .dataframe thead th {\n",
       "        text-align: right;\n",
       "    }\n",
       "</style>\n",
       "<table border=\"1\" class=\"dataframe\">\n",
       "  <thead>\n",
       "    <tr style=\"text-align: right;\">\n",
       "      <th></th>\n",
       "      <th>FC1_Read_Input_Register</th>\n",
       "      <th>FC2_Read_Discrete_Value</th>\n",
       "      <th>FC3_Read_Holding_Register</th>\n",
       "      <th>FC4_Read_Coil</th>\n",
       "      <th>current_temperature</th>\n",
       "      <th>door_state</th>\n",
       "      <th>fridge_temperature</th>\n",
       "      <th>humidity</th>\n",
       "      <th>latitude</th>\n",
       "      <th>light_status</th>\n",
       "      <th>longitude</th>\n",
       "      <th>motion_status</th>\n",
       "      <th>pressure</th>\n",
       "      <th>sphone_signal</th>\n",
       "      <th>temp_condition</th>\n",
       "      <th>temperature</th>\n",
       "      <th>thermostat_status</th>\n",
       "      <th>label</th>\n",
       "    </tr>\n",
       "  </thead>\n",
       "  <tbody>\n",
       "    <tr>\n",
       "      <th>0</th>\n",
       "      <td>0.495216</td>\n",
       "      <td>0.499092</td>\n",
       "      <td>0.488897</td>\n",
       "      <td>0.499405</td>\n",
       "      <td>0.344399</td>\n",
       "      <td>0</td>\n",
       "      <td>0.930769</td>\n",
       "      <td>0.462511</td>\n",
       "      <td>0.008217</td>\n",
       "      <td>0</td>\n",
       "      <td>0.008112</td>\n",
       "      <td>0</td>\n",
       "      <td>0.533556</td>\n",
       "      <td>0.666667</td>\n",
       "      <td>0.2</td>\n",
       "      <td>0.517307</td>\n",
       "      <td>1</td>\n",
       "      <td>0</td>\n",
       "    </tr>\n",
       "    <tr>\n",
       "      <th>1</th>\n",
       "      <td>0.495216</td>\n",
       "      <td>0.499092</td>\n",
       "      <td>0.488897</td>\n",
       "      <td>0.499405</td>\n",
       "      <td>0.344399</td>\n",
       "      <td>0</td>\n",
       "      <td>0.588462</td>\n",
       "      <td>0.462511</td>\n",
       "      <td>0.008217</td>\n",
       "      <td>0</td>\n",
       "      <td>0.008112</td>\n",
       "      <td>0</td>\n",
       "      <td>0.533556</td>\n",
       "      <td>0.666667</td>\n",
       "      <td>0.2</td>\n",
       "      <td>0.517307</td>\n",
       "      <td>1</td>\n",
       "      <td>0</td>\n",
       "    </tr>\n",
       "    <tr>\n",
       "      <th>2</th>\n",
       "      <td>0.495216</td>\n",
       "      <td>0.499092</td>\n",
       "      <td>0.488897</td>\n",
       "      <td>0.499405</td>\n",
       "      <td>0.344399</td>\n",
       "      <td>0</td>\n",
       "      <td>0.076923</td>\n",
       "      <td>0.462511</td>\n",
       "      <td>0.008217</td>\n",
       "      <td>0</td>\n",
       "      <td>0.008112</td>\n",
       "      <td>0</td>\n",
       "      <td>0.533556</td>\n",
       "      <td>0.666667</td>\n",
       "      <td>0.8</td>\n",
       "      <td>0.517307</td>\n",
       "      <td>1</td>\n",
       "      <td>0</td>\n",
       "    </tr>\n",
       "    <tr>\n",
       "      <th>3</th>\n",
       "      <td>0.495216</td>\n",
       "      <td>0.499092</td>\n",
       "      <td>0.488897</td>\n",
       "      <td>0.499405</td>\n",
       "      <td>0.344399</td>\n",
       "      <td>0</td>\n",
       "      <td>0.292308</td>\n",
       "      <td>0.462511</td>\n",
       "      <td>0.008217</td>\n",
       "      <td>0</td>\n",
       "      <td>0.008112</td>\n",
       "      <td>0</td>\n",
       "      <td>0.533556</td>\n",
       "      <td>0.666667</td>\n",
       "      <td>0.8</td>\n",
       "      <td>0.517307</td>\n",
       "      <td>1</td>\n",
       "      <td>0</td>\n",
       "    </tr>\n",
       "    <tr>\n",
       "      <th>4</th>\n",
       "      <td>0.495216</td>\n",
       "      <td>0.499092</td>\n",
       "      <td>0.488897</td>\n",
       "      <td>0.499405</td>\n",
       "      <td>0.344399</td>\n",
       "      <td>0</td>\n",
       "      <td>0.746154</td>\n",
       "      <td>0.462511</td>\n",
       "      <td>0.008217</td>\n",
       "      <td>0</td>\n",
       "      <td>0.008112</td>\n",
       "      <td>0</td>\n",
       "      <td>0.533556</td>\n",
       "      <td>0.666667</td>\n",
       "      <td>0.2</td>\n",
       "      <td>0.517307</td>\n",
       "      <td>1</td>\n",
       "      <td>0</td>\n",
       "    </tr>\n",
       "  </tbody>\n",
       "</table>\n",
       "</div>"
      ],
      "text/plain": [
       "   FC1_Read_Input_Register  FC2_Read_Discrete_Value  \\\n",
       "0                 0.495216                 0.499092   \n",
       "1                 0.495216                 0.499092   \n",
       "2                 0.495216                 0.499092   \n",
       "3                 0.495216                 0.499092   \n",
       "4                 0.495216                 0.499092   \n",
       "\n",
       "   FC3_Read_Holding_Register  FC4_Read_Coil  current_temperature  door_state  \\\n",
       "0                   0.488897       0.499405             0.344399           0   \n",
       "1                   0.488897       0.499405             0.344399           0   \n",
       "2                   0.488897       0.499405             0.344399           0   \n",
       "3                   0.488897       0.499405             0.344399           0   \n",
       "4                   0.488897       0.499405             0.344399           0   \n",
       "\n",
       "   fridge_temperature  humidity  latitude  light_status  longitude  \\\n",
       "0            0.930769  0.462511  0.008217             0   0.008112   \n",
       "1            0.588462  0.462511  0.008217             0   0.008112   \n",
       "2            0.076923  0.462511  0.008217             0   0.008112   \n",
       "3            0.292308  0.462511  0.008217             0   0.008112   \n",
       "4            0.746154  0.462511  0.008217             0   0.008112   \n",
       "\n",
       "   motion_status  pressure  sphone_signal  temp_condition  temperature  \\\n",
       "0              0  0.533556       0.666667             0.2     0.517307   \n",
       "1              0  0.533556       0.666667             0.2     0.517307   \n",
       "2              0  0.533556       0.666667             0.8     0.517307   \n",
       "3              0  0.533556       0.666667             0.8     0.517307   \n",
       "4              0  0.533556       0.666667             0.2     0.517307   \n",
       "\n",
       "   thermostat_status  label  \n",
       "0                  1      0  \n",
       "1                  1      0  \n",
       "2                  1      0  \n",
       "3                  1      0  \n",
       "4                  1      0  "
      ]
     },
     "execution_count": 3,
     "metadata": {},
     "output_type": "execute_result"
    }
   ],
   "source": [
    "dataset.head()"
   ]
  },
  {
   "cell_type": "code",
   "execution_count": 4,
   "metadata": {
    "colab": {
     "base_uri": "https://localhost:8080/"
    },
    "executionInfo": {
     "elapsed": 1657,
     "status": "ok",
     "timestamp": 1604053293611,
     "user": {
      "displayName": "Sk. Tanzir Mehedi",
      "photoUrl": "https://lh3.googleusercontent.com/a-/AOh14GiBFOi6Rt2CselpQV-_Qv4fN4zd3rYfkqYUoVLQzQ=s64",
      "userId": "04625646645471127079"
     },
     "user_tz": -360
    },
    "id": "Bq4nVy0ILHdo",
    "outputId": "075134c4-b2ed-405e-a982-060ac56a6132"
   },
   "outputs": [
    {
     "name": "stdout",
     "output_type": "stream",
     "text": [
      "(401119, 18)\n"
     ]
    }
   ],
   "source": [
    "print(dataset.shape)"
   ]
  },
  {
   "cell_type": "code",
   "execution_count": 5,
   "metadata": {
    "colab": {
     "base_uri": "https://localhost:8080/"
    },
    "executionInfo": {
     "elapsed": 1717,
     "status": "ok",
     "timestamp": 1604053300658,
     "user": {
      "displayName": "Sk. Tanzir Mehedi",
      "photoUrl": "https://lh3.googleusercontent.com/a-/AOh14GiBFOi6Rt2CselpQV-_Qv4fN4zd3rYfkqYUoVLQzQ=s64",
      "userId": "04625646645471127079"
     },
     "user_tz": -360
    },
    "id": "gJVXzqugDdWd",
    "outputId": "0183bcfc-bfcb-41e7-beac-34a3cf1ed18d"
   },
   "outputs": [
    {
     "name": "stdout",
     "output_type": "stream",
     "text": [
      "['FC1_Read_Input_Register', 'FC2_Read_Discrete_Value', 'FC3_Read_Holding_Register', 'FC4_Read_Coil', 'current_temperature', 'door_state', 'fridge_temperature', 'humidity', 'latitude', 'light_status', 'longitude', 'motion_status', 'pressure', 'sphone_signal', 'temp_condition', 'temperature', 'thermostat_status', 'label']\n"
     ]
    }
   ],
   "source": [
    "print(list(dataset.columns))"
   ]
  },
  {
   "cell_type": "code",
   "execution_count": 6,
   "metadata": {
    "id": "kRuslnJmZbNZ"
   },
   "outputs": [
    {
     "data": {
      "text/plain": [
       "['label']"
      ]
     },
     "execution_count": 6,
     "metadata": {},
     "output_type": "execute_result"
    }
   ],
   "source": [
    "target_cols=list(dataset.columns[-1:])\n",
    "target_cols"
   ]
  },
  {
   "cell_type": "code",
   "execution_count": 7,
   "metadata": {
    "colab": {
     "base_uri": "https://localhost:8080/"
    },
    "executionInfo": {
     "elapsed": 2009,
     "status": "ok",
     "timestamp": 1604053307149,
     "user": {
      "displayName": "Sk. Tanzir Mehedi",
      "photoUrl": "https://lh3.googleusercontent.com/a-/AOh14GiBFOi6Rt2CselpQV-_Qv4fN4zd3rYfkqYUoVLQzQ=s64",
      "userId": "04625646645471127079"
     },
     "user_tz": -360
    },
    "id": "qDuBF5llF833",
    "outputId": "5392e705-047c-4cec-dc2c-1fbeb42de27b"
   },
   "outputs": [
    {
     "data": {
      "text/plain": [
       "['FC1_Read_Input_Register',\n",
       " 'FC2_Read_Discrete_Value',\n",
       " 'FC3_Read_Holding_Register',\n",
       " 'FC4_Read_Coil',\n",
       " 'current_temperature',\n",
       " 'door_state',\n",
       " 'fridge_temperature',\n",
       " 'humidity',\n",
       " 'latitude',\n",
       " 'light_status',\n",
       " 'longitude',\n",
       " 'motion_status',\n",
       " 'pressure',\n",
       " 'sphone_signal',\n",
       " 'temp_condition',\n",
       " 'temperature',\n",
       " 'thermostat_status']"
      ]
     },
     "execution_count": 7,
     "metadata": {},
     "output_type": "execute_result"
    }
   ],
   "source": [
    "feature_cols= list(dataset.columns[:-1])\n",
    "feature_cols"
   ]
  },
  {
   "cell_type": "markdown",
   "metadata": {
    "id": "poF7HvW6DvVp"
   },
   "source": [
    "**Split Dataset**"
   ]
  },
  {
   "cell_type": "code",
   "execution_count": 8,
   "metadata": {
    "id": "lHM3bLWKHel7"
   },
   "outputs": [],
   "source": [
    "#split dataset in features and target variable\n",
    "X = dataset.drop('label', axis=1) # Features\n",
    "y = dataset['label'] # Target variable"
   ]
  },
  {
   "cell_type": "code",
   "execution_count": 9,
   "metadata": {
    "colab": {
     "base_uri": "https://localhost:8080/",
     "height": 224
    },
    "executionInfo": {
     "elapsed": 1701,
     "status": "ok",
     "timestamp": 1604053319501,
     "user": {
      "displayName": "Sk. Tanzir Mehedi",
      "photoUrl": "https://lh3.googleusercontent.com/a-/AOh14GiBFOi6Rt2CselpQV-_Qv4fN4zd3rYfkqYUoVLQzQ=s64",
      "userId": "04625646645471127079"
     },
     "user_tz": -360
    },
    "id": "55_7-v6UdUQX",
    "outputId": "8c9ce516-7260-4a8d-80e8-0fedfa725037"
   },
   "outputs": [
    {
     "data": {
      "text/html": [
       "<div>\n",
       "<style scoped>\n",
       "    .dataframe tbody tr th:only-of-type {\n",
       "        vertical-align: middle;\n",
       "    }\n",
       "\n",
       "    .dataframe tbody tr th {\n",
       "        vertical-align: top;\n",
       "    }\n",
       "\n",
       "    .dataframe thead th {\n",
       "        text-align: right;\n",
       "    }\n",
       "</style>\n",
       "<table border=\"1\" class=\"dataframe\">\n",
       "  <thead>\n",
       "    <tr style=\"text-align: right;\">\n",
       "      <th></th>\n",
       "      <th>FC1_Read_Input_Register</th>\n",
       "      <th>FC2_Read_Discrete_Value</th>\n",
       "      <th>FC3_Read_Holding_Register</th>\n",
       "      <th>FC4_Read_Coil</th>\n",
       "      <th>current_temperature</th>\n",
       "      <th>door_state</th>\n",
       "      <th>fridge_temperature</th>\n",
       "      <th>humidity</th>\n",
       "      <th>latitude</th>\n",
       "      <th>light_status</th>\n",
       "      <th>longitude</th>\n",
       "      <th>motion_status</th>\n",
       "      <th>pressure</th>\n",
       "      <th>sphone_signal</th>\n",
       "      <th>temp_condition</th>\n",
       "      <th>temperature</th>\n",
       "      <th>thermostat_status</th>\n",
       "    </tr>\n",
       "  </thead>\n",
       "  <tbody>\n",
       "    <tr>\n",
       "      <th>0</th>\n",
       "      <td>0.495216</td>\n",
       "      <td>0.499092</td>\n",
       "      <td>0.488897</td>\n",
       "      <td>0.499405</td>\n",
       "      <td>0.344399</td>\n",
       "      <td>0</td>\n",
       "      <td>0.930769</td>\n",
       "      <td>0.462511</td>\n",
       "      <td>0.008217</td>\n",
       "      <td>0</td>\n",
       "      <td>0.008112</td>\n",
       "      <td>0</td>\n",
       "      <td>0.533556</td>\n",
       "      <td>0.666667</td>\n",
       "      <td>0.2</td>\n",
       "      <td>0.517307</td>\n",
       "      <td>1</td>\n",
       "    </tr>\n",
       "    <tr>\n",
       "      <th>1</th>\n",
       "      <td>0.495216</td>\n",
       "      <td>0.499092</td>\n",
       "      <td>0.488897</td>\n",
       "      <td>0.499405</td>\n",
       "      <td>0.344399</td>\n",
       "      <td>0</td>\n",
       "      <td>0.588462</td>\n",
       "      <td>0.462511</td>\n",
       "      <td>0.008217</td>\n",
       "      <td>0</td>\n",
       "      <td>0.008112</td>\n",
       "      <td>0</td>\n",
       "      <td>0.533556</td>\n",
       "      <td>0.666667</td>\n",
       "      <td>0.2</td>\n",
       "      <td>0.517307</td>\n",
       "      <td>1</td>\n",
       "    </tr>\n",
       "    <tr>\n",
       "      <th>2</th>\n",
       "      <td>0.495216</td>\n",
       "      <td>0.499092</td>\n",
       "      <td>0.488897</td>\n",
       "      <td>0.499405</td>\n",
       "      <td>0.344399</td>\n",
       "      <td>0</td>\n",
       "      <td>0.076923</td>\n",
       "      <td>0.462511</td>\n",
       "      <td>0.008217</td>\n",
       "      <td>0</td>\n",
       "      <td>0.008112</td>\n",
       "      <td>0</td>\n",
       "      <td>0.533556</td>\n",
       "      <td>0.666667</td>\n",
       "      <td>0.8</td>\n",
       "      <td>0.517307</td>\n",
       "      <td>1</td>\n",
       "    </tr>\n",
       "    <tr>\n",
       "      <th>3</th>\n",
       "      <td>0.495216</td>\n",
       "      <td>0.499092</td>\n",
       "      <td>0.488897</td>\n",
       "      <td>0.499405</td>\n",
       "      <td>0.344399</td>\n",
       "      <td>0</td>\n",
       "      <td>0.292308</td>\n",
       "      <td>0.462511</td>\n",
       "      <td>0.008217</td>\n",
       "      <td>0</td>\n",
       "      <td>0.008112</td>\n",
       "      <td>0</td>\n",
       "      <td>0.533556</td>\n",
       "      <td>0.666667</td>\n",
       "      <td>0.8</td>\n",
       "      <td>0.517307</td>\n",
       "      <td>1</td>\n",
       "    </tr>\n",
       "    <tr>\n",
       "      <th>4</th>\n",
       "      <td>0.495216</td>\n",
       "      <td>0.499092</td>\n",
       "      <td>0.488897</td>\n",
       "      <td>0.499405</td>\n",
       "      <td>0.344399</td>\n",
       "      <td>0</td>\n",
       "      <td>0.746154</td>\n",
       "      <td>0.462511</td>\n",
       "      <td>0.008217</td>\n",
       "      <td>0</td>\n",
       "      <td>0.008112</td>\n",
       "      <td>0</td>\n",
       "      <td>0.533556</td>\n",
       "      <td>0.666667</td>\n",
       "      <td>0.2</td>\n",
       "      <td>0.517307</td>\n",
       "      <td>1</td>\n",
       "    </tr>\n",
       "  </tbody>\n",
       "</table>\n",
       "</div>"
      ],
      "text/plain": [
       "   FC1_Read_Input_Register  FC2_Read_Discrete_Value  \\\n",
       "0                 0.495216                 0.499092   \n",
       "1                 0.495216                 0.499092   \n",
       "2                 0.495216                 0.499092   \n",
       "3                 0.495216                 0.499092   \n",
       "4                 0.495216                 0.499092   \n",
       "\n",
       "   FC3_Read_Holding_Register  FC4_Read_Coil  current_temperature  door_state  \\\n",
       "0                   0.488897       0.499405             0.344399           0   \n",
       "1                   0.488897       0.499405             0.344399           0   \n",
       "2                   0.488897       0.499405             0.344399           0   \n",
       "3                   0.488897       0.499405             0.344399           0   \n",
       "4                   0.488897       0.499405             0.344399           0   \n",
       "\n",
       "   fridge_temperature  humidity  latitude  light_status  longitude  \\\n",
       "0            0.930769  0.462511  0.008217             0   0.008112   \n",
       "1            0.588462  0.462511  0.008217             0   0.008112   \n",
       "2            0.076923  0.462511  0.008217             0   0.008112   \n",
       "3            0.292308  0.462511  0.008217             0   0.008112   \n",
       "4            0.746154  0.462511  0.008217             0   0.008112   \n",
       "\n",
       "   motion_status  pressure  sphone_signal  temp_condition  temperature  \\\n",
       "0              0  0.533556       0.666667             0.2     0.517307   \n",
       "1              0  0.533556       0.666667             0.2     0.517307   \n",
       "2              0  0.533556       0.666667             0.8     0.517307   \n",
       "3              0  0.533556       0.666667             0.8     0.517307   \n",
       "4              0  0.533556       0.666667             0.2     0.517307   \n",
       "\n",
       "   thermostat_status  \n",
       "0                  1  \n",
       "1                  1  \n",
       "2                  1  \n",
       "3                  1  \n",
       "4                  1  "
      ]
     },
     "execution_count": 9,
     "metadata": {},
     "output_type": "execute_result"
    }
   ],
   "source": [
    "X.head()"
   ]
  },
  {
   "cell_type": "code",
   "execution_count": 10,
   "metadata": {
    "colab": {
     "base_uri": "https://localhost:8080/"
    },
    "executionInfo": {
     "elapsed": 1657,
     "status": "ok",
     "timestamp": 1604053324924,
     "user": {
      "displayName": "Sk. Tanzir Mehedi",
      "photoUrl": "https://lh3.googleusercontent.com/a-/AOh14GiBFOi6Rt2CselpQV-_Qv4fN4zd3rYfkqYUoVLQzQ=s64",
      "userId": "04625646645471127079"
     },
     "user_tz": -360
    },
    "id": "Qc42gmuXdYTE",
    "outputId": "24ef3cef-9fc5-4ff7-a4cf-463e353f57ea"
   },
   "outputs": [
    {
     "data": {
      "text/plain": [
       "0    0\n",
       "1    0\n",
       "2    0\n",
       "3    0\n",
       "4    0\n",
       "Name: label, dtype: int64"
      ]
     },
     "execution_count": 10,
     "metadata": {},
     "output_type": "execute_result"
    }
   ],
   "source": [
    "y.head()"
   ]
  },
  {
   "cell_type": "markdown",
   "metadata": {
    "id": "1v471CZ0DpxX"
   },
   "source": [
    "**Splitting Data**"
   ]
  },
  {
   "cell_type": "code",
   "execution_count": 11,
   "metadata": {
    "id": "Xt-6HOnsDngY"
   },
   "outputs": [],
   "source": [
    "# Split dataset into training set and test set\n",
    "X_train, X_test, y_train, y_test = train_test_split(X, y, test_size=0.3, random_state=1) # 70% training and 30% test"
   ]
  },
  {
   "cell_type": "code",
   "execution_count": 12,
   "metadata": {
    "colab": {
     "base_uri": "https://localhost:8080/"
    },
    "executionInfo": {
     "elapsed": 931,
     "status": "ok",
     "timestamp": 1604054199358,
     "user": {
      "displayName": "Sk. Tanzir Mehedi",
      "photoUrl": "https://lh3.googleusercontent.com/a-/AOh14GiBFOi6Rt2CselpQV-_Qv4fN4zd3rYfkqYUoVLQzQ=s64",
      "userId": "04625646645471127079"
     },
     "user_tz": -360
    },
    "id": "QpwOt4T3JJwY",
    "outputId": "fb27e957-a36d-44d6-bb41-1696610923ea"
   },
   "outputs": [
    {
     "name": "stdout",
     "output_type": "stream",
     "text": [
      "X_train shape is :  (280783, 17)\n",
      "X_test shape  is :  (120336, 17)\n",
      "y_train shape is :  (280783,)\n",
      "y_test shape is  :  (120336,)\n"
     ]
    }
   ],
   "source": [
    "# Check the shape of all of these\n",
    "print(\"X_train shape is : \", X_train.shape)\n",
    "print(\"X_test shape  is : \", X_test.shape)\n",
    "print(\"y_train shape is : \", y_train.shape)\n",
    "print(\"y_test shape is  : \", y_test.shape)"
   ]
  },
  {
   "cell_type": "markdown",
   "metadata": {
    "id": "uu8yDYOAEZlI"
   },
   "source": [
    "**Building Decision Tree Model**"
   ]
  },
  {
   "cell_type": "code",
   "execution_count": 13,
   "metadata": {
    "id": "aI8YKd80EgRn"
   },
   "outputs": [],
   "source": [
    "#Calculate start time\n",
    "start = timeit.default_timer()\n",
    "\n",
    "#Create a Gaussian Classifier\n",
    "clf=RandomForestClassifier(n_estimators=100)\n",
    "\n",
    "#Train the model using the training sets y_pred=clf.predict(X_test)\n",
    "clf.fit(X_train,y_train)\n",
    "\n",
    "#Calculate Stop time\n",
    "stop = timeit.default_timer()\n",
    "train_time= stop - start"
   ]
  },
  {
   "cell_type": "code",
   "execution_count": 14,
   "metadata": {
    "id": "zqTSnzBrE9sk"
   },
   "outputs": [],
   "source": [
    "#Calculate start time\n",
    "start = timeit.default_timer()\n",
    "\n",
    "# Predict the model\n",
    "y_pred=clf.predict(X_test)\n",
    "\n",
    "#Calculate Stop time\n",
    "stop = timeit.default_timer()\n",
    "test_time= stop - start"
   ]
  },
  {
   "cell_type": "markdown",
   "metadata": {
    "id": "cGaWzP_KEnwY"
   },
   "source": [
    "**Evaluating Model**"
   ]
  },
  {
   "cell_type": "code",
   "execution_count": 15,
   "metadata": {},
   "outputs": [
    {
     "name": "stdout",
     "output_type": "stream",
     "text": [
      "[[69921  3574]\n",
      " [12059 34782]]\n",
      "              precision    recall  f1-score   support\n",
      "\n",
      "           0       0.85      0.95      0.90     73495\n",
      "           1       0.91      0.74      0.82     46841\n",
      "\n",
      "    accuracy                           0.86    120336\n",
      "   macro avg       0.88      0.85      0.86    120336\n",
      "weighted avg       0.87      0.87      0.87    120336\n",
      "\n"
     ]
    }
   ],
   "source": [
    "print(confusion_matrix(y_test,y_pred))\n",
    "print(classification_report(y_test,y_pred))"
   ]
  },
  {
   "cell_type": "code",
   "execution_count": 16,
   "metadata": {
    "colab": {
     "base_uri": "https://localhost:8080/"
    },
    "executionInfo": {
     "elapsed": 927,
     "status": "ok",
     "timestamp": 1604054261808,
     "user": {
      "displayName": "Sk. Tanzir Mehedi",
      "photoUrl": "https://lh3.googleusercontent.com/a-/AOh14GiBFOi6Rt2CselpQV-_Qv4fN4zd3rYfkqYUoVLQzQ=s64",
      "userId": "04625646645471127079"
     },
     "user_tz": -360
    },
    "id": "0dfwhoczEpdZ",
    "outputId": "94c80e84-72e4-4fa5-e506-dfd592c4775e"
   },
   "outputs": [
    {
     "name": "stdout",
     "output_type": "stream",
     "text": [
      "Accuracy: 0.8600887514958118\n",
      "Precision: 0.9068203149442069\n",
      "Recall: 0.7425545996029119\n",
      "F1 Score: 0.81650762350787\n",
      "Mean Absolute Error: 0.12991124850418828\n",
      "Cohens kappa: 0.7174931885412094\n",
      "ROC AUC: 0.8469627205783796\n",
      "Train Time(s):  79.35775610000002\n",
      "Test Time(s):  4.1577106000000015\n"
     ]
    }
   ],
   "source": [
    "# Model Accuracy: how often is the classifier correct?\n",
    "print(\"Accuracy:\",metrics.accuracy_score(y_test, y_pred))\n",
    "\n",
    "# Model Precision: what percentage of positive tuples are labeled as such?\n",
    "print(\"Precision:\",metrics.precision_score(y_test, y_pred))\n",
    "\n",
    "# Model Recall: what percentage of positive tuples are labelled as such?\n",
    "print(\"Recall:\",metrics.recall_score(y_test, y_pred))\n",
    "\n",
    "#Calculate F1 Score\n",
    "print(\"F1 Score:\",metrics.f1_score(y_test, y_pred))\n",
    "\n",
    "#Calculate Mean Absolute Error\n",
    "print(\"Mean Absolute Error:\",metrics.mean_absolute_error(y_test, y_pred))\n",
    "\n",
    "# kappa\n",
    "print(\"Cohens kappa:\", metrics.cohen_kappa_score(y_test, y_pred))\n",
    "\n",
    "# ROC AUC\n",
    "print(\"ROC AUC:\", metrics.roc_auc_score(y_test, y_pred))\n",
    "\n",
    "#Train time\n",
    "print('Train Time(s): ',train_time) \n",
    "\n",
    "#Test time\n",
    "print('Test Time(s): ',test_time)"
   ]
  },
  {
   "cell_type": "code",
   "execution_count": 17,
   "metadata": {},
   "outputs": [],
   "source": [
    "fpr, tpr, thresholds = roc_curve(y_test, y_pred)\n",
    "\n",
    "def plot_roc_curve(fpr, tpr):\n",
    "    plt.plot(fpr, tpr, color='orange', label='ROC')\n",
    "    plt.plot([0, 1], [0, 1], color='darkblue', linestyle='--')\n",
    "    plt.xlabel('False Positive Rate')\n",
    "    plt.ylabel('True Positive Rate')\n",
    "    plt.title('Receiver Operating Characteristic (ROC) Curve')\n",
    "    plt.legend()\n",
    "    plt.show()"
   ]
  },
  {
   "cell_type": "code",
   "execution_count": 18,
   "metadata": {},
   "outputs": [
    {
     "data": {
      "image/png": "[encoded data removed]",
      "text/plain": [
       "<Figure size 432x288 with 1 Axes>"
      ]
     },
     "metadata": {
      "needs_background": "light"
     },
     "output_type": "display_data"
    }
   ],
   "source": [
    "plot_roc_curve(fpr, tpr)"
   ]
  },
  {
   "cell_type": "code",
   "execution_count": 19,
   "metadata": {},
   "outputs": [],
   "source": [
    "report = classification_report(y_test, y_pred, output_dict=True)\n",
    "df = pd.DataFrame(report).transpose()\n",
    "df.to_csv('TML-RF_Result.csv')"
   ]
  },
  {
   "cell_type": "markdown",
   "metadata": {
    "id": "NDXrYMtIIEch"
   },
   "source": [
    "**Finding Important Features in Scikit-learn**"
   ]
  },
  {
   "cell_type": "code",
   "execution_count": 20,
   "metadata": {
    "colab": {
     "base_uri": "https://localhost:8080/",
     "height": 342
    },
    "executionInfo": {
     "elapsed": 1008,
     "status": "ok",
     "timestamp": 1604054279973,
     "user": {
      "displayName": "Sk. Tanzir Mehedi",
      "photoUrl": "https://lh3.googleusercontent.com/a-/AOh14GiBFOi6Rt2CselpQV-_Qv4fN4zd3rYfkqYUoVLQzQ=s64",
      "userId": "04625646645471127079"
     },
     "user_tz": -360
    },
    "id": "sMibb17jIDu6",
    "outputId": "919700f6-7a2e-4946-c05f-a951eaf8c5ad"
   },
   "outputs": [
    {
     "data": {
      "text/plain": [
       "current_temperature          0.148124\n",
       "temp_condition               0.146584\n",
       "sphone_signal                0.137985\n",
       "latitude                     0.093226\n",
       "pressure                     0.091114\n",
       "longitude                    0.087190\n",
       "humidity                     0.052998\n",
       "temperature                  0.048549\n",
       "fridge_temperature           0.043951\n",
       "FC3_Read_Holding_Register    0.036229\n",
       "FC4_Read_Coil                0.036205\n",
       "FC2_Read_Discrete_Value      0.035954\n",
       "FC1_Read_Input_Register      0.035929\n",
       "light_status                 0.002044\n",
       "door_state                   0.001886\n",
       "motion_status                0.001865\n",
       "thermostat_status            0.000167\n",
       "dtype: float64"
      ]
     },
     "execution_count": 20,
     "metadata": {},
     "output_type": "execute_result"
    }
   ],
   "source": [
    "feature_imp = pd.Series(clf.feature_importances_,index=feature_cols).sort_values(ascending=False)\n",
    "feature_imp"
   ]
  },
  {
   "cell_type": "code",
   "execution_count": 21,
   "metadata": {
    "colab": {
     "base_uri": "https://localhost:8080/",
     "height": 265
    },
    "executionInfo": {
     "elapsed": 924,
     "status": "ok",
     "timestamp": 1604054311592,
     "user": {
      "displayName": "Sk. Tanzir Mehedi",
      "photoUrl": "https://lh3.googleusercontent.com/a-/AOh14GiBFOi6Rt2CselpQV-_Qv4fN4zd3rYfkqYUoVLQzQ=s64",
      "userId": "04625646645471127079"
     },
     "user_tz": -360
    },
    "id": "gLGNmQzci_P0",
    "outputId": "c394530b-acce-475d-ff22-34e322567cc0"
   },
   "outputs": [
    {
     "data": {
      "image/png": "[encoded data removed]",
      "text/plain": [
       "<Figure size 432x288 with 1 Axes>"
      ]
     },
     "metadata": {
      "needs_background": "light"
     },
     "output_type": "display_data"
    }
   ],
   "source": [
    "import matplotlib.pyplot as plt\n",
    "import seaborn as sns\n",
    "%matplotlib inline\n",
    "# Creating a bar plot\n",
    "sns.barplot(x=feature_imp, y=feature_imp.index)\n",
    "# Add labels to your graph\n",
    "plt.xlabel('Feature Importance Score')\n",
    "plt.ylabel('Features')\n",
    "plt.title(\"Visualizing Important Features\")\n",
    "plt.show()"
   ]
  },
  {
   "cell_type": "markdown",
   "metadata": {
    "id": "6njkTfXUcbxc"
   },
   "source": [
    "**Generating the Model on Selected Features**"
   ]
  },
  {
   "cell_type": "code",
   "execution_count": 22,
   "metadata": {
    "id": "AANBBX1ScdlL"
   },
   "outputs": [],
   "source": [
    "# Split dataset into features and labels\n",
    "X = dataset.drop(['label','motion_status','door_state','light_status','thermostat_status','FC1_Read_Input_Register','FC3_Read_Holding_Register'], axis=1) # New Features\n",
    "y=dataset['label']                                       \n",
    "# Split dataset into training set and test set\n",
    "X_train, X_test, y_train, y_test = train_test_split(X, y, test_size=0.70, random_state=5) # 70% training and 30% test"
   ]
  },
  {
   "cell_type": "code",
   "execution_count": 23,
   "metadata": {},
   "outputs": [
    {
     "name": "stdout",
     "output_type": "stream",
     "text": [
      "(401119, 11)\n"
     ]
    }
   ],
   "source": [
    "print(X.shape)"
   ]
  },
  {
   "cell_type": "code",
   "execution_count": 27,
   "metadata": {
    "id": "3_nVLG7hcmrd"
   },
   "outputs": [],
   "source": [
    "#Calculate start time\n",
    "start = timeit.default_timer()\n",
    "\n",
    "#Create a Gaussian Classifier\n",
    "clf=RandomForestClassifier(n_estimators=100)\n",
    "\n",
    "#Train the model using the training sets y_pred=clf.predict(X_test)\n",
    "clf.fit(X_train,y_train)\n",
    "\n",
    "#Calculate Stop time\n",
    "stop = timeit.default_timer()\n",
    "train_time= stop - start"
   ]
  },
  {
   "cell_type": "code",
   "execution_count": 28,
   "metadata": {},
   "outputs": [],
   "source": [
    "#Calculate start time\n",
    "start = timeit.default_timer()\n",
    "\n",
    "# Predict the model\n",
    "y_pred=clf.predict(X_test)\n",
    "\n",
    "#Calculate Stop time\n",
    "stop = timeit.default_timer()\n",
    "test_time= stop - start"
   ]
  },
  {
   "cell_type": "code",
   "execution_count": 30,
   "metadata": {},
   "outputs": [
    {
     "name": "stdout",
     "output_type": "stream",
     "text": [
      "Accuracy: 0.8470033905065816\n",
      "Precision: 0.8753789421293154\n",
      "Recall: 0.707835981304137\n",
      "F1 Score: 0.7827423849332181\n",
      "Mean Absolute Error: 0.15299660949341842\n",
      "Mean Absolute Error: 0.15299660949341842\n",
      "Cohens kappa: 0.6666981787789432\n",
      "Train Time(s):  25.27809350000001\n",
      "Test Time(s):  9.022812500000043\n"
     ]
    }
   ],
   "source": [
    "# Model Accuracy: how often is the classifier correct?\n",
    "print(\"Accuracy:\",metrics.accuracy_score(y_test, y_pred))\n",
    "\n",
    "# Model Precision: what percentage of positive tuples are labeled as such?\n",
    "print(\"Precision:\",metrics.precision_score(y_test, y_pred))\n",
    "\n",
    "# Model Recall: what percentage of positive tuples are labelled as such?\n",
    "print(\"Recall:\",metrics.recall_score(y_test, y_pred))\n",
    "\n",
    "#Calculate F1 Score\n",
    "print(\"F1 Score:\",metrics.f1_score(y_test, y_pred))\n",
    "\n",
    "#Calculate Mean Absolute Error\n",
    "print(\"Mean Absolute Error:\",metrics.mean_absolute_error(y_test, y_pred))\n",
    "\n",
    "#Calculate Mean Absolute Error\n",
    "print(\"Mean Absolute Error:\",metrics.mean_absolute_error(y_test, y_pred))\n",
    "\n",
    "# kappa\n",
    "print(\"Cohens kappa:\", metrics.cohen_kappa_score(y_test, y_pred))\n",
    "\n",
    "#Train time\n",
    "print('Train Time(s): ',train_time) \n",
    "\n",
    "#Test time\n",
    "print('Test Time(s): ',test_time)"
   ]
  },
  {
   "cell_type": "code",
   "execution_count": null,
   "metadata": {},
   "outputs": [],
   "source": []
  }
 ],
 "metadata": {
  "colab": {
   "authorship_tag": "ABX9TyMMbJWv1RQVmeLdDw/r8lPu",
   "collapsed_sections": [],
   "name": "RF on IoT Combined Dataset.ipynb",
   "provenance": [
    {
     "file_id": "https://github.com/tanzirmehedi/IoT-Dataset-Analysis/blob/main/LSTM_on_IoT_Fridge_Dataset.ipynb",
     "timestamp": 1603431193772
    }
   ]
  },
  "kernelspec": {
   "display_name": "Python 3",
   "language": "python",
   "name": "python3"
  },
  "language_info": {
   "codemirror_mode": {
    "name": "ipython",
    "version": 3
   },
   "file_extension": ".py",
   "mimetype": "text/x-python",
   "name": "python",
   "nbconvert_exporter": "python",
   "pygments_lexer": "ipython3",
   "version": "3.7.3"
  }
 },
 "nbformat": 4,
 "nbformat_minor": 1
}
